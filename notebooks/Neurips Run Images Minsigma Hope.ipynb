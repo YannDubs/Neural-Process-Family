{
 "cells": [
  {
   "cell_type": "markdown",
   "metadata": {
    "toc": true
   },
   "source": [
    "<h1>Table of Contents<span class=\"tocSkip\"></span></h1>\n",
    "<div class=\"toc\"><ul class=\"toc-item\"></ul></div>"
   ]
  },
  {
   "cell_type": "markdown",
   "metadata": {},
   "source": [
    "# NeurIPS - Run Images Hope\n",
    "\n",
    "Goal : have well trained models for image sampling\n",
    "\n",
    "Data : celeba64,mnist,svhn,celeba32\n",
    "\n",
    "Models : ConvLNPXL \n",
    "\n",
    "Loss : NLLLloss\n",
    "\n",
    "Runs : 1"
   ]
  },
  {
   "cell_type": "code",
   "execution_count": 11,
   "metadata": {
    "scrolled": true
   },
   "outputs": [],
   "source": [
    "import os\n",
    "\n",
    "os.chdir(\"..\")"
   ]
  },
  {
   "cell_type": "code",
   "execution_count": 2,
   "metadata": {},
   "outputs": [],
   "source": [
    "import submitit\n",
    "\n",
    "from train_imgs import main, parse_arguments\n",
    "from results import get_exp_args"
   ]
  },
  {
   "cell_type": "code",
   "execution_count": 3,
   "metadata": {},
   "outputs": [],
   "source": [
    "\n",
    "class Run:\n",
    "    def checkpoint(self, args):\n",
    "        \"\"\"Resubmits the same callable with the same arguments but makes sure continnue from last chckpnt.\"\"\"\n",
    "        args.is_continue_train = True\n",
    "        return submitit.utils.DelayedSubmission(self, args)\n",
    "\n",
    "    def __call__(self, args):\n",
    "        job_env = submitit.utils.JobEnvironment()\n",
    "        args.starting_run = args.starting_run * job_env.num_tasks + job_env.local_rank\n",
    "        return main(args)\n"
   ]
  },
  {
   "cell_type": "code",
   "execution_count": 17,
   "metadata": {},
   "outputs": [
    {
     "data": {
      "text/plain": [
       "1"
      ]
     },
     "execution_count": 17,
     "metadata": {},
     "output_type": "execute_result"
    }
   ],
   "source": [
    "args = get_exp_args(\"exp_hope\", is_load=False)\n",
    "len(args)"
   ]
  },
  {
   "cell_type": "code",
   "execution_count": 6,
   "metadata": {},
   "outputs": [],
   "source": [
    "executor_32=submitit.SlurmExecutor(folder=\"logs/%j\", max_num_timeout=3)\n",
    "executor_32.update_parameters(num_gpus=1, \n",
    "                           time=60*24*1,  \n",
    "                           cpus_per_task=10, \n",
    "                           mem='32GB',\n",
    "                          partition=\"priority\",\n",
    "                           comment=\"neurips\"\n",
    "                          )"
   ]
  },
  {
   "cell_type": "code",
   "execution_count": 7,
   "metadata": {},
   "outputs": [],
   "source": [
    "jobs= executor_32.map_array(Run(), args)"
   ]
  },
  {
   "cell_type": "code",
   "execution_count": 8,
   "metadata": {},
   "outputs": [],
   "source": [
    "############################################################"
   ]
  },
  {
   "cell_type": "code",
   "execution_count": 26,
   "metadata": {},
   "outputs": [
    {
     "data": {
      "text/plain": [
       "[SlurmJob<job_id=26817460_0, task_id=0, state=\"COMPLETED\">]"
      ]
     },
     "execution_count": 26,
     "metadata": {},
     "output_type": "execute_result"
    }
   ],
   "source": [
    "jobs"
   ]
  },
  {
   "cell_type": "code",
   "execution_count": 25,
   "metadata": {},
   "outputs": [
    {
     "name": "stdout",
     "output_type": "stream",
     "text": [
      "--------------------------------\n",
      "submitit INFO (2020-05-26 00:34:50,944) - Starting with JobEnvironment(job_id=26817460_0, hostname=learnfair0493, local_rank=0(1), node=0(1), global_rank=0(1))\n",
      "submitit INFO (2020-05-26 00:34:50,944) - Loading pickle: /private/home/yannd/projects/NPF/logs/26817460_0/26817460_0_submitted.pkl\n",
      "\n",
      "--- Training mnist/ConvNPFXL_NllLNPF/run_0 ---\n",
      "\n",
      "  epoch    train_loss    valid_loss    cp       dur\n",
      "-------  ------------  ------------  ----  --------\n",
      "      1     \u001b[36m-927.6429\u001b[0m    \u001b[32m-1411.4283\u001b[0m     +  955.6045\n",
      "      2    \u001b[36m-1353.7954\u001b[0m    \u001b[32m-1472.4902\u001b[0m     +  954.2092\n",
      "      3    \u001b[36m-1562.5733\u001b[0m    -1433.8629        955.0092\n",
      "      4    \u001b[36m-1679.3929\u001b[0m    \u001b[32m-1788.0330\u001b[0m     +  954.4729\n",
      "      5    \u001b[36m-1784.0745\u001b[0m    \u001b[32m-1865.1760\u001b[0m     +  955.1132\n",
      "      6    \u001b[36m-1854.9314\u001b[0m    \u001b[32m-1899.0963\u001b[0m     +  955.0936\n",
      "      7    \u001b[36m-1902.9332\u001b[0m    \u001b[32m-1938.5072\u001b[0m     +  955.3696\n",
      "      8    \u001b[36m-1950.9389\u001b[0m    \u001b[32m-1945.1159\u001b[0m     +  954.7381\n",
      "      9    \u001b[36m-1975.5394\u001b[0m    \u001b[32m-2057.5726\u001b[0m     +  955.2038\n",
      "     10    \u001b[36m-2005.1842\u001b[0m    -1996.8774        947.3034\n",
      "     11    \u001b[36m-2021.1120\u001b[0m    \u001b[32m-2104.7136\u001b[0m     +  947.0827\n",
      "     12    \u001b[36m-2051.0156\u001b[0m    -1982.1468        947.4552\n",
      "     13    -2050.1852    -2063.7607        944.6294\n",
      "     14    \u001b[36m-2069.5769\u001b[0m    -2089.2089        940.9974\n",
      "     15    \u001b[36m-2090.8104\u001b[0m    \u001b[32m-2132.8497\u001b[0m     +  944.6436\n",
      "     16    -2080.1633    -2106.6501        945.1630\n",
      "     17    -2081.1565    \u001b[32m-2155.6159\u001b[0m     +  941.5294\n",
      "     18    -2076.6282    -2110.1869        940.8436\n",
      "     19    \u001b[36m-2100.8354\u001b[0m    \u001b[32m-2167.8585\u001b[0m     +  943.7353\n",
      "     20    \u001b[36m-2102.2481\u001b[0m    -2167.2127        942.2546\n",
      "     21    -2102.0918    -2146.7573        946.6235\n",
      "     22    \u001b[36m-2115.1599\u001b[0m    \u001b[32m-2213.8993\u001b[0m     +  944.3077\n",
      "     23    \u001b[36m-2123.8641\u001b[0m    -2156.6555        942.6061\n",
      "     24    \u001b[36m-2124.4677\u001b[0m    -2122.8400        941.1729\n",
      "     25    -2119.8741    -2168.8179        939.6620\n",
      "     26    \u001b[36m-2134.2006\u001b[0m    -2199.1916        940.8103\n",
      "     27    -2124.7984    -2147.5781        943.1698\n",
      "     28    \u001b[36m-2140.6295\u001b[0m    \u001b[32m-2226.4745\u001b[0m     +  941.7955\n",
      "     29    \u001b[36m-2151.7208\u001b[0m    -2120.7536        939.2671\n",
      "     30    \u001b[36m-2166.0417\u001b[0m    -2135.9960        939.3074\n",
      "     31    -2160.2322    -2217.6082        938.4665\n",
      "     32    -2164.9990    -2216.2755        940.0985\n",
      "     33    \u001b[36m-2168.3291\u001b[0m    -2176.3012        944.7717\n",
      "     34    -2160.1273    -2195.7450        938.5579\n",
      "\n"
     ]
    }
   ],
   "source": [
    "for job in jobs:\n",
    "    print(\"--------------------------------\")\n",
    "    print(job.stdout())"
   ]
  },
  {
   "cell_type": "code",
   "execution_count": 54,
   "metadata": {},
   "outputs": [
    {
     "name": "stdout",
     "output_type": "stream",
     "text": [
      "--------------------------------\n",
      "submitit ERROR (2020-05-24 20:41:35,817) - Submitted job triggered an exception\n",
      "ERROR:submitit:Submitted job triggered an exception\n",
      "Traceback (most recent call last):\n",
      "  File \"/private/home/yannd/.conda/envs/neuralproc/lib/python3.7/runpy.py\", line 193, in _run_module_as_main\n",
      "    \"__main__\", mod_spec)\n",
      "  File \"/private/home/yannd/.conda/envs/neuralproc/lib/python3.7/runpy.py\", line 85, in _run_code\n",
      "    exec(code, run_globals)\n",
      "  File \"/private/home/yannd/.conda/envs/neuralproc/lib/python3.7/site-packages/submitit/_submit.py\", line 6, in <module>\n",
      "    submitit_main()\n",
      "  File \"/private/home/yannd/.conda/envs/neuralproc/lib/python3.7/site-packages/submitit/submission.py\", line 186, in submitit_main\n",
      "    process_job(args.folder)\n",
      "  File \"/private/home/yannd/.conda/envs/neuralproc/lib/python3.7/site-packages/submitit/submission.py\", line 179, in process_job\n",
      "    raise error\n",
      "  File \"/private/home/yannd/.conda/envs/neuralproc/lib/python3.7/site-packages/submitit/submission.py\", line 168, in process_job\n",
      "    result = delayed.result()\n",
      "  File \"/private/home/yannd/.conda/envs/neuralproc/lib/python3.7/site-packages/submitit/utils.py\", line 122, in result\n",
      "    self._result = self.function(*self.args, **self.kwargs)\n",
      "  File \"<ipython-input-3-005aca0192e0>\", line 14, in __call__\n",
      "  File \"/private/home/yannd/projects/NPF/train_imgs.py\", line 298, in main\n",
      "    is_retrain=not args.is_load,\n",
      "  File \"/private/home/yannd/projects/NPF/train_imgs.py\", line 249, in train\n",
      "    **kwargs,\n",
      "  File \"/private/home/yannd/projects/NPF/utils/train.py\", line 241, in train_models\n",
      "    trainer.load_params(checkpoint=chckpt)\n",
      "  File \"/private/home/yannd/.conda/envs/neuralproc/lib/python3.7/site-packages/skorch/net.py\", line 1656, in load_params\n",
      "    self.module_.load_state_dict(state_dict)\n",
      "  File \"/private/home/yannd/.conda/envs/neuralproc/lib/python3.7/site-packages/torch/nn/modules/module.py\", line 830, in load_state_dict\n",
      "    self.__class__.__name__, \"\\n\\t\".join(error_msgs)))\n",
      "RuntimeError: Error(s) in loading state_dict for GridConvLNP:\n",
      "\tMissing key(s) in state_dict: \"induced_to_induced.conv_blocks.5.conv1.depthwise.weight\", \"induced_to_induced.conv_blocks.5.conv1.depthwise.bias\", \"induced_to_induced.conv_blocks.5.conv1.pointwise.weight\", \"induced_to_induced.conv_blocks.5.conv1.pointwise.bias\", \"induced_to_induced.conv_blocks.5.conv2_depthwise.weight\", \"induced_to_induced.conv_blocks.5.conv2_depthwise.bias\", \"induced_to_induced.conv_blocks.5.conv2_pointwise.weight\", \"induced_to_induced.conv_blocks.5.conv2_pointwise.bias\", \"induced_to_induced.conv_blocks.6.conv1.depthwise.weight\", \"induced_to_induced.conv_blocks.6.conv1.depthwise.bias\", \"induced_to_induced.conv_blocks.6.conv1.pointwise.weight\", \"induced_to_induced.conv_blocks.6.conv1.pointwise.bias\", \"induced_to_induced.conv_blocks.6.conv2_depthwise.weight\", \"induced_to_induced.conv_blocks.6.conv2_depthwise.bias\", \"induced_to_induced.conv_blocks.6.conv2_pointwise.weight\", \"induced_to_induced.conv_blocks.6.conv2_pointwise.bias\", \"induced_to_induced.conv_blocks.7.conv1.depthwise.weight\", \"induced_to_induced.conv_blocks.7.conv1.depthwise.bias\", \"induced_to_induced.conv_blocks.7.conv1.pointwise.weight\", \"induced_to_induced.conv_blocks.7.conv1.pointwise.bias\", \"induced_to_induced.conv_blocks.7.conv2_depthwise.weight\", \"induced_to_induced.conv_blocks.7.conv2_depthwise.bias\", \"induced_to_induced.conv_blocks.7.conv2_pointwise.weight\", \"induced_to_induced.conv_blocks.7.conv2_pointwise.bias\". \n",
      "\tUnexpected key(s) in state_dict: \"induced_to_induced_post_sampling.conv_blocks.3.conv1.depthwise.weight\", \"induced_to_induced_post_sampling.conv_blocks.3.conv1.depthwise.bias\", \"induced_to_induced_post_sampling.conv_blocks.3.conv1.pointwise.weight\", \"induced_to_induced_post_sampling.conv_blocks.3.conv1.pointwise.bias\", \"induced_to_induced_post_sampling.conv_blocks.3.conv2_depthwise.weight\", \"induced_to_induced_post_sampling.conv_blocks.3.conv2_depthwise.bias\", \"induced_to_induced_post_sampling.conv_blocks.3.conv2_pointwise.weight\", \"induced_to_induced_post_sampling.conv_blocks.3.conv2_pointwise.bias\", \"induced_to_induced_post_sampling.conv_blocks.4.conv1.depthwise.weight\", \"induced_to_induced_post_sampling.conv_blocks.4.conv1.depthwise.bias\", \"induced_to_induced_post_sampling.conv_blocks.4.conv1.pointwise.weight\", \"induced_to_induced_post_sampling.conv_blocks.4.conv1.pointwise.bias\", \"induced_to_induced_post_sampling.conv_blocks.4.conv2_depthwise.weight\", \"induced_to_induced_post_sampling.conv_blocks.4.conv2_depthwise.bias\", \"induced_to_induced_post_sampling.conv_blocks.4.conv2_pointwise.weight\", \"induced_to_induced_post_sampling.conv_blocks.4.conv2_pointwise.bias\". \n",
      "srun: error: learnfair0631: task 0: Exited with exit code 1\n",
      "srun: Terminating job step 26760533.0\n",
      "\n",
      "--------------------------------\n",
      "/private/home/yannd/projects/NPF/neuralproc/architectures/mlp.py:67: UserWarning: hidden_size=32 smaller than output=128 and input=128. Setting it to 128.\n",
      "  warnings.warn(txt.format(hidden_size, output_size, input_size, self.hidden_size))\n",
      "INFO:submitit:Job completed successfully\n",
      "\n",
      "--------------------------------\n",
      "INFO:submitit:Job completed successfully\n",
      "\n",
      "--------------------------------\n",
      "/private/home/yannd/projects/NPF/neuralproc/architectures/mlp.py:67: UserWarning: hidden_size=32 smaller than output=128 and input=128. Setting it to 128.\n",
      "  warnings.warn(txt.format(hidden_size, output_size, input_size, self.hidden_size))\n",
      "INFO:submitit:Job completed successfully\n",
      "\n",
      "--------------------------------\n",
      "INFO:submitit:Job completed successfully\n",
      "\n",
      "--------------------------------\n",
      "/private/home/yannd/projects/NPF/neuralproc/architectures/mlp.py:67: UserWarning: hidden_size=32 smaller than output=128 and input=128. Setting it to 128.\n",
      "  warnings.warn(txt.format(hidden_size, output_size, input_size, self.hidden_size))\n",
      "INFO:submitit:Job completed successfully\n",
      "\n"
     ]
    }
   ],
   "source": [
    "for j in jobs_32:\n",
    "    print(\"--------------------------------\")\n",
    "    print(j.stderr())"
   ]
  },
  {
   "cell_type": "code",
   "execution_count": 21,
   "metadata": {},
   "outputs": [],
   "source": [
    "for job in jobs_64:\n",
    "    job.cancel()"
   ]
  },
  {
   "cell_type": "code",
   "execution_count": null,
   "metadata": {},
   "outputs": [],
   "source": []
  }
 ],
 "metadata": {
  "kernelspec": {
   "display_name": "Python 3",
   "language": "python",
   "name": "python3"
  },
  "language_info": {
   "codemirror_mode": {
    "name": "ipython",
    "version": 3
   },
   "file_extension": ".py",
   "mimetype": "text/x-python",
   "name": "python",
   "nbconvert_exporter": "python",
   "pygments_lexer": "ipython3",
   "version": "3.7.6"
  },
  "toc": {
   "base_numbering": 1,
   "nav_menu": {},
   "number_sections": true,
   "sideBar": true,
   "skip_h1_title": true,
   "title_cell": "Table of Contents",
   "title_sidebar": "Contents",
   "toc_cell": true,
   "toc_position": {},
   "toc_section_display": true,
   "toc_window_display": false
  }
 },
 "nbformat": 4,
 "nbformat_minor": 4
}
