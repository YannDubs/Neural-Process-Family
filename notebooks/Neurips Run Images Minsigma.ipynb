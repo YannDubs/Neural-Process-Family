{
 "cells": [
  {
   "cell_type": "markdown",
   "metadata": {
    "toc": true
   },
   "source": [
    "<h1>Table of Contents<span class=\"tocSkip\"></span></h1>\n",
    "<div class=\"toc\"><ul class=\"toc-item\"></ul></div>"
   ]
  },
  {
   "cell_type": "markdown",
   "metadata": {},
   "source": [
    "# NeurIPS - Run Images Min sigma\n",
    "\n",
    "Goal : have well trained models for image sampling\n",
    "\n",
    "Data : celeba64,mnist,svhn,celeba32\n",
    "\n",
    "Models : ConvLNPXL \n",
    "\n",
    "Loss : NLLLloss\n",
    "\n",
    "Runs : 1"
   ]
  },
  {
   "cell_type": "code",
   "execution_count": 1,
   "metadata": {
    "scrolled": true
   },
   "outputs": [],
   "source": [
    "import os\n",
    "\n",
    "os.chdir(\"..\")"
   ]
  },
  {
   "cell_type": "code",
   "execution_count": 2,
   "metadata": {},
   "outputs": [],
   "source": [
    "import submitit\n",
    "\n",
    "from train_imgs import main, parse_arguments\n",
    "from results import get_exp_args"
   ]
  },
  {
   "cell_type": "code",
   "execution_count": 3,
   "metadata": {},
   "outputs": [],
   "source": [
    "\n",
    "class Run:\n",
    "    def checkpoint(self, args):\n",
    "        \"\"\"Resubmits the same callable with the same arguments but makes sure continnue from last chckpnt.\"\"\"\n",
    "        args.is_continue_train = True\n",
    "        return submitit.utils.DelayedSubmission(self, args)\n",
    "\n",
    "    def __call__(self, args):\n",
    "        job_env = submitit.utils.JobEnvironment()\n",
    "        args.starting_run = args.starting_run * job_env.num_tasks + job_env.local_rank\n",
    "        return main(args)\n"
   ]
  },
  {
   "cell_type": "code",
   "execution_count": 4,
   "metadata": {},
   "outputs": [
    {
     "data": {
      "text/plain": [
       "7"
      ]
     },
     "execution_count": 4,
     "metadata": {},
     "output_type": "execute_result"
    }
   ],
   "source": [
    "args = get_exp_args(\"exp_images_minsig\", is_load=False)\n",
    "len(args)"
   ]
  },
  {
   "cell_type": "code",
   "execution_count": 5,
   "metadata": {},
   "outputs": [],
   "source": [
    "args_64 = [arg for arg in args if arg.dataset==\"celeba64\"]\n",
    "args_32 = [arg for arg in args if arg.dataset!=\"celeba64\"]"
   ]
  },
  {
   "cell_type": "code",
   "execution_count": 7,
   "metadata": {},
   "outputs": [],
   "source": [
    "executor_64=submitit.SlurmExecutor(folder=\"logs/%j\", max_num_timeout=3)\n",
    "executor_64.update_parameters(num_gpus=1, \n",
    "                           time=60*24*2,  \n",
    "                           cpus_per_task=10, \n",
    "                           mem='32GB',\n",
    "                          partition=\"priority\",\n",
    "                           comment=\"neurips\",\n",
    "                           constraint=\"volta32gb\"\n",
    "                          )"
   ]
  },
  {
   "cell_type": "code",
   "execution_count": 8,
   "metadata": {},
   "outputs": [],
   "source": [
    "executor_32=submitit.SlurmExecutor(folder=\"logs/%j\", max_num_timeout=3)\n",
    "executor_32.update_parameters(num_gpus=1, \n",
    "                           time=60*24*2,  \n",
    "                           cpus_per_task=10, \n",
    "                           mem='32GB',\n",
    "                          partition=\"priority\",\n",
    "                           comment=\"neurips\"\n",
    "                          )"
   ]
  },
  {
   "cell_type": "code",
   "execution_count": 9,
   "metadata": {},
   "outputs": [],
   "source": [
    "jobs_32 = executor_32.map_array(Run(), args_32)"
   ]
  },
  {
   "cell_type": "code",
   "execution_count": 10,
   "metadata": {},
   "outputs": [],
   "source": [
    "jobs_64 = executor_64.map_array(Run(), args_64)"
   ]
  },
  {
   "cell_type": "code",
   "execution_count": 11,
   "metadata": {},
   "outputs": [],
   "source": [
    "############################################################"
   ]
  },
  {
   "cell_type": "code",
   "execution_count": 22,
   "metadata": {},
   "outputs": [
    {
     "data": {
      "text/plain": [
       "[SlurmJob<job_id=26816891_0, task_id=0, state=\"RUNNING\">,\n",
       " SlurmJob<job_id=26816891_1, task_id=0, state=\"RUNNING\">,\n",
       " SlurmJob<job_id=26816891_2, task_id=0, state=\"COMPLETED\">,\n",
       " SlurmJob<job_id=26816891_3, task_id=0, state=\"COMPLETED\">,\n",
       " SlurmJob<job_id=26816891_4, task_id=0, state=\"COMPLETED\">,\n",
       " SlurmJob<job_id=26816891_5, task_id=0, state=\"COMPLETED\">]"
      ]
     },
     "execution_count": 22,
     "metadata": {},
     "output_type": "execute_result"
    }
   ],
   "source": [
    "jobs_32"
   ]
  },
  {
   "cell_type": "code",
   "execution_count": 21,
   "metadata": {},
   "outputs": [
    {
     "data": {
      "text/plain": [
       "[SlurmJob<job_id=26816892_0, task_id=0, state=\"RUNNING\">]"
      ]
     },
     "execution_count": 21,
     "metadata": {},
     "output_type": "execute_result"
    }
   ],
   "source": [
    "jobs_64"
   ]
  },
  {
   "cell_type": "code",
   "execution_count": 19,
   "metadata": {},
   "outputs": [
    {
     "name": "stdout",
     "output_type": "stream",
     "text": [
      "--------------------------------\n",
      "submitit INFO (2020-05-25 23:31:11,034) - Starting with JobEnvironment(job_id=26816891_0, hostname=learnfair0222, local_rank=0(1), node=0(1), global_rank=0(1))\n",
      "submitit INFO (2020-05-25 23:31:11,034) - Loading pickle: /private/home/yannd/projects/NPF/logs/26816891_0/26816891_0_submitted.pkl\n",
      "\n",
      "--- Training celeba32/ConvNPFXL_NllLNPF/run_0 ---\n",
      "\n",
      "  epoch    train_loss    valid_loss    cp        dur\n",
      "-------  ------------  ------------  ----  ---------\n",
      "      1    \u001b[36m-2396.2040\u001b[0m    \u001b[32m-2970.1083\u001b[0m     +  1684.7565\n",
      "      2    \u001b[36m-3073.2474\u001b[0m    \u001b[32m-3526.9835\u001b[0m     +  1607.1930\n",
      "      3    \u001b[36m-3405.1207\u001b[0m    \u001b[32m-3546.4629\u001b[0m     +  1590.9843\n",
      "      4    \u001b[36m-3596.5188\u001b[0m    \u001b[32m-3718.3481\u001b[0m     +  1590.3416\n",
      "      5    \u001b[36m-3722.8393\u001b[0m    \u001b[32m-3830.5934\u001b[0m     +  1589.1623\n",
      "      6    \u001b[36m-3805.7429\u001b[0m    \u001b[32m-4001.2037\u001b[0m     +  1590.5324\n",
      "      7    \u001b[36m-3875.2835\u001b[0m    -3902.6061        1599.1967\n",
      "      8    \u001b[36m-3934.8339\u001b[0m    \u001b[32m-4039.5530\u001b[0m     +  1612.9628\n",
      "      9    \u001b[36m-3950.6894\u001b[0m    -4029.4130        1601.4513\n",
      "     10    \u001b[36m-3994.0340\u001b[0m    -4030.6578        1568.5590\n",
      "     11    -3991.3602    -4009.6319        1556.5287\n",
      "     12    -3991.8750    \u001b[32m-4091.1999\u001b[0m     +  1552.0962\n",
      "     13    \u001b[36m-4031.6316\u001b[0m    \u001b[32m-4160.8373\u001b[0m     +  1544.1588\n",
      "     14    -4024.9772    -4138.8843        1541.2462\n",
      "     15    \u001b[36m-4055.3748\u001b[0m    -4089.7540        1539.3556\n",
      "     16    \u001b[36m-4055.7918\u001b[0m    -4079.8550        1538.7083\n",
      "\n",
      "--------------------------------\n",
      "submitit INFO (2020-05-25 23:31:11,034) - Starting with JobEnvironment(job_id=26816891_1, hostname=learnfair0222, local_rank=0(1), node=0(1), global_rank=0(1))\n",
      "submitit INFO (2020-05-25 23:31:11,034) - Loading pickle: /private/home/yannd/projects/NPF/logs/26816891_1/26816891_1_submitted.pkl\n",
      "\n",
      "--- Training celeba32/SelfAttnNPF_NllLNPF/run_0 ---\n",
      "\n",
      "  epoch    train_loss    valid_loss    cp        dur\n",
      "-------  ------------  ------------  ----  ---------\n",
      "      1    \u001b[36m-2506.6279\u001b[0m    \u001b[32m-3032.3593\u001b[0m     +  1163.7226\n",
      "      2    \u001b[36m-3136.6507\u001b[0m    \u001b[32m-3277.9378\u001b[0m     +  980.3365\n",
      "      3    \u001b[36m-3279.7212\u001b[0m    \u001b[32m-3352.8814\u001b[0m     +  980.0427\n",
      "      4    \u001b[36m-3368.5151\u001b[0m    \u001b[32m-3404.8434\u001b[0m     +  981.5355\n",
      "      5    \u001b[36m-3432.8952\u001b[0m    \u001b[32m-3523.9844\u001b[0m     +  982.3726\n",
      "      6    \u001b[36m-3486.7088\u001b[0m    \u001b[32m-3598.8938\u001b[0m     +  984.6560\n",
      "      7    \u001b[36m-3530.6298\u001b[0m    -3581.8814        984.7790\n",
      "      8    \u001b[36m-3574.4523\u001b[0m    \u001b[32m-3614.7884\u001b[0m     +  985.4510\n",
      "      9    \u001b[36m-3586.3828\u001b[0m    \u001b[32m-3645.2220\u001b[0m     +  982.9214\n",
      "     10    \u001b[36m-3622.6646\u001b[0m    \u001b[32m-3660.5427\u001b[0m     +  985.9399\n",
      "     11    \u001b[36m-3624.7181\u001b[0m    \u001b[32m-3663.4566\u001b[0m     +  989.7214\n",
      "     12    -3623.1551    \u001b[32m-3715.8540\u001b[0m     +  992.2935\n",
      "     13    \u001b[36m-3663.1517\u001b[0m    \u001b[32m-3769.6956\u001b[0m     +  993.4187\n",
      "     14    -3656.4008    -3751.7849        988.5913\n",
      "     15    \u001b[36m-3685.9364\u001b[0m    -3713.8154        988.8817\n",
      "     16    \u001b[36m-3688.1085\u001b[0m    -3747.2783        993.2365\n",
      "     17    \u001b[36m-3692.8393\u001b[0m    -3756.9172        987.5234\n",
      "     18    \u001b[36m-3707.3014\u001b[0m    -3764.4348        992.7817\n",
      "     19    \u001b[36m-3727.6766\u001b[0m    \u001b[32m-3802.0497\u001b[0m     +  982.2979\n",
      "     20    \u001b[36m-3736.3540\u001b[0m    -3756.2083        977.0214\n",
      "     21    \u001b[36m-3750.4857\u001b[0m    \u001b[32m-3836.1105\u001b[0m     +  979.2636\n",
      "     22    \u001b[36m-3763.7203\u001b[0m    -3762.7600        973.9144\n",
      "     23    -3750.1506    -3802.3311        970.8725\n",
      "     24    -3749.3865    -3786.9580        971.3292\n",
      "     25    \u001b[36m-3770.0116\u001b[0m    -3746.7983        971.0562\n",
      "     26    \u001b[36m-3774.4751\u001b[0m    \u001b[32m-3863.0273\u001b[0m     +  972.0756\n",
      "\n",
      "--------------------------------\n",
      "submitit INFO (2020-05-25 23:31:11,984) - Starting with JobEnvironment(job_id=26816891_2, hostname=learnfair0239, local_rank=0(1), node=0(1), global_rank=0(1))\n",
      "submitit INFO (2020-05-25 23:31:11,985) - Loading pickle: /private/home/yannd/projects/NPF/logs/26816891_2/26816891_2_submitted.pkl\n",
      "Using downloaded and verified file: /private/home/yannd/data/train_32x32.mat\n",
      "Using downloaded and verified file: /private/home/yannd/data/test_32x32.mat\n",
      "\n",
      "--- Training svhn/ConvNPFXL_NllLNPF/run_0 ---\n",
      "\n",
      "  epoch    train_loss    valid_loss    cp       dur\n",
      "-------  ------------  ------------  ----  --------\n",
      "      1    \u001b[36m-3747.0400\u001b[0m    \u001b[32m-4785.7689\u001b[0m     +  581.1727\n",
      "      2    \u001b[36m-5368.9615\u001b[0m    -3346.1335        579.7627\n",
      "      3    \u001b[36m-5867.1381\u001b[0m    \u001b[32m-6138.9219\u001b[0m     +  580.0678\n",
      "      4    -4057.8458    -5531.0970        580.1606\n",
      "      5    -5738.7865    \u001b[32m-6158.1656\u001b[0m     +  578.8476\n",
      "      6    -5247.8583    -6137.7181        580.1053\n",
      "      7    \u001b[36m-6164.3407\u001b[0m    \u001b[32m-6177.4907\u001b[0m     +  580.0664\n",
      "      8    \u001b[36m-6232.9663\u001b[0m    \u001b[32m-6351.7578\u001b[0m     +  580.7850\n",
      "      9    \u001b[36m-6375.1696\u001b[0m    \u001b[32m-6460.6713\u001b[0m     +  579.1148\n",
      "     10    \u001b[36m-6417.1817\u001b[0m    -6421.9098        580.3781\n",
      "     11    \u001b[36m-6505.3945\u001b[0m    \u001b[32m-6567.3226\u001b[0m     +  579.8569\n",
      "     12    \u001b[36m-6557.5761\u001b[0m    \u001b[32m-6585.8214\u001b[0m     +  580.3505\n",
      "     13    \u001b[36m-6621.9362\u001b[0m    \u001b[32m-6656.6952\u001b[0m     +  579.4132\n",
      "     14    \u001b[36m-6630.6773\u001b[0m    \u001b[32m-6663.4638\u001b[0m     +  579.6093\n",
      "     15    \u001b[36m-6639.2006\u001b[0m    -6421.7066        580.9774\n",
      "     16    \u001b[36m-6689.0618\u001b[0m    -6606.3510        580.7509\n",
      "     17    -6686.6812    \u001b[32m-6742.7871\u001b[0m     +  579.4799\n",
      "     18    \u001b[36m-6694.8249\u001b[0m    \u001b[32m-6820.3194\u001b[0m     +  579.5852\n",
      "     19    \u001b[36m-6756.3015\u001b[0m    -6788.4087        581.0233\n",
      "     20    -6747.0898    -6678.0087        581.1382\n",
      "     21    -6751.1748    -6566.1861        580.8821\n",
      "     22    \u001b[36m-6757.5058\u001b[0m    -6775.9983        581.1832\n",
      "     23    \u001b[36m-6773.1009\u001b[0m    -6737.7788        580.8651\n",
      "     24    \u001b[36m-6804.5017\u001b[0m    \u001b[32m-6903.4864\u001b[0m     +  580.5605\n",
      "     25    \u001b[36m-6813.3043\u001b[0m    -6840.1963        581.0702\n",
      "     26    -6795.9802    -6747.0314        579.7463\n",
      "     27    -6778.7545    -6860.1757        579.8231\n",
      "     28    -6785.6607    -6796.1718        580.2191\n",
      "     29    -6769.0239    -6569.0056        580.4682\n",
      "     30    -6754.5795    -6534.7207        580.3699\n",
      "     31    \u001b[36m-6836.8059\u001b[0m    \u001b[32m-6921.3820\u001b[0m     +  580.9903\n",
      "     32    -6805.1517    -6835.1433        579.6780\n",
      "     33    -6829.3961    -6792.4566        582.9035\n",
      "     34    -6804.1569    -6813.1718        584.5628\n",
      "     35    -6811.3895    -6835.0533        584.3057\n",
      "     36    -6792.0318    -6810.9363        584.5441\n",
      "     37    -6790.4505    -6859.8327        584.0204\n",
      "     38    -6818.5137    -6785.2250        584.4020\n",
      "     39    -6780.7150    -6895.6676        584.0785\n",
      "     40    -6789.1707    -6838.9462        584.6629\n",
      "Stopping since valid_loss has not improved in the last 10 epochs.\n",
      "Re-initializing module.\n",
      "Re-initializing optimizer.\n",
      "svhn/ConvNPFXL_NllLNPF/run_0 | best epoch: 31 | train loss: -6836.8059 | valid loss: -6921.382 | test log likelihood: 6945.9458\n",
      "submitit INFO (2020-05-26 06:11:09,994) - Job completed successfully\n",
      "\n",
      "--------------------------------\n",
      "submitit INFO (2020-05-25 23:31:11,984) - Starting with JobEnvironment(job_id=26816891_3, hostname=learnfair0239, local_rank=0(1), node=0(1), global_rank=0(1))\n",
      "submitit INFO (2020-05-25 23:31:11,985) - Loading pickle: /private/home/yannd/projects/NPF/logs/26816891_3/26816891_3_submitted.pkl\n",
      "Using downloaded and verified file: /private/home/yannd/data/train_32x32.mat\n",
      "Using downloaded and verified file: /private/home/yannd/data/test_32x32.mat\n",
      "\n",
      "--- Training svhn/SelfAttnNPF_NllLNPF/run_0 ---\n",
      "\n",
      "  epoch    train_loss    valid_loss    cp       dur\n",
      "-------  ------------  ------------  ----  --------\n",
      "      1    \u001b[36m-4316.6557\u001b[0m    \u001b[32m-5461.8894\u001b[0m     +  358.9748\n",
      "      2    \u001b[36m-5556.0927\u001b[0m    \u001b[32m-5857.0864\u001b[0m     +  354.4178\n",
      "      3    \u001b[36m-5930.4786\u001b[0m    \u001b[32m-6031.9250\u001b[0m     +  354.2749\n",
      "      4    \u001b[36m-6046.7035\u001b[0m    \u001b[32m-6047.0528\u001b[0m     +  353.5791\n",
      "      5    \u001b[36m-6106.2036\u001b[0m    \u001b[32m-6159.2051\u001b[0m     +  353.7831\n",
      "      6    \u001b[36m-6134.1694\u001b[0m    \u001b[32m-6323.2774\u001b[0m     +  353.5356\n",
      "      7    \u001b[36m-6267.8160\u001b[0m    -6255.9366        355.1099\n",
      "      8    -6246.5664    \u001b[32m-6371.3344\u001b[0m     +  352.8771\n",
      "      9    \u001b[36m-6310.1086\u001b[0m    -6313.4108        358.2071\n",
      "     10    -6300.1204    -6194.2014        355.4687\n",
      "     11    \u001b[36m-6343.7108\u001b[0m    -6330.0500        353.0809\n",
      "     12    \u001b[36m-6378.1733\u001b[0m    \u001b[32m-6374.8258\u001b[0m     +  354.1449\n",
      "     13    \u001b[36m-6415.4153\u001b[0m    \u001b[32m-6444.0332\u001b[0m     +  354.6556\n",
      "     14    \u001b[36m-6421.4941\u001b[0m    \u001b[32m-6501.0034\u001b[0m     +  356.1890\n",
      "     15    \u001b[36m-6430.5825\u001b[0m    -6388.8953        353.8079\n",
      "     16    \u001b[36m-6469.7646\u001b[0m    -6418.8881        354.0769\n",
      "     17    \u001b[36m-6478.3525\u001b[0m    \u001b[32m-6530.8912\u001b[0m     +  353.7357\n",
      "     18    \u001b[36m-6489.4028\u001b[0m    -6489.4386        355.1790\n",
      "     19    \u001b[36m-6542.2168\u001b[0m    \u001b[32m-6557.8029\u001b[0m     +  354.9227\n",
      "     20    -6539.2987    -6489.8563        355.7365\n",
      "     21    \u001b[36m-6548.8682\u001b[0m    \u001b[32m-6571.0306\u001b[0m     +  354.2729\n",
      "     22    \u001b[36m-6551.3713\u001b[0m    \u001b[32m-6595.3804\u001b[0m     +  354.7733\n",
      "     23    \u001b[36m-6570.7027\u001b[0m    \u001b[32m-6639.8544\u001b[0m     +  353.4902\n",
      "     24    \u001b[36m-6602.6397\u001b[0m    \u001b[32m-6692.2437\u001b[0m     +  355.4520\n",
      "     25    \u001b[36m-6607.3951\u001b[0m    -6622.3828        353.6992\n",
      "     26    -6595.8202    -6532.9731        354.6888\n",
      "     27    -6577.5902    -6644.8559        354.6285\n",
      "     28    -6592.0045    -6607.0920        353.3666\n",
      "     29    -6578.1342    -6577.9497        353.8148\n",
      "     30    -6573.5094    -6493.3066        353.3756\n",
      "     31    \u001b[36m-6645.4513\u001b[0m    \u001b[32m-6716.4143\u001b[0m     +  353.5681\n",
      "     32    -6632.2522    -6636.2403        355.3667\n",
      "     33    \u001b[36m-6647.1385\u001b[0m    -6558.1660        355.9864\n",
      "     34    -6621.3954    -6624.9629        352.7567\n",
      "     35    -6632.6422    -6621.0339        352.3543\n",
      "     36    -6631.1935    -6709.3006        352.9761\n",
      "     37    \u001b[36m-6654.5184\u001b[0m    -6687.9324        353.3367\n",
      "     38    \u001b[36m-6655.9148\u001b[0m    -6654.0504        354.1395\n",
      "     39    -6623.8303    \u001b[32m-6719.7871\u001b[0m     +  355.0923\n",
      "     40    -6631.1819    -6668.3041        352.6370\n",
      "     41    -6620.6934    -6714.2002        351.7225\n",
      "     42    -6650.9885    -6616.3883        352.0621\n",
      "     43    \u001b[36m-6692.0633\u001b[0m    \u001b[32m-6743.2292\u001b[0m     +  352.1253\n",
      "     44    -6650.9478    -6610.2573        353.6213\n",
      "     45    -6640.1216    -6613.9129        351.3319\n",
      "     46    -6676.3417    -6712.8195        353.1040\n",
      "     47    -6647.4669    -6688.5282        353.2886\n",
      "     48    -6660.9445    -6596.9377        352.0325\n",
      "     49    \u001b[36m-6703.9998\u001b[0m    -6566.0011        352.6031\n",
      "     50    -6674.0019    -6673.6093        352.1142\n",
      "Re-initializing module.\n",
      "Re-initializing optimizer.\n",
      "svhn/SelfAttnNPF_NllLNPF/run_0 | best epoch: 43 | train loss: -6692.0633 | valid loss: -6743.2292 | test log likelihood: 6814.3711\n",
      "submitit INFO (2020-05-26 04:28:42,584) - Job completed successfully\n",
      "\n",
      "--------------------------------\n",
      "submitit INFO (2020-05-25 23:31:11,984) - Starting with JobEnvironment(job_id=26816891_4, hostname=learnfair0239, local_rank=0(1), node=0(1), global_rank=0(1))\n",
      "submitit INFO (2020-05-25 23:31:11,985) - Loading pickle: /private/home/yannd/projects/NPF/logs/26816891_4/26816891_4_submitted.pkl\n",
      "\n",
      "--- Training mnist/ConvNPFXL_NllLNPF/run_0 ---\n",
      "\n",
      "  epoch    train_loss    valid_loss    cp       dur\n",
      "-------  ------------  ------------  ----  --------\n",
      "      1     \u001b[36m-956.7099\u001b[0m    \u001b[32m-1183.6859\u001b[0m     +  473.9046\n",
      "      2    \u001b[36m-1371.6749\u001b[0m    \u001b[32m-1337.9963\u001b[0m     +  473.1638\n",
      "      3    \u001b[36m-1552.8734\u001b[0m    \u001b[32m-1489.3645\u001b[0m     +  473.4410\n",
      "      4    \u001b[36m-1633.5841\u001b[0m    \u001b[32m-1737.2970\u001b[0m     +  473.1316\n",
      "      5    \u001b[36m-1672.2839\u001b[0m    -1698.7038        472.1368\n",
      "      6    \u001b[36m-1712.4892\u001b[0m    \u001b[32m-1788.0481\u001b[0m     +  472.0957\n",
      "      7    \u001b[36m-1722.6837\u001b[0m    -1738.2963        472.0649\n",
      "      8    \u001b[36m-1773.4407\u001b[0m    \u001b[32m-1814.8968\u001b[0m     +  472.0304\n",
      "      9    \u001b[36m-1784.0738\u001b[0m    -1793.2219        472.3659\n",
      "     10    \u001b[36m-1798.1555\u001b[0m    -1796.8644        472.5397\n",
      "     11    \u001b[36m-1828.3922\u001b[0m    -1806.4816        472.0335\n",
      "     12    -1807.2760    -1784.2279        471.9598\n",
      "     13    -1821.8162    \u001b[32m-1864.0136\u001b[0m     +  471.9784\n",
      "     14    \u001b[36m-1862.3442\u001b[0m    \u001b[32m-1877.5208\u001b[0m     +  471.9266\n",
      "     15    -1848.3565    -1867.8554        471.8017\n",
      "     16    \u001b[36m-1872.7879\u001b[0m    -1841.0718        471.7456\n",
      "     17    \u001b[36m-1876.9222\u001b[0m    \u001b[32m-1926.1748\u001b[0m     +  471.8473\n",
      "     18    -1860.9766    \u001b[32m-1938.7158\u001b[0m     +  471.7871\n",
      "     19    \u001b[36m-1892.3248\u001b[0m    -1933.3873        471.7651\n",
      "     20    -1891.8411    \u001b[32m-1939.9313\u001b[0m     +  471.7425\n",
      "     21    \u001b[36m-1903.0721\u001b[0m    -1897.8646        471.7666\n",
      "     22    -1896.9110    \u001b[32m-1960.0645\u001b[0m     +  471.7505\n",
      "     23    \u001b[36m-1921.6393\u001b[0m    -1950.5010        471.8714\n",
      "     24    -1906.6513    -1949.9037        471.7862\n",
      "     25    -1908.4232    -1920.4112        471.7334\n",
      "     26    -1918.8100    -1958.5560        471.7755\n",
      "     27    -1918.0920    -1930.9565        471.7492\n",
      "     28    \u001b[36m-1927.4865\u001b[0m    -1945.1914        471.7884\n",
      "     29    \u001b[36m-1933.2576\u001b[0m    \u001b[32m-1969.0369\u001b[0m     +  471.6612\n",
      "     30    \u001b[36m-1949.7624\u001b[0m    \u001b[32m-1969.6279\u001b[0m     +  471.8285\n",
      "     31    -1924.3511    \u001b[32m-1970.0351\u001b[0m     +  472.1234\n",
      "     32    -1929.1548    -1933.9249        472.5606\n",
      "     33    -1928.9049    \u001b[32m-1978.8545\u001b[0m     +  472.9669\n",
      "     34    -1924.1055    -1948.0587        472.9082\n",
      "     35    -1926.5569    -1947.0948        472.9155\n",
      "     36    -1903.0985    -1935.9694        472.8890\n",
      "     37    -1931.2029    \u001b[32m-1979.4118\u001b[0m     +  472.8881\n",
      "     38    \u001b[36m-1950.7763\u001b[0m    \u001b[32m-2004.0594\u001b[0m     +  473.6945\n",
      "     39    -1936.4494    \u001b[32m-2020.6445\u001b[0m     +  472.1445\n",
      "     40    -1944.3182    -1962.2720        474.9786\n",
      "     41    -1938.7885    -2006.8565        478.4353\n",
      "     42    -1931.1751    -1960.6046        478.2663\n",
      "     43    -1945.2426    -1928.5643        478.1062\n",
      "     44    -1945.9085    \u001b[32m-2028.6251\u001b[0m     +  478.3440\n",
      "     45    -1949.5888    -1992.1838        478.2550\n",
      "     46    -1945.6483    -1933.1509        478.2601\n",
      "     47    \u001b[36m-1951.7233\u001b[0m    -1954.6760        478.4088\n",
      "     48    -1948.1971    -1896.9815        478.2069\n",
      "     49    -1948.7938    -2014.0597        478.4577\n",
      "     50    -1922.9320    -2005.7923        478.4212\n",
      "Re-initializing module.\n",
      "Re-initializing optimizer.\n",
      "mnist/ConvNPFXL_NllLNPF/run_0 | best epoch: 44 | train loss: -1950.7763 | valid loss: -2028.6251 | test log likelihood: 1951.5406\n",
      "submitit INFO (2020-05-26 06:07:30,788) - Job completed successfully\n",
      "\n",
      "--------------------------------\n",
      "submitit INFO (2020-05-25 23:31:11,034) - Starting with JobEnvironment(job_id=26816891_5, hostname=learnfair0254, local_rank=0(1), node=0(1), global_rank=0(1))\n",
      "submitit INFO (2020-05-25 23:31:11,034) - Loading pickle: /private/home/yannd/projects/NPF/logs/26816891_5/26816891_5_submitted.pkl\n",
      "\n",
      "--- Training mnist/SelfAttnNPF_NllLNPF/run_0 ---\n",
      "\n",
      "  epoch    train_loss    valid_loss    cp       dur\n",
      "-------  ------------  ------------  ----  --------\n",
      "      1     \u001b[36m-543.2824\u001b[0m     \u001b[32m-875.8518\u001b[0m     +  291.5503\n",
      "      2     \u001b[36m-891.0322\u001b[0m    \u001b[32m-1008.9501\u001b[0m     +  290.8108\n",
      "      3    \u001b[36m-1014.9133\u001b[0m    \u001b[32m-1054.2987\u001b[0m     +  291.0674\n",
      "      4    \u001b[36m-1089.1194\u001b[0m    \u001b[32m-1157.9279\u001b[0m     +  291.0008\n",
      "      5    \u001b[36m-1144.1958\u001b[0m    \u001b[32m-1189.1522\u001b[0m     +  290.2159\n",
      "      6    \u001b[36m-1196.1722\u001b[0m    \u001b[32m-1273.9244\u001b[0m     +  290.2300\n",
      "      7    \u001b[36m-1233.6531\u001b[0m    -1259.4713        290.0470\n",
      "      8    \u001b[36m-1285.7485\u001b[0m    \u001b[32m-1280.9272\u001b[0m     +  290.6952\n",
      "      9    \u001b[36m-1313.4721\u001b[0m    -1264.0034        290.3707\n",
      "     10    \u001b[36m-1340.5155\u001b[0m    \u001b[32m-1344.5617\u001b[0m     +  290.2001\n",
      "     11    \u001b[36m-1375.5085\u001b[0m    \u001b[32m-1398.0902\u001b[0m     +  291.0375\n",
      "     12    -1372.9379    \u001b[32m-1412.4426\u001b[0m     +  289.7862\n",
      "     13    \u001b[36m-1392.7319\u001b[0m    \u001b[32m-1449.2533\u001b[0m     +  290.0278\n",
      "     14    \u001b[36m-1434.8779\u001b[0m    \u001b[32m-1483.4050\u001b[0m     +  291.3282\n",
      "     15    \u001b[36m-1436.9340\u001b[0m    -1437.3526        291.2538\n",
      "     16    \u001b[36m-1463.3981\u001b[0m    -1429.2161        292.1372\n",
      "     17    \u001b[36m-1476.5296\u001b[0m    \u001b[32m-1523.9703\u001b[0m     +  291.4331\n",
      "     18    -1470.7724    \u001b[32m-1554.4802\u001b[0m     +  289.7513\n",
      "     19    \u001b[36m-1496.2138\u001b[0m    \u001b[32m-1565.0513\u001b[0m     +  290.7193\n",
      "     20    \u001b[36m-1507.9436\u001b[0m    -1555.7338        291.0482\n",
      "     21    \u001b[36m-1522.7657\u001b[0m    -1541.7646        291.6953\n",
      "     22    -1520.0174    -1565.0322        291.1036\n",
      "     23    \u001b[36m-1549.1191\u001b[0m    \u001b[32m-1586.8022\u001b[0m     +  290.6106\n",
      "     24    -1539.6600    \u001b[32m-1591.0931\u001b[0m     +  292.3253\n",
      "     25    -1544.6082    -1565.4053        293.4453\n",
      "     26    \u001b[36m-1558.9834\u001b[0m    \u001b[32m-1610.2368\u001b[0m     +  294.1508\n",
      "     27    \u001b[36m-1560.2271\u001b[0m    -1587.6772        293.4317\n",
      "     28    \u001b[36m-1574.1796\u001b[0m    -1597.3201        291.8629\n",
      "     29    \u001b[36m-1584.2153\u001b[0m    \u001b[32m-1625.7241\u001b[0m     +  292.1941\n",
      "     30    \u001b[36m-1602.9579\u001b[0m    -1585.1816        294.0109\n",
      "     31    -1586.1203    \u001b[32m-1648.7061\u001b[0m     +  292.3650\n",
      "     32    -1594.9200    -1581.4912        291.5229\n",
      "     33    -1587.3674    -1630.4971        291.5769\n",
      "     34    -1591.2063    -1575.4703        291.5169\n",
      "     35    -1599.1950    -1594.5746        291.1279\n",
      "     36    -1581.1222    -1634.2145        290.8431\n",
      "     37    \u001b[36m-1604.6954\u001b[0m    \u001b[32m-1655.5406\u001b[0m     +  290.9786\n",
      "     38    \u001b[36m-1626.6091\u001b[0m    \u001b[32m-1690.5086\u001b[0m     +  292.4114\n",
      "     39    -1615.0940    \u001b[32m-1700.7867\u001b[0m     +  291.5961\n",
      "     40    -1626.5900    -1667.4763        292.2205\n",
      "     41    -1621.7777    -1689.4080        291.7742\n",
      "     42    -1617.5039    -1656.9967        292.1202\n",
      "     43    \u001b[36m-1635.9603\u001b[0m    -1625.6020        292.3058\n",
      "     44    -1635.1424    -1699.0861        292.0894\n",
      "     45    \u001b[36m-1640.7753\u001b[0m    -1686.9754        290.9462\n",
      "     46    \u001b[36m-1641.2182\u001b[0m    -1657.2447        292.1001\n",
      "     47    \u001b[36m-1647.6656\u001b[0m    -1679.5267        291.3202\n",
      "     48    -1645.9205    -1617.3070        291.2923\n",
      "     49    \u001b[36m-1649.2708\u001b[0m    \u001b[32m-1705.2444\u001b[0m     +  290.9938\n",
      "     50    -1628.2952    -1628.4094        290.8712\n",
      "Re-initializing module.\n",
      "Re-initializing optimizer.\n",
      "mnist/SelfAttnNPF_NllLNPF/run_0 | best epoch: 49 | train loss: -1649.2708 | valid loss: -1705.2444 | test log likelihood: 1661.0199\n",
      "submitit INFO (2020-05-26 03:35:34,891) - Job completed successfully\n",
      "\n"
     ]
    }
   ],
   "source": [
    "for job in jobs_32:\n",
    "    print(\"--------------------------------\")\n",
    "    print(job.stdout())"
   ]
  },
  {
   "cell_type": "code",
   "execution_count": 18,
   "metadata": {},
   "outputs": [
    {
     "name": "stdout",
     "output_type": "stream",
     "text": [
      "--------------------------------\n",
      "\n",
      "--------------------------------\n",
      "/private/home/yannd/projects/NPF/neuralproc/architectures/mlp.py:67: UserWarning: hidden_size=32 smaller than output=128 and input=128. Setting it to 128.\n",
      "  warnings.warn(txt.format(hidden_size, output_size, input_size, self.hidden_size))\n",
      "\n",
      "--------------------------------\n",
      "INFO:submitit:Job completed successfully\n",
      "\n",
      "--------------------------------\n",
      "/private/home/yannd/projects/NPF/neuralproc/architectures/mlp.py:67: UserWarning: hidden_size=32 smaller than output=128 and input=128. Setting it to 128.\n",
      "  warnings.warn(txt.format(hidden_size, output_size, input_size, self.hidden_size))\n",
      "INFO:submitit:Job completed successfully\n",
      "\n",
      "--------------------------------\n",
      "INFO:submitit:Job completed successfully\n",
      "\n",
      "--------------------------------\n",
      "/private/home/yannd/projects/NPF/neuralproc/architectures/mlp.py:67: UserWarning: hidden_size=32 smaller than output=128 and input=128. Setting it to 128.\n",
      "  warnings.warn(txt.format(hidden_size, output_size, input_size, self.hidden_size))\n",
      "INFO:submitit:Job completed successfully\n",
      "\n"
     ]
    }
   ],
   "source": [
    "for j in jobs_32:\n",
    "    print(\"--------------------------------\")\n",
    "    print(j.stderr())"
   ]
  },
  {
   "cell_type": "code",
   "execution_count": 21,
   "metadata": {},
   "outputs": [],
   "source": [
    "for job in jobs_64:\n",
    "    job.cancel()"
   ]
  },
  {
   "cell_type": "code",
   "execution_count": null,
   "metadata": {},
   "outputs": [],
   "source": []
  }
 ],
 "metadata": {
  "kernelspec": {
   "display_name": "Python 3",
   "language": "python",
   "name": "python3"
  },
  "language_info": {
   "codemirror_mode": {
    "name": "ipython",
    "version": 3
   },
   "file_extension": ".py",
   "mimetype": "text/x-python",
   "name": "python",
   "nbconvert_exporter": "python",
   "pygments_lexer": "ipython3",
   "version": "3.7.6"
  },
  "toc": {
   "base_numbering": 1,
   "nav_menu": {},
   "number_sections": true,
   "sideBar": true,
   "skip_h1_title": true,
   "title_cell": "Table of Contents",
   "title_sidebar": "Contents",
   "toc_cell": true,
   "toc_position": {},
   "toc_section_display": true,
   "toc_window_display": false
  }
 },
 "nbformat": 4,
 "nbformat_minor": 4
}
