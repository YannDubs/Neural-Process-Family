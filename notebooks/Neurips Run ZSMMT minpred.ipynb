{
 "cells": [
  {
   "cell_type": "markdown",
   "metadata": {
    "toc": true
   },
   "source": [
    "<h1>Table of Contents<span class=\"tocSkip\"></span></h1>\n",
    "<div class=\"toc\"><ul class=\"toc-item\"></ul></div>"
   ]
  },
  {
   "cell_type": "markdown",
   "metadata": {},
   "source": [
    "# NeurIPS - Run Minpred ZSMMT\n",
    "\n",
    "Goal : train models on ZSMMT\n",
    "\n",
    "Data : All ZSMMT\n",
    "\n",
    "Models : SelfAttnLNP and ConvLNP and ConvCNP \n",
    "\n",
    "Loss : NLLLloss\n",
    "\n",
    "Runs : 1"
   ]
  },
  {
   "cell_type": "code",
   "execution_count": 1,
   "metadata": {
    "scrolled": true
   },
   "outputs": [],
   "source": [
    "import os\n",
    "\n",
    "os.chdir(\"..\")"
   ]
  },
  {
   "cell_type": "code",
   "execution_count": 2,
   "metadata": {},
   "outputs": [],
   "source": [
    "import submitit\n",
    "\n",
    "from train_imgs import main, parse_arguments\n",
    "from results import get_exp_args\n",
    "\n",
    "class Run:\n",
    "    def checkpoint(self, args):\n",
    "        \"\"\"Resubmits the same callable with the same arguments but makes sure continnue from last chckpnt.\"\"\"\n",
    "        args.is_continue_train = True\n",
    "        return submitit.utils.DelayedSubmission(self, args)\n",
    "\n",
    "    def __call__(self, args):\n",
    "        job_env = submitit.utils.JobEnvironment()\n",
    "        args.starting_run = args.starting_run * job_env.num_tasks + job_env.local_rank\n",
    "        return main(args)\n"
   ]
  },
  {
   "cell_type": "code",
   "execution_count": 3,
   "metadata": {},
   "outputs": [
    {
     "data": {
      "text/plain": [
       "12"
      ]
     },
     "execution_count": 3,
     "metadata": {},
     "output_type": "execute_result"
    }
   ],
   "source": [
    "args = get_exp_args(\"exp_minpred\", is_load=False)\n",
    "len(args)"
   ]
  },
  {
   "cell_type": "code",
   "execution_count": 4,
   "metadata": {},
   "outputs": [],
   "source": [
    "executor=submitit.SlurmExecutor(folder=\"logs/%j\", max_num_timeout=3)\n",
    "executor.update_parameters(num_gpus=1, \n",
    "                           time=60*24*2,  \n",
    "                           cpus_per_task=10, \n",
    "                           mem='32GB',\n",
    "                          partition=\"priority\",\n",
    "                           comment=\"neurips\",\n",
    "                           constraint=\"volta32gb\"\n",
    "                          )"
   ]
  },
  {
   "cell_type": "code",
   "execution_count": 5,
   "metadata": {},
   "outputs": [],
   "source": [
    "jobs = executor.map_array(Run(), args)"
   ]
  },
  {
   "cell_type": "code",
   "execution_count": 6,
   "metadata": {},
   "outputs": [],
   "source": [
    "############################################################"
   ]
  },
  {
   "cell_type": "code",
   "execution_count": 13,
   "metadata": {},
   "outputs": [
    {
     "data": {
      "text/plain": [
       "[SlurmJob<job_id=27007702_0, task_id=0, state=\"COMPLETED\">,\n",
       " SlurmJob<job_id=27007702_1, task_id=0, state=\"COMPLETED\">,\n",
       " SlurmJob<job_id=27007702_2, task_id=0, state=\"COMPLETED\">,\n",
       " SlurmJob<job_id=27007702_3, task_id=0, state=\"COMPLETED\">,\n",
       " SlurmJob<job_id=27007702_4, task_id=0, state=\"COMPLETED\">,\n",
       " SlurmJob<job_id=27007702_5, task_id=0, state=\"COMPLETED\">,\n",
       " SlurmJob<job_id=27007702_6, task_id=0, state=\"COMPLETED\">,\n",
       " SlurmJob<job_id=27007702_7, task_id=0, state=\"COMPLETED\">,\n",
       " SlurmJob<job_id=27007702_8, task_id=0, state=\"COMPLETED\">,\n",
       " SlurmJob<job_id=27007702_9, task_id=0, state=\"COMPLETED\">,\n",
       " SlurmJob<job_id=27007702_10, task_id=0, state=\"COMPLETED\">,\n",
       " SlurmJob<job_id=27007702_11, task_id=0, state=\"COMPLETED\">]"
      ]
     },
     "execution_count": 13,
     "metadata": {},
     "output_type": "execute_result"
    }
   ],
   "source": [
    "jobs"
   ]
  },
  {
   "cell_type": "code",
   "execution_count": 11,
   "metadata": {},
   "outputs": [
    {
     "name": "stdout",
     "output_type": "stream",
     "text": [
      "--------------------------------\n",
      "submitit INFO (2020-05-29 11:24:07,715) - Starting with JobEnvironment(job_id=27007702_0, hostname=learnfair0677, local_rank=0(1), node=0(1), global_rank=0(1))\n",
      "submitit INFO (2020-05-29 11:24:07,715) - Loading pickle: /private/home/yannd/projects/NPF/logs/27007702_0/27007702_0_submitted.pkl\n",
      "\n",
      "--- Training zsmms/ConvNPFXL_NllLNPF_0.0001/run_0 ---\n",
      "\n",
      "  epoch    train_loss    valid_loss    cp       dur\n",
      "-------  ------------  ------------  ----  --------\n",
      "      1     \u001b[36m-566.7573\u001b[0m     \u001b[32m-862.5123\u001b[0m     +  272.1426\n",
      "      2     \u001b[36m-962.8265\u001b[0m    \u001b[32m-1032.3366\u001b[0m     +  270.8541\n",
      "\n",
      "--------------------------------\n",
      "submitit INFO (2020-05-29 11:24:07,723) - Starting with JobEnvironment(job_id=27007702_1, hostname=learnfair0367, local_rank=0(1), node=0(1), global_rank=0(1))\n",
      "submitit INFO (2020-05-29 11:24:07,724) - Loading pickle: /private/home/yannd/projects/NPF/logs/27007702_1/27007702_1_submitted.pkl\n",
      "\n",
      "--- Training zsmms/ConvNPFXL_NllLNPF_0.001/run_0 ---\n",
      "\n",
      "  epoch    train_loss    valid_loss    cp       dur\n",
      "-------  ------------  ------------  ----  --------\n",
      "      1     \u001b[36m-521.4880\u001b[0m     \u001b[32m-804.4203\u001b[0m     +  272.0417\n",
      "      2     \u001b[36m-917.5277\u001b[0m    \u001b[32m-1039.1899\u001b[0m     +  270.7361\n",
      "\n",
      "--------------------------------\n",
      "submitit INFO (2020-05-29 11:24:07,831) - Starting with JobEnvironment(job_id=27007702_2, hostname=learnfair0678, local_rank=0(1), node=0(1), global_rank=0(1))\n",
      "submitit INFO (2020-05-29 11:24:07,831) - Loading pickle: /private/home/yannd/projects/NPF/logs/27007702_2/27007702_2_submitted.pkl\n",
      "\n",
      "--- Training zsmms/ConvNPFXL_NllLNPF_0.01/run_0 ---\n",
      "\n",
      "  epoch    train_loss    valid_loss    cp       dur\n",
      "-------  ------------  ------------  ----  --------\n",
      "      1     \u001b[36m-590.0378\u001b[0m     \u001b[32m-920.1757\u001b[0m     +  270.2401\n",
      "      2     \u001b[36m-849.8433\u001b[0m    \u001b[32m-1031.5572\u001b[0m     +  269.9018\n",
      "\n",
      "--------------------------------\n",
      "submitit INFO (2020-05-29 11:24:07,842) - Starting with JobEnvironment(job_id=27007702_3, hostname=learnfair0734, local_rank=0(1), node=0(1), global_rank=0(1))\n",
      "submitit INFO (2020-05-29 11:24:07,842) - Loading pickle: /private/home/yannd/projects/NPF/logs/27007702_3/27007702_3_submitted.pkl\n",
      "\n",
      "--- Training zsmms/SelfAttnNPF_NllLNPF_0.0001/run_0 ---\n",
      "\n",
      "  epoch    train_loss    valid_loss    cp       dur\n",
      "-------  ------------  ------------  ----  --------\n",
      "      1     \u001b[36m-412.6182\u001b[0m     \u001b[32m-650.0711\u001b[0m     +  272.8473\n",
      "      2     \u001b[36m-665.9181\u001b[0m     \u001b[32m-739.8332\u001b[0m     +  273.4417\n",
      "\n",
      "--------------------------------\n",
      "submitit INFO (2020-05-29 11:24:08,827) - Starting with JobEnvironment(job_id=27007702_4, hostname=learnfair0755, local_rank=0(1), node=0(1), global_rank=0(1))\n",
      "submitit INFO (2020-05-29 11:24:08,827) - Loading pickle: /private/home/yannd/projects/NPF/logs/27007702_4/27007702_4_submitted.pkl\n",
      "\n",
      "--- Training zsmms/SelfAttnNPF_NllLNPF_0.001/run_0 ---\n",
      "\n",
      "  epoch    train_loss    valid_loss    cp       dur\n",
      "-------  ------------  ------------  ----  --------\n",
      "      1     \u001b[36m-400.4212\u001b[0m     \u001b[32m-581.1606\u001b[0m     +  233.2305\n",
      "      2     \u001b[36m-658.0323\u001b[0m     \u001b[32m-730.8753\u001b[0m     +  230.8204\n",
      "      3     \u001b[36m-727.1430\u001b[0m     \u001b[32m-832.1833\u001b[0m     +  232.7870\n",
      "\n",
      "--------------------------------\n",
      "submitit INFO (2020-05-29 11:24:08,827) - Starting with JobEnvironment(job_id=27007702_5, hostname=learnfair0755, local_rank=0(1), node=0(1), global_rank=0(1))\n",
      "submitit INFO (2020-05-29 11:24:08,827) - Loading pickle: /private/home/yannd/projects/NPF/logs/27007702_5/27007702_5_submitted.pkl\n",
      "\n",
      "--- Training zsmms/SelfAttnNPF_NllLNPF_0.01/run_0 ---\n",
      "\n",
      "  epoch    train_loss    valid_loss    cp       dur\n",
      "-------  ------------  ------------  ----  --------\n",
      "      1     \u001b[36m-412.6628\u001b[0m     \u001b[32m-635.5026\u001b[0m     +  233.4463\n",
      "      2     \u001b[36m-664.3155\u001b[0m     \u001b[32m-726.7995\u001b[0m     +  232.6365\n",
      "      3     \u001b[36m-732.8803\u001b[0m     \u001b[32m-829.5764\u001b[0m     +  232.8853\n",
      "\n",
      "--------------------------------\n",
      "submitit INFO (2020-05-29 11:24:07,691) - Starting with JobEnvironment(job_id=27007702_6, hostname=learnfair0847, local_rank=0(1), node=0(1), global_rank=0(1))\n",
      "submitit INFO (2020-05-29 11:24:07,691) - Loading pickle: /private/home/yannd/projects/NPF/logs/27007702_6/27007702_6_submitted.pkl\n",
      "\n",
      "--- Training mnist/ConvNPFXL_NllLNPF_0.0001/run_0 ---\n",
      "\n",
      "  epoch    train_loss    valid_loss    cp       dur\n",
      "-------  ------------  ------------  ----  --------\n",
      "      1     \u001b[36m-586.3716\u001b[0m    \u001b[32m-1027.6475\u001b[0m     +  266.8175\n",
      "      2    \u001b[36m-1129.9095\u001b[0m    \u001b[32m-1439.5680\u001b[0m     +  266.0239\n",
      "\n",
      "--------------------------------\n",
      "submitit INFO (2020-05-29 11:24:07,683) - Starting with JobEnvironment(job_id=27007702_7, hostname=learnfair0862, local_rank=0(1), node=0(1), global_rank=0(1))\n",
      "submitit INFO (2020-05-29 11:24:07,684) - Loading pickle: /private/home/yannd/projects/NPF/logs/27007702_7/27007702_7_submitted.pkl\n",
      "\n",
      "--- Training mnist/ConvNPFXL_NllLNPF_0.001/run_0 ---\n",
      "\n",
      "  epoch    train_loss    valid_loss    cp       dur\n",
      "-------  ------------  ------------  ----  --------\n",
      "      1     \u001b[36m-655.7591\u001b[0m     \u001b[32m-990.3226\u001b[0m     +  269.7632\n",
      "      2     -561.9779      238.1182        268.5737\n",
      "\n",
      "--------------------------------\n",
      "submitit INFO (2020-05-29 11:24:08,506) - Starting with JobEnvironment(job_id=27007702_8, hostname=learnfair0874, local_rank=0(1), node=0(1), global_rank=0(1))\n",
      "submitit INFO (2020-05-29 11:24:08,506) - Loading pickle: /private/home/yannd/projects/NPF/logs/27007702_8/27007702_8_submitted.pkl\n",
      "\n",
      "--- Training mnist/ConvNPFXL_NllLNPF_0.01/run_0 ---\n",
      "\n",
      "  epoch    train_loss    valid_loss    cp       dur\n",
      "-------  ------------  ------------  ----  --------\n",
      "      1     \u001b[36m-700.3605\u001b[0m    \u001b[32m-1035.3004\u001b[0m     +  267.8974\n",
      "      2    \u001b[36m-1189.9414\u001b[0m    \u001b[32m-1310.5725\u001b[0m     +  267.2211\n",
      "\n",
      "--------------------------------\n",
      "submitit INFO (2020-05-29 11:31:07,523) - Starting with JobEnvironment(job_id=27007702_9, hostname=learnfair0678, local_rank=0(1), node=0(1), global_rank=0(1))\n",
      "submitit INFO (2020-05-29 11:31:07,524) - Loading pickle: /private/home/yannd/projects/NPF/logs/27007702_9/27007702_9_submitted.pkl\n",
      "\n",
      "--- Training mnist/SelfAttnNPF_NllLNPF_0.0001/run_0 ---\n",
      "\n",
      "  epoch    train_loss    valid_loss    cp       dur\n",
      "-------  ------------  ------------  ----  --------\n",
      "      1     \u001b[36m-553.4717\u001b[0m     \u001b[32m-885.5354\u001b[0m     +  253.9597\n",
      "\n",
      "--------------------------------\n",
      "submitit INFO (2020-05-29 11:31:37,181) - Starting with JobEnvironment(job_id=27007702_10, hostname=learnfair0709, local_rank=0(1), node=0(1), global_rank=0(1))\n",
      "submitit INFO (2020-05-29 11:31:37,182) - Loading pickle: /private/home/yannd/projects/NPF/logs/27007702_10/27007702_10_submitted.pkl\n",
      "\n",
      "--- Training mnist/SelfAttnNPF_NllLNPF_0.001/run_0 ---\n",
      "\n",
      "  epoch    train_loss    valid_loss    cp       dur\n",
      "-------  ------------  ------------  ----  --------\n",
      "      1     \u001b[36m-525.8383\u001b[0m     \u001b[32m-865.0475\u001b[0m     +  235.9524\n",
      "\n",
      "--------------------------------\n",
      "submitit INFO (2020-05-29 11:31:37,181) - Starting with JobEnvironment(job_id=27007702_11, hostname=learnfair0709, local_rank=0(1), node=0(1), global_rank=0(1))\n",
      "submitit INFO (2020-05-29 11:31:37,181) - Loading pickle: /private/home/yannd/projects/NPF/logs/27007702_11/27007702_11_submitted.pkl\n",
      "\n",
      "--- Training mnist/SelfAttnNPF_NllLNPF_0.01/run_0 ---\n",
      "\n",
      "  epoch    train_loss    valid_loss    cp       dur\n",
      "-------  ------------  ------------  ----  --------\n",
      "      1     \u001b[36m-538.8894\u001b[0m     \u001b[32m-867.8638\u001b[0m     +  234.7448\n",
      "\n"
     ]
    }
   ],
   "source": [
    "for job in jobs:\n",
    "    print(\"--------------------------------\")\n",
    "    print(job.stdout())"
   ]
  },
  {
   "cell_type": "code",
   "execution_count": 11,
   "metadata": {},
   "outputs": [
    {
     "name": "stdout",
     "output_type": "stream",
     "text": [
      "--------------------------------\n",
      "INFO:utils.data.imgs:Resizing ZeroShotMultiMNIST ...\n",
      "INFO:utils.data.imgs:Resizing ZeroShotMultiMNIST ...\n",
      "\n",
      "--------------------------------\n",
      "INFO:utils.data.imgs:Resizing ZeroShotMultiMNIST ...\n",
      "INFO:utils.data.imgs:Resizing ZeroShotMultiMNIST ...\n",
      "submitit ERROR (2020-05-27 17:21:31,631) - Submitted job triggered an exception\n",
      "ERROR:submitit:Submitted job triggered an exception\n",
      "Traceback (most recent call last):\n",
      "  File \"/private/home/yannd/.conda/envs/neuralproc/lib/python3.7/runpy.py\", line 193, in _run_module_as_main\n",
      "    \"__main__\", mod_spec)\n",
      "  File \"/private/home/yannd/.conda/envs/neuralproc/lib/python3.7/runpy.py\", line 85, in _run_code\n",
      "    exec(code, run_globals)\n",
      "  File \"/private/home/yannd/.conda/envs/neuralproc/lib/python3.7/site-packages/submitit/_submit.py\", line 6, in <module>\n",
      "    submitit_main()\n",
      "  File \"/private/home/yannd/.conda/envs/neuralproc/lib/python3.7/site-packages/submitit/submission.py\", line 186, in submitit_main\n",
      "    process_job(args.folder)\n",
      "  File \"/private/home/yannd/.conda/envs/neuralproc/lib/python3.7/site-packages/submitit/submission.py\", line 179, in process_job\n",
      "    raise error\n",
      "  File \"/private/home/yannd/.conda/envs/neuralproc/lib/python3.7/site-packages/submitit/submission.py\", line 168, in process_job\n",
      "    result = delayed.result()\n",
      "  File \"/private/home/yannd/.conda/envs/neuralproc/lib/python3.7/site-packages/submitit/utils.py\", line 122, in result\n",
      "    self._result = self.function(*self.args, **self.kwargs)\n",
      "  File \"<ipython-input-2-14b290c95f63>\", line 15, in __call__\n",
      "  File \"/private/home/yannd/projects/NPF/train_imgs.py\", line 299, in main\n",
      "    is_reeval=args.is_reeval,\n",
      "  File \"/private/home/yannd/projects/NPF/train_imgs.py\", line 249, in train\n",
      "    **kwargs,\n",
      "  File \"/private/home/yannd/projects/NPF/utils/train.py\", line 234, in train_models\n",
      "    _ = trainer.fit(data_train)\n",
      "  File \"/private/home/yannd/.conda/envs/neuralproc/lib/python3.7/site-packages/skorch/net.py\", line 854, in fit\n",
      "    self.partial_fit(X, y, **fit_params)\n",
      "  File \"/private/home/yannd/.conda/envs/neuralproc/lib/python3.7/site-packages/skorch/net.py\", line 813, in partial_fit\n",
      "    self.fit_loop(X, y, **fit_params)\n",
      "  File \"/private/home/yannd/.conda/envs/neuralproc/lib/python3.7/site-packages/skorch/net.py\", line 727, in fit_loop\n",
      "    step_fn=self.train_step, **fit_params)\n",
      "  File \"/private/home/yannd/.conda/envs/neuralproc/lib/python3.7/site-packages/skorch/net.py\", line 763, in run_single_epoch\n",
      "    step = step_fn(Xi, yi, **fit_params)\n",
      "  File \"/private/home/yannd/.conda/envs/neuralproc/lib/python3.7/site-packages/skorch/net.py\", line 659, in train_step\n",
      "    self.optimizer_.step(step_fn)\n",
      "  File \"/private/home/yannd/.conda/envs/neuralproc/lib/python3.7/site-packages/torch/optim/adam.py\", line 58, in step\n",
      "    loss = closure()\n",
      "  File \"/private/home/yannd/.conda/envs/neuralproc/lib/python3.7/site-packages/skorch/net.py\", line 656, in step_fn\n",
      "    step = self.train_step_single(Xi, yi, **fit_params)\n",
      "  File \"/private/home/yannd/.conda/envs/neuralproc/lib/python3.7/site-packages/skorch/net.py\", line 598, in train_step_single\n",
      "    y_pred = self.infer(Xi, **fit_params)\n",
      "  File \"/private/home/yannd/.conda/envs/neuralproc/lib/python3.7/site-packages/skorch/net.py\", line 998, in infer\n",
      "    return self.module_(**x_dict)\n",
      "  File \"/private/home/yannd/.conda/envs/neuralproc/lib/python3.7/site-packages/torch/nn/modules/module.py\", line 532, in __call__\n",
      "    result = self.forward(*input, **kwargs)\n",
      "  File \"/private/home/yannd/projects/NPF/neuralproc/neuralproc/base.py\", line 480, in forward\n",
      "    return super().forward(*args, **kwargs)\n",
      "  File \"/private/home/yannd/projects/NPF/neuralproc/neuralproc/base.py\", line 231, in forward\n",
      "    R_trgt = self.trgt_dependent_representation(X_cntxt, z_samples, R, X_trgt)\n",
      "  File \"/private/home/yannd/projects/NPF/neuralproc/neuralproc/gridconvnp.py\", line 252, in trgt_dependent_representation\n",
      "    R_trgt = self.induced_to_induced_post_sampling(z_samples)\n",
      "  File \"/private/home/yannd/.conda/envs/neuralproc/lib/python3.7/site-packages/torch/nn/modules/module.py\", line 532, in __call__\n",
      "    result = self.forward(*input, **kwargs)\n",
      "  File \"/private/home/yannd/projects/NPF/neuralproc/architectures/cnn.py\", line 394, in forward\n",
      "    X, representation = self.apply_convs(X)\n",
      "  File \"/private/home/yannd/projects/NPF/neuralproc/architectures/cnn.py\", line 406, in apply_convs\n",
      "    X = conv_block(X)\n",
      "  File \"/private/home/yannd/.conda/envs/neuralproc/lib/python3.7/site-packages/torch/nn/modules/module.py\", line 532, in __call__\n",
      "    result = self.forward(*input, **kwargs)\n",
      "  File \"/private/home/yannd/projects/NPF/neuralproc/architectures/cnn.py\", line 230, in forward\n",
      "    out = self.conv1(self.activation(self.norm1(out)))\n",
      "  File \"/private/home/yannd/.conda/envs/neuralproc/lib/python3.7/site-packages/torch/nn/modules/module.py\", line 532, in __call__\n",
      "    result = self.forward(*input, **kwargs)\n",
      "  File \"/private/home/yannd/projects/NPF/neuralproc/utils/helpers.py\", line 397, in forward\n",
      "    out = self.pointwise(out)\n",
      "  File \"/private/home/yannd/.conda/envs/neuralproc/lib/python3.7/site-packages/torch/nn/modules/module.py\", line 532, in __call__\n",
      "    result = self.forward(*input, **kwargs)\n",
      "  File \"/private/home/yannd/projects/NPF/neuralproc/utils/helpers.py\", line 349, in forward\n",
      "    return super().forward(X)\n",
      "  File \"/private/home/yannd/.conda/envs/neuralproc/lib/python3.7/site-packages/torch/nn/modules/conv.py\", line 345, in forward\n",
      "    return self.conv2d_forward(input, self.weight)\n",
      "  File \"/private/home/yannd/.conda/envs/neuralproc/lib/python3.7/site-packages/torch/nn/modules/conv.py\", line 342, in conv2d_forward\n",
      "    self.padding, self.dilation, self.groups)\n",
      "RuntimeError: CUDA out of memory. Tried to allocate 1.53 GiB (GPU 0; 31.72 GiB total capacity; 29.77 GiB already allocated; 959.88 MiB free; 29.79 GiB reserved in total by PyTorch)\n",
      "srun: error: learnfair0834: task 0: Exited with exit code 1\n",
      "srun: Terminating job step 26921726.0\n",
      "\n",
      "--------------------------------\n",
      "INFO:utils.data.imgs:Resizing ZeroShotMultiMNIST ...\n",
      "INFO:utils.data.imgs:Resizing ZeroShotMultiMNIST ...\n",
      "/private/home/yannd/projects/NPF/neuralproc/architectures/mlp.py:67: UserWarning: hidden_size=32 smaller than output=128 and input=128. Setting it to 128.\n",
      "  warnings.warn(txt.format(hidden_size, output_size, input_size, self.hidden_size))\n",
      "\n"
     ]
    }
   ],
   "source": [
    "for j in jobs:\n",
    "    print(\"--------------------------------\")\n",
    "    print(j.stderr())"
   ]
  },
  {
   "cell_type": "code",
   "execution_count": 11,
   "metadata": {},
   "outputs": [],
   "source": [
    "for j in jobs:\n",
    "    j.cancel()"
   ]
  },
  {
   "cell_type": "code",
   "execution_count": null,
   "metadata": {},
   "outputs": [],
   "source": []
  }
 ],
 "metadata": {
  "kernelspec": {
   "display_name": "Python 3",
   "language": "python",
   "name": "python3"
  },
  "language_info": {
   "codemirror_mode": {
    "name": "ipython",
    "version": 3
   },
   "file_extension": ".py",
   "mimetype": "text/x-python",
   "name": "python",
   "nbconvert_exporter": "python",
   "pygments_lexer": "ipython3",
   "version": "3.7.6"
  },
  "toc": {
   "base_numbering": 1,
   "nav_menu": {},
   "number_sections": true,
   "sideBar": true,
   "skip_h1_title": true,
   "title_cell": "Table of Contents",
   "title_sidebar": "Contents",
   "toc_cell": true,
   "toc_position": {},
   "toc_section_display": true,
   "toc_window_display": false
  }
 },
 "nbformat": 4,
 "nbformat_minor": 4
}
