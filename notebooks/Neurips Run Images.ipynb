{
 "cells": [
  {
   "cell_type": "markdown",
   "metadata": {
    "toc": true
   },
   "source": [
    "<h1>Table of Contents<span class=\"tocSkip\"></span></h1>\n",
    "<div class=\"toc\"><ul class=\"toc-item\"></ul></div>"
   ]
  },
  {
   "cell_type": "markdown",
   "metadata": {},
   "source": [
    "# NeurIPS - Run Images\n",
    "\n",
    "Goal : have well trained models for image sampling\n",
    "\n",
    "Data : celeba64,mnist,svhn,celeba32\n",
    "\n",
    "Models : ConvLNPXL \n",
    "\n",
    "Loss : NLLLloss\n",
    "\n",
    "Runs : 1"
   ]
  },
  {
   "cell_type": "code",
   "execution_count": 1,
   "metadata": {
    "scrolled": true
   },
   "outputs": [],
   "source": [
    "import os\n",
    "\n",
    "os.chdir(\"..\")"
   ]
  },
  {
   "cell_type": "code",
   "execution_count": 2,
   "metadata": {},
   "outputs": [],
   "source": [
    "import submitit\n",
    "\n",
    "from train_imgs import main, parse_arguments\n",
    "from results import get_exp_args"
   ]
  },
  {
   "cell_type": "code",
   "execution_count": 3,
   "metadata": {},
   "outputs": [],
   "source": [
    "\n",
    "class Run:\n",
    "    def checkpoint(self, args):\n",
    "        \"\"\"Resubmits the same callable with the same arguments but makes sure continnue from last chckpnt.\"\"\"\n",
    "        args.is_continue_train = True\n",
    "        return submitit.utils.DelayedSubmission(self, args)\n",
    "\n",
    "    def __call__(self, args):\n",
    "        job_env = submitit.utils.JobEnvironment()\n",
    "        args.starting_run = args.starting_run * job_env.num_tasks + job_env.local_rank\n",
    "        return main(args)\n"
   ]
  },
  {
   "cell_type": "code",
   "execution_count": 4,
   "metadata": {},
   "outputs": [
    {
     "data": {
      "text/plain": [
       "4"
      ]
     },
     "execution_count": 4,
     "metadata": {},
     "output_type": "execute_result"
    }
   ],
   "source": [
    "args = get_exp_args(\"exp_qualitative\", is_load=False)\n",
    "len(args)"
   ]
  },
  {
   "cell_type": "code",
   "execution_count": 5,
   "metadata": {},
   "outputs": [],
   "source": [
    "executor=submitit.SlurmExecutor(folder=\"logs/%j\", max_num_timeout=3)\n",
    "executor.update_parameters(num_gpus=1, \n",
    "                           time=60*24*2,  \n",
    "                           cpus_per_task=10, \n",
    "                           mem='32GB',\n",
    "                          partition=\"priority\",\n",
    "                           comment=\"neurips_appendices\",\n",
    "                            constraint=\"volta32gb\"\n",
    "                          )"
   ]
  },
  {
   "cell_type": "code",
   "execution_count": 6,
   "metadata": {},
   "outputs": [],
   "source": [
    "jobs = executor.map_array(Run(), args)"
   ]
  },
  {
   "cell_type": "code",
   "execution_count": 7,
   "metadata": {},
   "outputs": [],
   "source": [
    "############################################################"
   ]
  },
  {
   "cell_type": "code",
   "execution_count": 12,
   "metadata": {},
   "outputs": [
    {
     "data": {
      "text/plain": [
       "[SlurmJob<job_id=27363068_0, task_id=0, state=\"RUNNING\">,\n",
       " SlurmJob<job_id=27363068_1, task_id=0, state=\"RUNNING\">,\n",
       " SlurmJob<job_id=27363068_2, task_id=0, state=\"RUNNING\">,\n",
       " SlurmJob<job_id=27363068_3, task_id=0, state=\"RUNNING\">]"
      ]
     },
     "execution_count": 12,
     "metadata": {},
     "output_type": "execute_result"
    }
   ],
   "source": [
    "jobs"
   ]
  },
  {
   "cell_type": "code",
   "execution_count": 19,
   "metadata": {},
   "outputs": [
    {
     "name": "stdout",
     "output_type": "stream",
     "text": [
      "--------------------------------\n",
      "submitit INFO (2020-06-09 20:44:42,754) - Starting with JobEnvironment(job_id=27363068_0, hostname=learnfair0886, local_rank=0(1), node=0(1), global_rank=0(1))\n",
      "submitit INFO (2020-06-09 20:44:42,754) - Loading pickle: /private/home/yannd/projects/NPF/logs/27363068_0/27363068_0_submitted.pkl\n",
      "\n",
      "--- Training mnist/ConvNPFXXL_NllLNPF/run_0 ---\n",
      "\n",
      "  epoch    train_loss    valid_loss    cp       dur\n",
      "-------  ------------  ------------  ----  --------\n",
      "      1    \u001b[36m-1142.6384\u001b[0m    \u001b[32m-1419.8539\u001b[0m     +  787.4088\n",
      "      2    \u001b[36m-1560.6912\u001b[0m    \u001b[32m-1753.5553\u001b[0m     +  791.8307\n",
      "      3    \u001b[36m-1690.8613\u001b[0m    -1475.3137        789.1432\n",
      "      4    \u001b[36m-1763.1967\u001b[0m    \u001b[32m-1898.2776\u001b[0m     +  788.5574\n",
      "      5    \u001b[36m-1828.5915\u001b[0m    \u001b[32m-1913.4310\u001b[0m     +  790.2562\n",
      "      6    \u001b[36m-1865.1989\u001b[0m    -1907.3858        797.7764\n",
      "      7    \u001b[36m-1888.7882\u001b[0m    \u001b[32m-2009.6174\u001b[0m     +  790.1354\n",
      "      8    \u001b[36m-1911.3203\u001b[0m    -1803.7968        788.6665\n",
      "      9    \u001b[36m-1921.4671\u001b[0m    -1983.2658        788.9310\n",
      "     10    \u001b[36m-1950.2479\u001b[0m    -1961.9771        792.4412\n",
      "     11    \u001b[36m-1956.7321\u001b[0m    \u001b[32m-2104.2908\u001b[0m     +  789.9799\n",
      "     12    \u001b[36m-1980.6919\u001b[0m    -2070.6686        790.9094\n",
      "     13    \u001b[36m-1981.3350\u001b[0m    -1933.6835        784.8311\n",
      "     14    \u001b[36m-1986.5508\u001b[0m    -2023.5999        793.0217\n",
      "     15    -1834.4254    -2099.9068        792.1364\n",
      "     16    \u001b[36m-1995.2965\u001b[0m    -2091.1604        794.3382\n",
      "     17    -1993.3522    -2093.0342        795.1445\n",
      "     18    -1988.4047    -2066.8648        794.5329\n",
      "     19    \u001b[36m-2013.1721\u001b[0m    \u001b[32m-2141.5675\u001b[0m     +  792.2496\n",
      "     20    \u001b[36m-2014.2184\u001b[0m    -2137.8923        789.0876\n",
      "     21    -2004.4226    -2059.0881        792.6992\n",
      "     22    \u001b[36m-2022.7889\u001b[0m    -2120.3430        790.0380\n",
      "     23    \u001b[36m-2025.1383\u001b[0m    -2081.9952        789.0183\n",
      "     24    -2019.4193    -2080.5121        791.2913\n",
      "     25    -2019.9134    -2068.1983        786.7141\n",
      "     26    \u001b[36m-2029.2220\u001b[0m    -2137.5823        786.9084\n",
      "     27    -2023.4660    -2083.9154        787.4143\n",
      "     28    \u001b[36m-2033.4056\u001b[0m    -2125.1544        787.0652\n",
      "Stopping since valid_loss has not improved in the last 10 epochs.\n",
      "Re-initializing module.\n",
      "Re-initializing optimizer.\n",
      "mnist/ConvNPFXXL_NllLNPF/run_0 | best epoch: 19 | train loss: -2013.1721 | valid loss: -2141.5675 | test log likelihood: 2114.7451\n",
      "submitit INFO (2020-06-10 03:08:51,066) - Job completed successfully\n",
      "\n",
      "--------------------------------\n",
      "submitit INFO (2020-06-09 20:44:42,754) - Starting with JobEnvironment(job_id=27363068_1, hostname=learnfair0886, local_rank=0(1), node=0(1), global_rank=0(1))\n",
      "submitit INFO (2020-06-09 20:44:42,754) - Loading pickle: /private/home/yannd/projects/NPF/logs/27363068_1/27363068_1_submitted.pkl\n",
      "Using downloaded and verified file: /private/home/yannd/data/train_32x32.mat\n",
      "Using downloaded and verified file: /private/home/yannd/data/test_32x32.mat\n",
      "\n",
      "--- Training svhn/ConvNPFXXL_NllLNPF/run_0 ---\n",
      "\n",
      "  epoch    train_loss    valid_loss    cp       dur\n",
      "-------  ------------  ------------  ----  --------\n",
      "      1    \u001b[36m-4044.5512\u001b[0m    \u001b[32m-5509.3962\u001b[0m     +  952.8976\n",
      "      2    \u001b[36m-5891.3426\u001b[0m    \u001b[32m-6406.1159\u001b[0m     +  946.2071\n",
      "      3    \u001b[36m-6577.7288\u001b[0m    \u001b[32m-7202.8089\u001b[0m     +  947.9802\n",
      "      4    \u001b[36m-7037.0223\u001b[0m    \u001b[32m-7287.3259\u001b[0m     +  951.4435\n",
      "      5    \u001b[36m-7198.8157\u001b[0m    \u001b[32m-7471.6425\u001b[0m     +  942.0917\n",
      "      6    \u001b[36m-7373.3306\u001b[0m    -7441.6749        945.5539\n",
      "      7    \u001b[36m-7481.3230\u001b[0m    \u001b[32m-7760.4016\u001b[0m     +  952.9925\n",
      "      8    \u001b[36m-7563.8220\u001b[0m    \u001b[32m-7897.9007\u001b[0m     +  944.9586\n",
      "      9    \u001b[36m-7634.0099\u001b[0m    \u001b[32m-7935.7967\u001b[0m     +  947.4795\n",
      "     10    \u001b[36m-7734.1592\u001b[0m    -7180.9555        943.5215\n",
      "     11    \u001b[36m-7754.6445\u001b[0m    \u001b[32m-7987.0515\u001b[0m     +  944.2488\n",
      "     12    \u001b[36m-7817.2787\u001b[0m    \u001b[32m-8083.8377\u001b[0m     +  946.1735\n",
      "     13    \u001b[36m-7838.1283\u001b[0m    -7954.4957        942.5134\n",
      "     14    -7820.4455    -7886.2599        946.6644\n",
      "     15    -7804.9457    -7861.0128        945.6124\n",
      "     16    \u001b[36m-7944.3609\u001b[0m    -7927.2415        951.0758\n",
      "     17    -7926.4621    -7951.3392        942.5321\n",
      "     18    -7944.3481    \u001b[32m-8253.2869\u001b[0m     +  946.6489\n",
      "     19    \u001b[36m-7981.4937\u001b[0m    -8198.0683        944.8352\n",
      "     20    -7979.5426    \u001b[32m-8278.3803\u001b[0m     +  945.9817\n",
      "     21    -7978.1350    -8098.4793        944.9076\n",
      "     22    \u001b[36m-8048.7938\u001b[0m    -8164.5094        945.7274\n",
      "     23    -8018.9161    -8170.1595        950.6793\n",
      "     24    \u001b[36m-8066.3948\u001b[0m    \u001b[32m-8330.7309\u001b[0m     +  951.6443\n",
      "     25    \u001b[36m-8098.0771\u001b[0m    -8058.3189        946.6058\n",
      "     26    \u001b[36m-8103.8922\u001b[0m    -8115.5731        947.5886\n",
      "     27    \u001b[36m-8151.5481\u001b[0m    -8205.6809        937.7541\n",
      "     28    -8103.9732    -8067.7572        939.0456\n",
      "     29    -8124.9117    -8235.5852        935.9515\n",
      "     30    -8095.2085    -8174.8611        943.5635\n",
      "     31    \u001b[36m-8170.5206\u001b[0m    -8198.8009        939.6099\n",
      "     32    -8139.6441    \u001b[32m-8360.0107\u001b[0m     +  934.6633\n",
      "     33    \u001b[36m-8186.3961\u001b[0m    -8143.5432        939.1545\n",
      "     34    -8171.0423    -8314.8398        937.8283\n",
      "     35    -8141.0091    -8128.8300        939.8433\n",
      "     36    \u001b[36m-8208.6022\u001b[0m    -8350.6299        936.6311\n",
      "     37    -8199.6072    -7586.6571        943.9398\n",
      "     38    \u001b[36m-8234.5433\u001b[0m    \u001b[32m-8455.2913\u001b[0m     +  938.9641\n",
      "     39    -8221.4593    -8371.5556        934.2849\n",
      "\n",
      "--------------------------------\n",
      "submitit INFO (2020-06-09 20:44:42,753) - Starting with JobEnvironment(job_id=27363068_2, hostname=learnfair0921, local_rank=0(1), node=0(1), global_rank=0(1))\n",
      "submitit INFO (2020-06-09 20:44:42,753) - Loading pickle: /private/home/yannd/projects/NPF/logs/27363068_2/27363068_2_submitted.pkl\n",
      "\n",
      "--- Training celeba32/ConvNPFXXL_NllLNPF/run_0 ---\n",
      "\n",
      "  epoch    train_loss    valid_loss    cp        dur\n",
      "-------  ------------  ------------  ----  ---------\n",
      "      1    \u001b[36m-2928.2670\u001b[0m    \u001b[32m-3664.1270\u001b[0m     +  2938.7943\n",
      "      2    \u001b[36m-3670.8039\u001b[0m    \u001b[32m-3711.0615\u001b[0m     +  2721.3888\n",
      "      3    \u001b[36m-3803.1802\u001b[0m    \u001b[32m-3792.5879\u001b[0m     +  2721.6929\n",
      "      4    \u001b[36m-3888.1170\u001b[0m    \u001b[32m-3981.2585\u001b[0m     +  2719.4727\n",
      "      5    \u001b[36m-3917.8938\u001b[0m    -3968.9052        2721.2409\n",
      "      6    -3917.0515    \u001b[32m-4011.8452\u001b[0m     +  2719.0240\n",
      "      7    \u001b[36m-3941.0200\u001b[0m    \u001b[32m-4058.7987\u001b[0m     +  2719.5611\n",
      "      8    \u001b[36m-3956.1099\u001b[0m    -3993.2677        2720.0094\n",
      "      9    \u001b[36m-3958.0426\u001b[0m    -4008.3695        2718.0300\n",
      "     10    \u001b[36m-3984.6260\u001b[0m    \u001b[32m-4068.8610\u001b[0m     +  2718.2497\n",
      "     11    \u001b[36m-3999.4429\u001b[0m    \u001b[32m-4070.2360\u001b[0m     +  2719.5126\n",
      "     12    -3983.2804    -4047.3196        2719.0771\n",
      "     13    -3996.0162    \u001b[32m-4103.0952\u001b[0m     +  2720.5955\n",
      "\n",
      "--------------------------------\n",
      "submitit INFO (2020-06-09 20:44:45,892) - Starting with JobEnvironment(job_id=27363068_3, hostname=learnfair0331, local_rank=0(1), node=0(1), global_rank=0(1))\n",
      "submitit INFO (2020-06-09 20:44:45,892) - Loading pickle: /private/home/yannd/projects/NPF/logs/27363068_3/27363068_3_submitted.pkl\n",
      "\n",
      "--- Training zsmms/ConvNPFXXL_NllLNPF/run_0 ---\n",
      "\n",
      "  epoch    train_loss    valid_loss    cp       dur\n",
      "-------  ------------  ------------  ----  --------\n",
      "      1     \u001b[36m-869.2879\u001b[0m    \u001b[32m-1220.5556\u001b[0m     +  772.5916\n",
      "      2    \u001b[36m-1169.6526\u001b[0m    \u001b[32m-1271.6682\u001b[0m     +  775.4680\n",
      "      3    \u001b[36m-1226.0801\u001b[0m    \u001b[32m-1376.9130\u001b[0m     +  772.9138\n",
      "      4    \u001b[36m-1271.3218\u001b[0m    -1376.6235        773.3541\n",
      "      5    \u001b[36m-1286.9210\u001b[0m    -1358.8349        774.6559\n",
      "      6    \u001b[36m-1308.6614\u001b[0m    \u001b[32m-1409.5764\u001b[0m     +  774.2462\n",
      "      7     -877.8260    -1388.9258        772.1388\n",
      "      8    \u001b[36m-1344.2462\u001b[0m    -1400.7500        773.0417\n",
      "      9    -1332.1494    \u001b[32m-1436.0119\u001b[0m     +  772.7240\n",
      "     10    \u001b[36m-1348.4489\u001b[0m    -1389.4602        773.6231\n",
      "     11    \u001b[36m-1353.2754\u001b[0m    -1422.7366        780.3798\n",
      "     12    -1339.3138    \u001b[32m-1441.0024\u001b[0m     +  774.4422\n",
      "     13    \u001b[36m-1356.4871\u001b[0m    -1439.9433        777.5571\n",
      "     14    -1353.1621    -1408.8428        779.0708\n",
      "     15    \u001b[36m-1365.4829\u001b[0m    \u001b[32m-1448.9589\u001b[0m     +  773.4147\n",
      "     16    -1211.2165    -1420.7628        772.1213\n",
      "     17    \u001b[36m-1370.7913\u001b[0m    -1438.4621        776.8255\n",
      "     18    \u001b[36m-1379.1561\u001b[0m    -1424.7383        772.8516\n",
      "     19    -1360.5609    -1417.3132        776.0536\n",
      "     20    -1378.6939    -1399.6939        771.6507\n",
      "     21    -1372.9886    \u001b[32m-1453.2669\u001b[0m     +  772.6866\n",
      "     22    -1367.1038    -1443.2511        775.8141\n",
      "     23    -1374.6866    -1452.5059        772.6799\n",
      "     24    \u001b[36m-1390.4609\u001b[0m    -1445.4655        773.1224\n",
      "     25    -1317.8179    \u001b[32m-1477.4214\u001b[0m     +  772.1437\n",
      "     26    -1379.9452    -1476.5489        781.6504\n",
      "     27    -1371.8167    -1442.0598        772.9631\n",
      "     28    \u001b[36m-1391.4526\u001b[0m    -1429.7393        772.8689\n",
      "     29    \u001b[36m-1398.2154\u001b[0m    \u001b[32m-1485.5707\u001b[0m     +  774.8154\n",
      "     30    -1394.2238    -1434.4285        772.6815\n",
      "     31    -1390.5720    -1399.5850        776.0327\n",
      "     32    -1387.9873    -1428.8247        772.0518\n",
      "     33    -1394.3465    -1410.2339        778.5610\n",
      "     34    -1386.2248    \u001b[32m-1494.1702\u001b[0m     +  772.3340\n",
      "     35    -1396.5035    -1452.2791        772.4906\n",
      "     36    -1383.1676    -1473.7693        773.3964\n",
      "     37    \u001b[36m-1408.0529\u001b[0m    -1444.3403        774.7489\n",
      "     38    -1402.6651    -1435.7509        772.2661\n",
      "     39    -1389.9051    -1428.7351        772.5607\n",
      "     40    -1402.0268    -1465.4075        771.8965\n",
      "     41    -1400.1726    -1418.1228        771.9427\n",
      "     42    \u001b[36m-1408.1423\u001b[0m    -1458.0032        774.3160\n",
      "     43    -1398.0544    -1492.0172        774.0499\n",
      "Stopping since valid_loss has not improved in the last 10 epochs.\n",
      "Re-initializing module.\n",
      "Re-initializing optimizer.\n",
      "zsmms/ConvNPFXXL_NllLNPF/run_0 | best epoch: 34 | train loss: -1398.2154 | valid loss: -1494.1702 | test log likelihood: 4509.3848\n",
      "submitit INFO (2020-06-10 06:17:50,078) - Job completed successfully\n",
      "\n"
     ]
    }
   ],
   "source": [
    "for job in jobs:\n",
    "    print(\"--------------------------------\")\n",
    "    print(job.stdout())"
   ]
  },
  {
   "cell_type": "code",
   "execution_count": 54,
   "metadata": {},
   "outputs": [
    {
     "name": "stdout",
     "output_type": "stream",
     "text": [
      "--------------------------------\n",
      "submitit ERROR (2020-05-24 20:41:35,817) - Submitted job triggered an exception\n",
      "ERROR:submitit:Submitted job triggered an exception\n",
      "Traceback (most recent call last):\n",
      "  File \"/private/home/yannd/.conda/envs/neuralproc/lib/python3.7/runpy.py\", line 193, in _run_module_as_main\n",
      "    \"__main__\", mod_spec)\n",
      "  File \"/private/home/yannd/.conda/envs/neuralproc/lib/python3.7/runpy.py\", line 85, in _run_code\n",
      "    exec(code, run_globals)\n",
      "  File \"/private/home/yannd/.conda/envs/neuralproc/lib/python3.7/site-packages/submitit/_submit.py\", line 6, in <module>\n",
      "    submitit_main()\n",
      "  File \"/private/home/yannd/.conda/envs/neuralproc/lib/python3.7/site-packages/submitit/submission.py\", line 186, in submitit_main\n",
      "    process_job(args.folder)\n",
      "  File \"/private/home/yannd/.conda/envs/neuralproc/lib/python3.7/site-packages/submitit/submission.py\", line 179, in process_job\n",
      "    raise error\n",
      "  File \"/private/home/yannd/.conda/envs/neuralproc/lib/python3.7/site-packages/submitit/submission.py\", line 168, in process_job\n",
      "    result = delayed.result()\n",
      "  File \"/private/home/yannd/.conda/envs/neuralproc/lib/python3.7/site-packages/submitit/utils.py\", line 122, in result\n",
      "    self._result = self.function(*self.args, **self.kwargs)\n",
      "  File \"<ipython-input-3-005aca0192e0>\", line 14, in __call__\n",
      "  File \"/private/home/yannd/projects/NPF/train_imgs.py\", line 298, in main\n",
      "    is_retrain=not args.is_load,\n",
      "  File \"/private/home/yannd/projects/NPF/train_imgs.py\", line 249, in train\n",
      "    **kwargs,\n",
      "  File \"/private/home/yannd/projects/NPF/utils/train.py\", line 241, in train_models\n",
      "    trainer.load_params(checkpoint=chckpt)\n",
      "  File \"/private/home/yannd/.conda/envs/neuralproc/lib/python3.7/site-packages/skorch/net.py\", line 1656, in load_params\n",
      "    self.module_.load_state_dict(state_dict)\n",
      "  File \"/private/home/yannd/.conda/envs/neuralproc/lib/python3.7/site-packages/torch/nn/modules/module.py\", line 830, in load_state_dict\n",
      "    self.__class__.__name__, \"\\n\\t\".join(error_msgs)))\n",
      "RuntimeError: Error(s) in loading state_dict for GridConvLNP:\n",
      "\tMissing key(s) in state_dict: \"induced_to_induced.conv_blocks.5.conv1.depthwise.weight\", \"induced_to_induced.conv_blocks.5.conv1.depthwise.bias\", \"induced_to_induced.conv_blocks.5.conv1.pointwise.weight\", \"induced_to_induced.conv_blocks.5.conv1.pointwise.bias\", \"induced_to_induced.conv_blocks.5.conv2_depthwise.weight\", \"induced_to_induced.conv_blocks.5.conv2_depthwise.bias\", \"induced_to_induced.conv_blocks.5.conv2_pointwise.weight\", \"induced_to_induced.conv_blocks.5.conv2_pointwise.bias\", \"induced_to_induced.conv_blocks.6.conv1.depthwise.weight\", \"induced_to_induced.conv_blocks.6.conv1.depthwise.bias\", \"induced_to_induced.conv_blocks.6.conv1.pointwise.weight\", \"induced_to_induced.conv_blocks.6.conv1.pointwise.bias\", \"induced_to_induced.conv_blocks.6.conv2_depthwise.weight\", \"induced_to_induced.conv_blocks.6.conv2_depthwise.bias\", \"induced_to_induced.conv_blocks.6.conv2_pointwise.weight\", \"induced_to_induced.conv_blocks.6.conv2_pointwise.bias\", \"induced_to_induced.conv_blocks.7.conv1.depthwise.weight\", \"induced_to_induced.conv_blocks.7.conv1.depthwise.bias\", \"induced_to_induced.conv_blocks.7.conv1.pointwise.weight\", \"induced_to_induced.conv_blocks.7.conv1.pointwise.bias\", \"induced_to_induced.conv_blocks.7.conv2_depthwise.weight\", \"induced_to_induced.conv_blocks.7.conv2_depthwise.bias\", \"induced_to_induced.conv_blocks.7.conv2_pointwise.weight\", \"induced_to_induced.conv_blocks.7.conv2_pointwise.bias\". \n",
      "\tUnexpected key(s) in state_dict: \"induced_to_induced_post_sampling.conv_blocks.3.conv1.depthwise.weight\", \"induced_to_induced_post_sampling.conv_blocks.3.conv1.depthwise.bias\", \"induced_to_induced_post_sampling.conv_blocks.3.conv1.pointwise.weight\", \"induced_to_induced_post_sampling.conv_blocks.3.conv1.pointwise.bias\", \"induced_to_induced_post_sampling.conv_blocks.3.conv2_depthwise.weight\", \"induced_to_induced_post_sampling.conv_blocks.3.conv2_depthwise.bias\", \"induced_to_induced_post_sampling.conv_blocks.3.conv2_pointwise.weight\", \"induced_to_induced_post_sampling.conv_blocks.3.conv2_pointwise.bias\", \"induced_to_induced_post_sampling.conv_blocks.4.conv1.depthwise.weight\", \"induced_to_induced_post_sampling.conv_blocks.4.conv1.depthwise.bias\", \"induced_to_induced_post_sampling.conv_blocks.4.conv1.pointwise.weight\", \"induced_to_induced_post_sampling.conv_blocks.4.conv1.pointwise.bias\", \"induced_to_induced_post_sampling.conv_blocks.4.conv2_depthwise.weight\", \"induced_to_induced_post_sampling.conv_blocks.4.conv2_depthwise.bias\", \"induced_to_induced_post_sampling.conv_blocks.4.conv2_pointwise.weight\", \"induced_to_induced_post_sampling.conv_blocks.4.conv2_pointwise.bias\". \n",
      "srun: error: learnfair0631: task 0: Exited with exit code 1\n",
      "srun: Terminating job step 26760533.0\n",
      "\n",
      "--------------------------------\n",
      "/private/home/yannd/projects/NPF/neuralproc/architectures/mlp.py:67: UserWarning: hidden_size=32 smaller than output=128 and input=128. Setting it to 128.\n",
      "  warnings.warn(txt.format(hidden_size, output_size, input_size, self.hidden_size))\n",
      "INFO:submitit:Job completed successfully\n",
      "\n",
      "--------------------------------\n",
      "INFO:submitit:Job completed successfully\n",
      "\n",
      "--------------------------------\n",
      "/private/home/yannd/projects/NPF/neuralproc/architectures/mlp.py:67: UserWarning: hidden_size=32 smaller than output=128 and input=128. Setting it to 128.\n",
      "  warnings.warn(txt.format(hidden_size, output_size, input_size, self.hidden_size))\n",
      "INFO:submitit:Job completed successfully\n",
      "\n",
      "--------------------------------\n",
      "INFO:submitit:Job completed successfully\n",
      "\n",
      "--------------------------------\n",
      "/private/home/yannd/projects/NPF/neuralproc/architectures/mlp.py:67: UserWarning: hidden_size=32 smaller than output=128 and input=128. Setting it to 128.\n",
      "  warnings.warn(txt.format(hidden_size, output_size, input_size, self.hidden_size))\n",
      "INFO:submitit:Job completed successfully\n",
      "\n"
     ]
    }
   ],
   "source": [
    "for j in jobs_32:\n",
    "    print(\"--------------------------------\")\n",
    "    print(j.stderr())"
   ]
  },
  {
   "cell_type": "code",
   "execution_count": 13,
   "metadata": {},
   "outputs": [],
   "source": [
    "for job in jobs:\n",
    "    job.cancel()"
   ]
  },
  {
   "cell_type": "code",
   "execution_count": null,
   "metadata": {},
   "outputs": [],
   "source": []
  }
 ],
 "metadata": {
  "kernelspec": {
   "display_name": "Python 3",
   "language": "python",
   "name": "python3"
  },
  "language_info": {
   "codemirror_mode": {
    "name": "ipython",
    "version": 3
   },
   "file_extension": ".py",
   "mimetype": "text/x-python",
   "name": "python",
   "nbconvert_exporter": "python",
   "pygments_lexer": "ipython3",
   "version": "3.7.6"
  },
  "toc": {
   "base_numbering": 1,
   "nav_menu": {},
   "number_sections": true,
   "sideBar": true,
   "skip_h1_title": true,
   "title_cell": "Table of Contents",
   "title_sidebar": "Contents",
   "toc_cell": true,
   "toc_position": {},
   "toc_section_display": true,
   "toc_window_display": false
  }
 },
 "nbformat": 4,
 "nbformat_minor": 4
}
