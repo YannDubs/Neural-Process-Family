{
 "cells": [
  {
   "cell_type": "markdown",
   "metadata": {
    "toc": true
   },
   "source": [
    "<h1>Table of Contents<span class=\"tocSkip\"></span></h1>\n",
    "<div class=\"toc\"><ul class=\"toc-item\"></ul></div>"
   ]
  },
  {
   "cell_type": "markdown",
   "metadata": {},
   "source": [
    "# Run GriddedCCP"
   ]
  },
  {
   "cell_type": "code",
   "execution_count": 1,
   "metadata": {
    "scrolled": true
   },
   "outputs": [
    {
     "name": "stdout",
     "output_type": "stream",
     "text": [
      "/private/home/yannd/projects/Neural-Process-Family\n"
     ]
    }
   ],
   "source": [
    "cd .."
   ]
  },
  {
   "cell_type": "code",
   "execution_count": 2,
   "metadata": {},
   "outputs": [],
   "source": [
    "import neuralproc"
   ]
  },
  {
   "cell_type": "code",
   "execution_count": 3,
   "metadata": {},
   "outputs": [],
   "source": [
    "import submitit\n",
    "from train_imgs import main, parse_arguments\n",
    "\n",
    "log_folder=\"logs/%j\""
   ]
  },
  {
   "cell_type": "code",
   "execution_count": 4,
   "metadata": {},
   "outputs": [],
   "source": [
    "def repeat_list(l, n):\n",
    "    return [i for i in l for _ in range(n)]\n",
    "\n",
    "class Run:\n",
    "    def checkpoint(self, args):\n",
    "        \"\"\"Resubmits the same callable with the same arguments but makes sure continnue from last chckpnt.\"\"\"\n",
    "        args.is_continue_train=True \n",
    "        return submitit.utils.DelayedSubmission(self, args)\n",
    "    \n",
    "    def __call__(self, args):\n",
    "        job_env = submitit.utils.JobEnvironment()\n",
    "        args.starting_run = args.starting_run * job_env.num_tasks + job_env.local_rank\n",
    "        return main(args)"
   ]
  },
  {
   "cell_type": "code",
   "execution_count": 5,
   "metadata": {},
   "outputs": [],
   "source": [
    "args = [parse_arguments(\"GridedCCP {} --chckpnt-dirname results/iclr/\".format(d).split())\n",
    "        for d in [\"celeba\"]]"
   ]
  },
  {
   "cell_type": "code",
   "execution_count": 6,
   "metadata": {},
   "outputs": [],
   "source": [
    "executor=submitit.SlurmExecutor(folder=log_folder, max_num_timeout=3)\n",
    "executor.update_parameters(num_gpus=1, \n",
    "                           time=60*24*2, \n",
    "                           cpus_per_task=10, \n",
    "                           mem='32GB',  \n",
    "                           ntasks_per_node=1)"
   ]
  },
  {
   "cell_type": "code",
   "execution_count": 7,
   "metadata": {},
   "outputs": [],
   "source": [
    "job = executor.map_array(Run(), args)"
   ]
  },
  {
   "cell_type": "code",
   "execution_count": 35,
   "metadata": {},
   "outputs": [
    {
     "data": {
      "text/plain": [
       "[SlurmJob<job_id=17832685_0, task_id=0, state=\"RUNNING\">]"
      ]
     },
     "execution_count": 35,
     "metadata": {},
     "output_type": "execute_result"
    }
   ],
   "source": [
    "j = job[0]\n",
    "job"
   ]
  },
  {
   "cell_type": "code",
   "execution_count": 63,
   "metadata": {},
   "outputs": [
    {
     "name": "stdout",
     "output_type": "stream",
     "text": [
      "--------------------------------\n",
      "submitit INFO (2019-09-19 16:40:01,396) - Starting with JobEnvironment(job_id=17873124_0, hostname=learnfair0254, local_rank=0(1), node=0(1), global_rank=0(1))\n",
      "submitit INFO (2019-09-19 16:40:01,396) - Loading pickle: /private/home/yannd/projects/Neural-Process-Family/logs/17873124_0/17873124_0_submitted.pkl\n",
      "\n",
      "--- Training celeba/GridedCCP_large/run_0 ---\n",
      "\n",
      "  epoch    train_loss    valid_loss    cp        dur\n",
      "-------  ------------  ------------  ----  ---------\n",
      "      1       \u001b[36m-3.7384\u001b[0m       \u001b[32m-3.8887\u001b[0m     +  8407.0442\n",
      "      2       \u001b[36m-3.9029\u001b[0m       \u001b[32m-3.9162\u001b[0m     +  8143.0320\n",
      "      3       \u001b[36m-3.9249\u001b[0m       \u001b[32m-3.9584\u001b[0m     +  8223.9924\n",
      "      4       \u001b[36m-3.9457\u001b[0m       -3.9439        8210.9578\n",
      "\n"
     ]
    }
   ],
   "source": [
    "for j in job:\n",
    "    print(\"--------------------------------\")\n",
    "    print(j.stdout())"
   ]
  },
  {
   "cell_type": "code",
   "execution_count": 60,
   "metadata": {},
   "outputs": [
    {
     "name": "stdout",
     "output_type": "stream",
     "text": [
      "--------------------------------\n",
      "\n"
     ]
    }
   ],
   "source": [
    "for j in job:\n",
    "    print(\"--------------------------------\")\n",
    "    print(j.stderr())"
   ]
  },
  {
   "cell_type": "code",
   "execution_count": 46,
   "metadata": {},
   "outputs": [],
   "source": [
    "args_large = [parse_arguments(\"GridedCCP {} --name GridedCCP_large --chckpnt-dirname results/iclr/ --n-blocks 7 --kernel-size 11 --init-kernel-size 11\".format(d).split())\n",
    "        for d in [\"celeba\"]]"
   ]
  },
  {
   "cell_type": "code",
   "execution_count": 47,
   "metadata": {},
   "outputs": [],
   "source": [
    "executor_large=submitit.SlurmExecutor(folder=log_folder, max_num_timeout=3)\n",
    "executor_large.update_parameters(num_gpus=1, \n",
    "                           time=60*24*3, \n",
    "                           cpus_per_task=10, \n",
    "                           mem='32GB',  \n",
    "                           ntasks_per_node=1)"
   ]
  },
  {
   "cell_type": "code",
   "execution_count": 48,
   "metadata": {},
   "outputs": [],
   "source": [
    "job_large = executor.map_array(Run(), args_large)"
   ]
  },
  {
   "cell_type": "code",
   "execution_count": 56,
   "metadata": {},
   "outputs": [
    {
     "data": {
      "text/plain": [
       "[SlurmJob<job_id=17873124_0, task_id=0, state=\"RUNNING\">]"
      ]
     },
     "execution_count": 56,
     "metadata": {},
     "output_type": "execute_result"
    }
   ],
   "source": [
    "job_large"
   ]
  },
  {
   "cell_type": "code",
   "execution_count": 58,
   "metadata": {},
   "outputs": [
    {
     "name": "stdout",
     "output_type": "stream",
     "text": [
      "--------------------------------\n",
      "submitit INFO (2019-09-19 16:40:01,396) - Starting with JobEnvironment(job_id=17873124_0, hostname=learnfair0254, local_rank=0(1), node=0(1), global_rank=0(1))\n",
      "submitit INFO (2019-09-19 16:40:01,396) - Loading pickle: /private/home/yannd/projects/Neural-Process-Family/logs/17873124_0/17873124_0_submitted.pkl\n",
      "\n",
      "--- Training celeba/GridedCCP_large/run_0 ---\n",
      "\n",
      "\n"
     ]
    }
   ],
   "source": [
    "for j in job:\n",
    "    print(\"--------------------------------\")\n",
    "    print(j.stdout())"
   ]
  },
  {
   "cell_type": "code",
   "execution_count": 55,
   "metadata": {},
   "outputs": [
    {
     "name": "stdout",
     "output_type": "stream",
     "text": [
      "--------------------------------\n",
      "\n"
     ]
    }
   ],
   "source": [
    "for j in job:\n",
    "    print(\"--------------------------------\")\n",
    "    print(j.stderr())\n",
    "    "
   ]
  },
  {
   "cell_type": "code",
   "execution_count": null,
   "metadata": {},
   "outputs": [],
   "source": []
  }
 ],
 "metadata": {
  "kernelspec": {
   "display_name": "Python 3",
   "language": "python",
   "name": "python3"
  },
  "language_info": {
   "codemirror_mode": {
    "name": "ipython",
    "version": 3
   },
   "file_extension": ".py",
   "mimetype": "text/x-python",
   "name": "python",
   "nbconvert_exporter": "python",
   "pygments_lexer": "ipython3",
   "version": "3.7.4"
  },
  "toc": {
   "base_numbering": 1,
   "nav_menu": {},
   "number_sections": true,
   "sideBar": true,
   "skip_h1_title": true,
   "title_cell": "Table of Contents",
   "title_sidebar": "Contents",
   "toc_cell": true,
   "toc_position": {},
   "toc_section_display": true,
   "toc_window_display": false
  }
 },
 "nbformat": 4,
 "nbformat_minor": 2
}
