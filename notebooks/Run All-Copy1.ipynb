{
 "cells": [
  {
   "cell_type": "markdown",
   "metadata": {},
   "source": [
    "# Run GriddedCCP"
   ]
  },
  {
   "cell_type": "code",
   "execution_count": 1,
   "metadata": {
    "scrolled": true
   },
   "outputs": [
    {
     "name": "stdout",
     "output_type": "stream",
     "text": [
      "/private/home/yannd/projects/Neural-Process-Family\n"
     ]
    }
   ],
   "source": [
    "cd .."
   ]
  },
  {
   "cell_type": "code",
   "execution_count": 2,
   "metadata": {},
   "outputs": [],
   "source": [
    "import os\n",
    "os.environ['CUDA_VISIBLE_DEVICES'] = \"1\"\n",
    "    \n",
    "import neuralproc"
   ]
  },
  {
   "cell_type": "code",
   "execution_count": 3,
   "metadata": {},
   "outputs": [],
   "source": [
    "import submitit\n",
    "from train_imgs import main, parse_arguments\n",
    "\n",
    "log_folder=\"logs/%j\""
   ]
  },
  {
   "cell_type": "code",
   "execution_count": 4,
   "metadata": {},
   "outputs": [],
   "source": [
    "def repeat_list(l, n):\n",
    "    return [i for i in l for _ in range(n)]\n",
    "\n",
    "class Run:\n",
    "    def checkpoint(self, args):\n",
    "        \"\"\"Resubmits the same callable with the same arguments but makes sure continnue from last chckpnt.\"\"\"\n",
    "        args.is_continue_train=True \n",
    "        return submitit.utils.DelayedSubmission(self, args)\n",
    "    \n",
    "    def __call__(self, args):\n",
    "        job_env = submitit.utils.JobEnvironment()\n",
    "        args.starting_run = args.starting_run * job_env.num_tasks + job_env.local_rank\n",
    "        return main(args)"
   ]
  },
  {
   "cell_type": "code",
   "execution_count": 5,
   "metadata": {},
   "outputs": [],
   "source": [
    "args_32_ccp = parse_arguments(\"SelfAttnCNP zs-multi-mnist --max-epochs 1 --batch-size 6 --name test --chckpnt-dirname results/test/ --is-progressbar\".split())\n"
   ]
  },
  {
   "cell_type": "code",
   "execution_count": 6,
   "metadata": {},
   "outputs": [],
   "source": [
    "args_64_anp = [parse_arguments(\"SelfAttnCNP {}  --batch-size 6 --chckpnt-dirname results/test/ \".format(d).split())\n",
    "                for d in [\"zs-multi-mnist\"]]\n",
    "\n",
    "executor_64_anp=submitit.SlurmExecutor(folder=log_folder, max_num_timeout=1)\n",
    "executor_64_anp.update_parameters(num_gpus=1, \n",
    "                                   time=10,  \n",
    "                                   cpus_per_task=10, \n",
    "                                   mem='32GB',\n",
    "                                  constraint=\"volta32gb\",\n",
    "                                  partition=\"dev\"\n",
    "                                  )\n",
    "\n",
    "job_64_anp = executor_64_anp.map_array(Run(), args_64_anp)"
   ]
  },
  {
   "cell_type": "code",
   "execution_count": 19,
   "metadata": {},
   "outputs": [
    {
     "data": {
      "text/plain": [
       "[SlurmJob<job_id=17872513_0, task_id=0, state=\"FAILED\">]"
      ]
     },
     "execution_count": 19,
     "metadata": {},
     "output_type": "execute_result"
    }
   ],
   "source": [
    "job_64_anp\n"
   ]
  },
  {
   "cell_type": "code",
   "execution_count": 17,
   "metadata": {},
   "outputs": [
    {
     "name": "stdout",
     "output_type": "stream",
     "text": [
      "INFO:utils.data.imgs:Resizing ZeroShotMultiMNIST ...\n",
      "INFO:utils.data.imgs:Resizing ZeroShotMultiMNIST ...\n",
      "/private/home/yannd/projects/Neural-Process-Family/neuralproc/predefined/mlp.py:67: UserWarning: hidden_size=32 smaller than output=128 and input=128. Setting it to 128.\n",
      "  warnings.warn(txt.format(hidden_size, output_size, input_size, self.hidden_size))\n",
      "/private/home/yannd/projects/Neural-Process-Family/neuralproc/predefined/mlp.py:67: UserWarning: hidden_size=32 smaller than output=256 and input=128. Setting it to 128.\n",
      "  warnings.warn(txt.format(hidden_size, output_size, input_size, self.hidden_size))\n",
      "submitit WARNING (2019-09-19 16:33:55,614) - Caught USR1 signal 10 on learnfair0801: this job is timed-out.\n",
      "WARNING:submitit:Caught USR1 signal 10 on learnfair0801: this job is timed-out.\n",
      "INFO:submitit:Calling checkpoint method.\n",
      "INFO:submitit:Requeued job 17872513_0 (0 remaining timeouts)\n",
      "INFO:submitit:Exiting gracefully after preemption/timeout.\n",
      "slurmstepd-learnfair0801: error: *** JOB 17872513 ON learnfair0801 CANCELLED AT 2019-09-19T16:33:56 DUE TO JOB REQUEUE ***\n",
      "slurmstepd-learnfair0801: error: *** STEP 17872513.0 ON learnfair0801 CANCELLED AT 2019-09-19T16:33:56 DUE TO JOB REQUEUE ***\n",
      "submitit WARNING (2019-09-19 16:33:56,541) - Bypassing sigterm.\n",
      "WARNING:submitit:Bypassing sigterm.\n",
      "INFO:utils.data.imgs:Resizing ZeroShotMultiMNIST ...\n",
      "INFO:utils.data.imgs:Resizing ZeroShotMultiMNIST ...\n",
      "/private/home/yannd/projects/Neural-Process-Family/neuralproc/predefined/mlp.py:67: UserWarning: hidden_size=32 smaller than output=128 and input=128. Setting it to 128.\n",
      "  warnings.warn(txt.format(hidden_size, output_size, input_size, self.hidden_size))\n",
      "/private/home/yannd/projects/Neural-Process-Family/neuralproc/predefined/mlp.py:67: UserWarning: hidden_size=32 smaller than output=256 and input=128. Setting it to 128.\n",
      "  warnings.warn(txt.format(hidden_size, output_size, input_size, self.hidden_size))\n",
      "submitit WARNING (2019-09-19 16:46:14,211) - Caught USR1 signal 10 on learnfair0925: this job is timed-out.\n",
      "WARNING:submitit:Caught USR1 signal 10 on learnfair0925: this job is timed-out.\n",
      "INFO:submitit:Calling checkpoint method.\n",
      "INFO:submitit:Job not requeued because: timed-out too many times.\n",
      "submitit ERROR (2019-09-19 16:46:14,234) - Submitted job triggered an exception\n",
      "ERROR:submitit:Submitted job triggered an exception\n",
      "Traceback (most recent call last):\n",
      "  File \"/private/home/yannd/.conda/envs/neuralproc/lib/python3.7/runpy.py\", line 193, in _run_module_as_main\n",
      "    \"__main__\", mod_spec)\n",
      "  File \"/private/home/yannd/.conda/envs/neuralproc/lib/python3.7/runpy.py\", line 85, in _run_code\n",
      "    exec(code, run_globals)\n",
      "  File \"/private/home/yannd/.conda/envs/neuralproc/lib/python3.7/site-packages/submitit/_submit.py\", line 6, in <module>\n",
      "    submitit_main()\n",
      "  File \"/private/home/yannd/.conda/envs/neuralproc/lib/python3.7/site-packages/submitit/submission.py\", line 186, in submitit_main\n",
      "    process_job(args.folder)\n",
      "  File \"/private/home/yannd/.conda/envs/neuralproc/lib/python3.7/site-packages/submitit/submission.py\", line 179, in process_job\n",
      "    raise error\n",
      "  File \"/private/home/yannd/.conda/envs/neuralproc/lib/python3.7/site-packages/submitit/submission.py\", line 168, in process_job\n",
      "    result = delayed.result()\n",
      "  File \"/private/home/yannd/.conda/envs/neuralproc/lib/python3.7/site-packages/submitit/utils.py\", line 122, in result\n",
      "    self._result = self.function(*self.args, **self.kwargs)\n",
      "  File \"<ipython-input-4-21e536907d9e>\", line 13, in __call__\n",
      "  File \"/private/home/yannd/projects/Neural-Process-Family/train_imgs.py\", line 216, in main\n",
      "    chckpnt_dirname=args.chckpnt_dirname,\n",
      "  File \"/private/home/yannd/projects/Neural-Process-Family/train_imgs.py\", line 181, in train\n",
      "    **kwargs,\n",
      "  File \"/private/home/yannd/projects/Neural-Process-Family/utils/train.py\", line 216, in train_models\n",
      "    _ = trainer.fit(data_train)\n",
      "  File \"/private/home/yannd/.conda/envs/neuralproc/lib/python3.7/site-packages/skorch/net.py\", line 852, in fit\n",
      "    self.partial_fit(X, y, **fit_params)\n",
      "  File \"/private/home/yannd/.conda/envs/neuralproc/lib/python3.7/site-packages/skorch/net.py\", line 811, in partial_fit\n",
      "    self.fit_loop(X, y, **fit_params)\n",
      "  File \"/private/home/yannd/.conda/envs/neuralproc/lib/python3.7/site-packages/skorch/net.py\", line 743, in fit_loop\n",
      "    step = self.train_step(Xi, yi, **fit_params)\n",
      "  File \"/private/home/yannd/.conda/envs/neuralproc/lib/python3.7/site-packages/skorch/net.py\", line 670, in train_step\n",
      "    self.optimizer_.step(step_fn)\n",
      "  File \"/private/home/yannd/.conda/envs/neuralproc/lib/python3.7/site-packages/torch/optim/adam.py\", line 58, in step\n",
      "    loss = closure()\n",
      "  File \"/private/home/yannd/.conda/envs/neuralproc/lib/python3.7/site-packages/skorch/net.py\", line 667, in step_fn\n",
      "    step = self.train_step_single(Xi, yi, **fit_params)\n",
      "  File \"/private/home/yannd/.conda/envs/neuralproc/lib/python3.7/site-packages/skorch/net.py\", line 610, in train_step_single\n",
      "    loss = self.get_loss(y_pred, yi, X=Xi, training=True)\n",
      "  File \"/private/home/yannd/.conda/envs/neuralproc/lib/python3.7/site-packages/skorch/net.py\", line 1081, in get_loss\n",
      "    y_true = to_tensor(y_true, device=self.device)\n",
      "  File \"/private/home/yannd/.conda/envs/neuralproc/lib/python3.7/site-packages/skorch/utils.py\", line 76, in to_tensor\n",
      "    return X.to(device)\n",
      "  File \"/private/home/yannd/.conda/envs/neuralproc/lib/python3.7/site-packages/submitit/submission.py\", line 104, in sigusr1\n",
      "    raise utils.UncompletedJobError(message)\n",
      "submitit.utils.UncompletedJobError: Job not requeued because: timed-out too many times.\n",
      "srun: error: learnfair0925: task 0: Exited with exit code 1\n",
      "\n"
     ]
    }
   ],
   "source": [
    "print(job_64_anp[0].stderr())"
   ]
  },
  {
   "cell_type": "code",
   "execution_count": 12,
   "metadata": {},
   "outputs": [
    {
     "name": "stdout",
     "output_type": "stream",
     "text": [
      "submitit INFO (2019-09-19 16:26:00,353) - Starting with JobEnvironment(job_id=17872513_0, hostname=learnfair0801, local_rank=0(1), node=0(1), global_rank=0(1))\n",
      "submitit INFO (2019-09-19 16:26:00,353) - Loading pickle: /private/home/yannd/projects/Neural-Process-Family/logs/17872513_0/17872513_0_submitted.pkl\n",
      "\n"
     ]
    }
   ],
   "source": [
    "print(job_64_anp[0].stdout())"
   ]
  },
  {
   "cell_type": "code",
   "execution_count": null,
   "metadata": {},
   "outputs": [],
   "source": []
  }
 ],
 "metadata": {
  "kernelspec": {
   "display_name": "Python 3",
   "language": "python",
   "name": "python3"
  },
  "language_info": {
   "codemirror_mode": {
    "name": "ipython",
    "version": 3
   },
   "file_extension": ".py",
   "mimetype": "text/x-python",
   "name": "python",
   "nbconvert_exporter": "python",
   "pygments_lexer": "ipython3",
   "version": "3.7.4"
  }
 },
 "nbformat": 4,
 "nbformat_minor": 2
}
