{
 "cells": [
  {
   "cell_type": "markdown",
   "metadata": {
    "toc": true
   },
   "source": [
    "<h1>Table of Contents<span class=\"tocSkip\"></span></h1>\n",
    "<div class=\"toc\"><ul class=\"toc-item\"></ul></div>"
   ]
  },
  {
   "cell_type": "markdown",
   "metadata": {},
   "source": [
    "# NeurIPS - Run ZSMM\n",
    "\n",
    "Goal : train models on ZSMM\n",
    "\n",
    "Data : ZSMM\n",
    "\n",
    "Models : SelfAttnLNP and ConvLNP and ConvCNP \n",
    "\n",
    "Loss : NLLLloss\n",
    "\n",
    "Runs : 1"
   ]
  },
  {
   "cell_type": "code",
   "execution_count": null,
   "metadata": {
    "scrolled": true
   },
   "outputs": [],
   "source": [
    "import os\n",
    "\n",
    "os.chdir(\"..\")"
   ]
  },
  {
   "cell_type": "code",
   "execution_count": null,
   "metadata": {},
   "outputs": [],
   "source": [
    "import submitit\n",
    "\n",
    "from train_imgs import main, parse_arguments\n",
    "from results import get_exp_args\n",
    "\n",
    "class Run:\n",
    "    def checkpoint(self, args):\n",
    "        \"\"\"Resubmits the same callable with the same arguments but makes sure continnue from last chckpnt.\"\"\"\n",
    "        args.is_continue_train = True\n",
    "        return submitit.utils.DelayedSubmission(self, args)\n",
    "\n",
    "    def __call__(self, args):\n",
    "        job_env = submitit.utils.JobEnvironment()\n",
    "        args.starting_run = args.starting_run * job_env.num_tasks + job_env.local_rank\n",
    "        return main(args)\n"
   ]
  },
  {
   "cell_type": "code",
   "execution_count": 10,
   "metadata": {},
   "outputs": [
    {
     "data": {
      "text/plain": [
       "3"
      ]
     },
     "execution_count": 10,
     "metadata": {},
     "output_type": "execute_result"
    }
   ],
   "source": [
    "args = get_exp_args(\"exp_equivariance\", is_load=False)\n",
    "len(args)"
   ]
  },
  {
   "cell_type": "code",
   "execution_count": 19,
   "metadata": {},
   "outputs": [],
   "source": [
    "executor=submitit.SlurmExecutor(folder=\"logs/%j\", max_num_timeout=3)\n",
    "executor.update_parameters(num_gpus=1, \n",
    "                           time=60*24*2,  \n",
    "                           cpus_per_task=10, \n",
    "                           mem='32GB',\n",
    "                          partition=\"priority\",\n",
    "                           comment=\"neurips\",\n",
    "                           constraint=\"volta32gb\"\n",
    "                          )"
   ]
  },
  {
   "cell_type": "code",
   "execution_count": 20,
   "metadata": {},
   "outputs": [],
   "source": [
    "jobs = executor.map_array(Run(), args)"
   ]
  },
  {
   "cell_type": "code",
   "execution_count": 21,
   "metadata": {},
   "outputs": [],
   "source": [
    "############################################################"
   ]
  },
  {
   "cell_type": "code",
   "execution_count": 32,
   "metadata": {},
   "outputs": [
    {
     "data": {
      "text/plain": [
       "[SlurmJob<job_id=26760187_0, task_id=0, state=\"COMPLETED\">,\n",
       " SlurmJob<job_id=26760187_1, task_id=0, state=\"COMPLETED\">,\n",
       " SlurmJob<job_id=26760187_2, task_id=0, state=\"COMPLETED\">]"
      ]
     },
     "execution_count": 32,
     "metadata": {},
     "output_type": "execute_result"
    }
   ],
   "source": [
    "jobs"
   ]
  },
  {
   "cell_type": "code",
   "execution_count": 33,
   "metadata": {},
   "outputs": [
    {
     "name": "stdout",
     "output_type": "stream",
     "text": [
      "--------------------------------\n",
      "submitit INFO (2020-05-24 11:10:29,543) - Starting with JobEnvironment(job_id=26760187_0, hostname=learnfair0899, local_rank=0(1), node=0(1), global_rank=0(1))\n",
      "submitit INFO (2020-05-24 11:10:29,544) - Loading pickle: /private/home/yannd/projects/NPF/logs/26760187_0/26760187_0_submitted.pkl\n",
      "\n",
      "--- Training zs-multi-mnist/ConvNPF_CNPF/run_0 ---\n",
      "\n",
      "  epoch    train_loss    valid_loss    cp       dur\n",
      "-------  ------------  ------------  ----  --------\n",
      "      1    \u001b[36m-3395.7554\u001b[0m    \u001b[32m-3777.7707\u001b[0m     +  123.3981\n",
      "      2    \u001b[36m-3828.6315\u001b[0m    \u001b[32m-3808.9409\u001b[0m     +  123.4747\n",
      "      3    -3812.1691    \u001b[32m-3855.3044\u001b[0m     +  122.8613\n",
      "      4    \u001b[36m-3856.9804\u001b[0m    \u001b[32m-3946.1013\u001b[0m     +  123.0591\n",
      "      5    \u001b[36m-3895.8177\u001b[0m    -3913.0227        122.7985\n",
      "      6    -3876.4443    \u001b[32m-3968.0529\u001b[0m     +  122.7332\n",
      "      7    \u001b[36m-3935.7825\u001b[0m    -3940.6376        122.1634\n",
      "      8    \u001b[36m-3937.4841\u001b[0m    -3955.6491        122.9261\n",
      "      9    \u001b[36m-3969.0630\u001b[0m    -3849.1058        122.8861\n",
      "     10    \u001b[36m-3969.2065\u001b[0m    \u001b[32m-4025.2466\u001b[0m     +  122.7955\n",
      "     11    \u001b[36m-4005.5281\u001b[0m    -3992.2683        122.8890\n",
      "     12    -3954.7209    -4004.1762        122.3218\n",
      "     13    -3964.4762    -3941.5363        123.0791\n",
      "     14    -3996.2781    -3918.9301        119.8538\n",
      "     15    -3985.3223    -4003.6329        118.0361\n",
      "     16    -3984.1729    \u001b[32m-4033.6460\u001b[0m     +  117.7506\n",
      "     17    \u001b[36m-4012.9805\u001b[0m    -3995.5644        117.9147\n",
      "     18    -4004.9279    -3957.0995        117.7421\n",
      "     19    -4002.4507    -3981.6106        117.8257\n",
      "     20    -3997.6436    -3920.0151        117.7107\n",
      "     21    \u001b[36m-4025.0629\u001b[0m    -4031.1470        117.8000\n",
      "     22    \u001b[36m-4028.3696\u001b[0m    -3945.3471        117.6399\n",
      "     23    -3997.9858    \u001b[32m-4034.8054\u001b[0m     +  117.7423\n",
      "     24    -4018.2894    \u001b[32m-4053.4745\u001b[0m     +  114.1071\n",
      "     25    \u001b[36m-4032.1029\u001b[0m    -4044.4123        114.0273\n",
      "     26    -4028.1206    -3968.0827        113.6946\n",
      "     27    -4011.7377    -4019.8717        113.9010\n",
      "     28    -4019.1836    -3968.2130        113.8548\n",
      "     29    -3982.9359    -4019.7583        113.8166\n",
      "     30    -4018.9802    \u001b[32m-4060.5092\u001b[0m     +  113.9190\n",
      "     31    -4017.2051    \u001b[32m-4075.1521\u001b[0m     +  117.6107\n",
      "     32    -4018.7025    -3997.5412        117.5490\n",
      "     33    -4017.3749    -4013.4403        117.5174\n",
      "     34    -4022.8936    -4016.6466        117.6985\n",
      "     35    \u001b[36m-4044.4791\u001b[0m    -4050.6209        117.5430\n",
      "     36    -4019.3376    -4011.6877        117.7934\n",
      "     37    -4035.7735    -4045.0048        117.8315\n",
      "     38    -4015.4488    -4041.4154        117.6991\n",
      "     39    -4001.4076    -4056.5710        117.5112\n",
      "     40    -3988.1651    -4023.3409        117.7681\n",
      "     41    -4031.4808    \u001b[32m-4078.4184\u001b[0m     +  117.8805\n",
      "     42    -4026.0605    -4061.9240        117.8523\n",
      "     43    -4017.8051    -4021.6840        114.1678\n",
      "     44    -4032.5694    \u001b[32m-4123.5304\u001b[0m     +  114.1093\n",
      "     45    -4042.4017    -4023.5053        118.2119\n",
      "     46    \u001b[36m-4056.0503\u001b[0m    -4079.8953        118.2095\n",
      "     47    -4038.1116    -4078.6205        117.7663\n",
      "     48    -4024.9317    -4036.7820        118.3405\n",
      "     49    -4040.2639    -4037.9059        118.1818\n",
      "     50    -4018.2222    -4086.6063        118.0870\n",
      "Re-initializing module.\n",
      "Re-initializing optimizer.\n",
      "zs-multi-mnist/ConvNPF_CNPF/run_0 | best epoch: 44 | train loss: -4044.4791 | valid loss: -4123.5304 | test log likelihood: 3631.344\n",
      "submitit INFO (2020-05-24 12:49:53,169) - Job completed successfully\n",
      "\n",
      "--------------------------------\n",
      "submitit INFO (2020-05-24 11:10:26,892) - Starting with JobEnvironment(job_id=26760187_1, hostname=learnfair0331, local_rank=0(1), node=0(1), global_rank=0(1))\n",
      "submitit INFO (2020-05-24 11:10:26,892) - Loading pickle: /private/home/yannd/projects/NPF/logs/26760187_1/26760187_1_submitted.pkl\n",
      "\n",
      "--- Training zs-multi-mnist/ConvNPF_NllLNPF/run_0 ---\n",
      "\n",
      "  epoch    train_loss    valid_loss    cp       dur\n",
      "-------  ------------  ------------  ----  --------\n",
      "      1    \u001b[36m-2891.4960\u001b[0m    \u001b[32m-3471.3223\u001b[0m     +  452.8316\n",
      "      2    \u001b[36m-3499.7849\u001b[0m    \u001b[32m-3497.4715\u001b[0m     +  450.3913\n",
      "      3    \u001b[36m-3552.1248\u001b[0m    \u001b[32m-3541.2688\u001b[0m     +  451.3609\n",
      "      4    -3529.0387    -3505.5471        451.3136\n",
      "      5    \u001b[36m-3570.0293\u001b[0m    \u001b[32m-3593.3459\u001b[0m     +  451.1811\n",
      "      6    \u001b[36m-3607.6523\u001b[0m    \u001b[32m-3716.5105\u001b[0m     +  451.4405\n",
      "      7    \u001b[36m-3640.4386\u001b[0m    -3611.4412        451.3875\n",
      "      8    \u001b[36m-3641.9967\u001b[0m    -3682.8905        451.3330\n",
      "      9    -3631.1002    -3507.1607        451.2698\n",
      "     10    \u001b[36m-3654.9356\u001b[0m    \u001b[32m-3751.1033\u001b[0m     +  450.9425\n",
      "     11    \u001b[36m-3707.8196\u001b[0m    -3727.7127        451.3847\n",
      "     12    -3651.5717    -3746.7776        451.4474\n",
      "     13    -3655.4899    -3621.9682        451.3315\n",
      "     14    -3703.0740    -3585.1481        451.1286\n",
      "     15    -3699.6705    -3716.1683        451.1120\n",
      "     16    -3663.9454    \u001b[32m-3771.3571\u001b[0m     +  451.2974\n",
      "     17    \u001b[36m-3732.9280\u001b[0m    -3710.6610        451.3786\n",
      "     18    -3726.6340    -3666.9385        451.3956\n",
      "     19    -3725.7631    -3637.0435        451.2489\n",
      "     20    \u001b[36m-3735.1387\u001b[0m    -3660.3378        451.1195\n",
      "     21    \u001b[36m-3748.4443\u001b[0m    -3743.0000        451.4020\n",
      "     22    \u001b[36m-3766.5998\u001b[0m    -3713.2729        451.4026\n",
      "     23    -3735.0958    -3732.6458        451.5007\n",
      "     24    -3750.2940    \u001b[32m-3795.3694\u001b[0m     +  451.4630\n",
      "     25    -3753.1519    -3688.7436        451.4829\n",
      "     26    -3730.1511    -3658.9250        451.1255\n",
      "     27    -3737.9443    -3786.4099        451.4891\n",
      "     28    -3749.1979    -3676.9337        451.4555\n",
      "     29    -3711.5237    \u001b[32m-3798.0003\u001b[0m     +  451.3934\n",
      "     30    -3758.9680    \u001b[32m-3870.0405\u001b[0m     +  451.4200\n",
      "     31    -3757.0391    \u001b[32m-3871.9242\u001b[0m     +  451.2368\n",
      "     32    -3762.2367    -3796.3342        451.4325\n",
      "     33    -3748.2629    -3800.4961        451.2065\n",
      "     34    -3757.7930    -3713.4484        451.4899\n",
      "     35    \u001b[36m-3781.9465\u001b[0m    -3860.2491        451.4985\n",
      "     36    -3751.2662    -3720.7054        451.4061\n",
      "     37    \u001b[36m-3785.6650\u001b[0m    -3835.6499        451.0791\n",
      "     38    -3747.6056    -3782.4073        451.3625\n",
      "     39    -3723.9054    -3865.9174        451.4717\n",
      "     40    -3716.6885    -3788.8208        451.4718\n",
      "Stopping since valid_loss has not improved in the last 10 epochs.\n",
      "Re-initializing module.\n",
      "Re-initializing optimizer.\n",
      "zs-multi-mnist/ConvNPF_NllLNPF/run_0 | best epoch: 31 | train loss: -3766.5998 | valid loss: -3871.9242 | test log likelihood: 3078.5605\n",
      "submitit INFO (2020-05-24 16:19:59,871) - Job completed successfully\n",
      "\n",
      "--------------------------------\n",
      "submitit INFO (2020-05-24 11:10:26,901) - Starting with JobEnvironment(job_id=26760187_2, hostname=learnfair0354, local_rank=0(1), node=0(1), global_rank=0(1))\n",
      "submitit INFO (2020-05-24 11:10:26,901) - Loading pickle: /private/home/yannd/projects/NPF/logs/26760187_2/26760187_2_submitted.pkl\n",
      "\n",
      "--- Training zs-multi-mnist/SelfAttnNPF_NllLNPF/run_0 ---\n",
      "\n",
      "  epoch    train_loss    valid_loss    cp       dur\n",
      "-------  ------------  ------------  ----  --------\n",
      "      1    \u001b[36m-2671.2250\u001b[0m    \u001b[32m-3348.3798\u001b[0m     +  769.7203\n",
      "      2    \u001b[36m-3431.3855\u001b[0m    \u001b[32m-3546.9480\u001b[0m     +  771.5291\n",
      "      3    \u001b[36m-3552.9050\u001b[0m    \u001b[32m-3628.3824\u001b[0m     +  775.0118\n",
      "      4    \u001b[36m-3598.7850\u001b[0m    \u001b[32m-3658.2552\u001b[0m     +  772.4086\n",
      "      5    \u001b[36m-3629.5956\u001b[0m    \u001b[32m-3664.3457\u001b[0m     +  766.5117\n",
      "      6    \u001b[36m-3664.2792\u001b[0m    \u001b[32m-3717.7966\u001b[0m     +  764.0505\n",
      "      7    \u001b[36m-3682.2596\u001b[0m    \u001b[32m-3750.0207\u001b[0m     +  762.0916\n",
      "      8    \u001b[36m-3691.2803\u001b[0m    -3737.6259        760.1148\n",
      "      9    \u001b[36m-3723.5536\u001b[0m    \u001b[32m-3760.6883\u001b[0m     +  764.5369\n",
      "     10    \u001b[36m-3725.3558\u001b[0m    \u001b[32m-3793.1021\u001b[0m     +  758.1309\n",
      "     11    \u001b[36m-3747.7477\u001b[0m    -3778.3804        759.9839\n",
      "     12    \u001b[36m-3754.5307\u001b[0m    \u001b[32m-3820.7118\u001b[0m     +  757.6125\n",
      "     13    \u001b[36m-3769.5709\u001b[0m    -3814.0772        761.5534\n",
      "     14    \u001b[36m-3781.1745\u001b[0m    -3814.1668        763.7054\n",
      "     15    \u001b[36m-3793.0779\u001b[0m    -3807.8459        763.7160\n",
      "     16    \u001b[36m-3800.8255\u001b[0m    \u001b[32m-3839.3793\u001b[0m     +  762.7003\n",
      "     17    \u001b[36m-3814.7471\u001b[0m    \u001b[32m-3840.6343\u001b[0m     +  770.9582\n",
      "     18    \u001b[36m-3821.1852\u001b[0m    \u001b[32m-3853.4447\u001b[0m     +  768.3269\n",
      "     19    -3818.4867    \u001b[32m-3873.6738\u001b[0m     +  766.6789\n",
      "     20    \u001b[36m-3823.0326\u001b[0m    -3835.8942        764.1222\n",
      "     21    \u001b[36m-3830.9838\u001b[0m    \u001b[32m-3876.0015\u001b[0m     +  763.5939\n",
      "     22    -3828.9082    -3869.1347        761.6949\n",
      "     23    \u001b[36m-3842.8550\u001b[0m    -3853.9102        762.5967\n",
      "     24    \u001b[36m-3844.1002\u001b[0m    \u001b[32m-3892.4552\u001b[0m     +  774.1577\n",
      "     25    -3834.7845    -3878.9656        775.5831\n",
      "     26    -3842.7965    -3876.3676        779.2358\n",
      "     27    -3843.0786    -3863.2073        779.0451\n",
      "     28    -3839.1737    -3839.2317        768.6998\n",
      "     29    \u001b[36m-3854.9086\u001b[0m    \u001b[32m-3905.1678\u001b[0m     +  759.9490\n",
      "     30    -3848.3690    -3900.6693        774.5042\n",
      "     31    -3850.3788    -3877.0448        780.5696\n",
      "     32    -3850.1800    -3875.2869        787.6294\n",
      "     33    -3853.3578    -3886.8595        791.3158\n",
      "     34    \u001b[36m-3855.2499\u001b[0m    -3878.3840        790.6587\n",
      "     35    \u001b[36m-3858.7430\u001b[0m    \u001b[32m-3908.9538\u001b[0m     +  790.9163\n",
      "     36    -3856.1264    -3868.6750        788.4651\n",
      "     37    -3854.4508    -3867.1789        787.6499\n",
      "     38    \u001b[36m-3866.0094\u001b[0m    -3873.1616        791.9593\n",
      "     39    -3861.6239    -3900.1243        791.4554\n",
      "     40    \u001b[36m-3873.3925\u001b[0m    -3896.3234        791.4229\n",
      "     41    -3867.1206    -3892.3577        792.8653\n",
      "     42    -3851.8272    -3844.5267        778.4132\n",
      "     43    -3871.5764    -3892.4211        789.4703\n",
      "     44    -3867.7524    -3908.6077        789.1805\n",
      "     45    -3870.4911    -3892.3975        789.9219\n",
      "     46    \u001b[36m-3880.9049\u001b[0m    -3895.8954        794.0169\n",
      "     47    -3876.5865    -3905.2836        790.7470\n",
      "     48    -3872.0058    -3907.4166        793.1115\n",
      "     49    \u001b[36m-3885.5382\u001b[0m    \u001b[32m-3932.3347\u001b[0m     +  796.2376\n",
      "     50    -3879.3146    -3885.5410        793.0680\n",
      "Re-initializing module.\n",
      "Re-initializing optimizer.\n",
      "zs-multi-mnist/SelfAttnNPF_NllLNPF/run_0 | best epoch: 49 | train loss: -3885.5382 | valid loss: -3932.3347 | test log likelihood: -2627.6267\n",
      "submitit INFO (2020-05-24 22:00:15,140) - Job completed successfully\n",
      "\n"
     ]
    }
   ],
   "source": [
    "for job in jobs:\n",
    "    print(\"--------------------------------\")\n",
    "    print(job.stdout())"
   ]
  },
  {
   "cell_type": "code",
   "execution_count": 10,
   "metadata": {},
   "outputs": [
    {
     "name": "stdout",
     "output_type": "stream",
     "text": [
      "--------------------------------\n",
      "\n",
      "--------------------------------\n",
      "\n",
      "  0%|          | 0/1032 [00:00<?, ?it/s]\n",
      "  0%|          | 1/1032 [00:00<15:59,  1.07it/s, train_loss=742]\n",
      "--------------------------------\n",
      "\n",
      "--------------------------------\n",
      "\n",
      "--------------------------------\n",
      "/private/home/yannd/projects/NPF/neuralproc/architectures/mlp.py:67: UserWarning: hidden_size=32 smaller than output=128 and input=128. Setting it to 128.\n",
      "  warnings.warn(txt.format(hidden_size, output_size, input_size, self.hidden_size))\n",
      "\n",
      "--------------------------------\n",
      "/private/home/yannd/projects/NPF/neuralproc/architectures/mlp.py:67: UserWarning: hidden_size=32 smaller than output=128 and input=128. Setting it to 128.\n",
      "  warnings.warn(txt.format(hidden_size, output_size, input_size, self.hidden_size))\n",
      "\n",
      "--------------------------------\n",
      "/private/home/yannd/projects/NPF/neuralproc/architectures/mlp.py:67: UserWarning: hidden_size=32 smaller than output=128 and input=128. Setting it to 128.\n",
      "  warnings.warn(txt.format(hidden_size, output_size, input_size, self.hidden_size))\n",
      "\n",
      "  0%|          | 0/1876 [00:00<?, ?it/s]\n",
      "  0%|          | 1/1876 [00:00<19:52,  1.57it/s, train_loss=804]\n",
      "  0%|          | 2/1876 [00:00<15:40,  1.99it/s, train_loss=792]\n",
      "  0%|          | 3/1876 [00:00<12:34,  2.48it/s, train_loss=782]\n",
      "--------------------------------\n",
      "/private/home/yannd/projects/NPF/neuralproc/architectures/mlp.py:67: UserWarning: hidden_size=32 smaller than output=128 and input=128. Setting it to 128.\n",
      "  warnings.warn(txt.format(hidden_size, output_size, input_size, self.hidden_size))\n",
      "\n",
      "  0%|          | 0/1876 [00:00<?, ?it/s]\n",
      "  0%|          | 1/1876 [00:00<21:09,  1.48it/s, train_loss=805]\n",
      "  0%|          | 2/1876 [00:00<16:36,  1.88it/s, train_loss=792]\n"
     ]
    }
   ],
   "source": [
    "for j in job:\n",
    "    print(\"--------------------------------\")\n",
    "    print(j.stderr())"
   ]
  },
  {
   "cell_type": "code",
   "execution_count": 18,
   "metadata": {},
   "outputs": [],
   "source": [
    "for j in jobs:\n",
    "    j.cancel()"
   ]
  },
  {
   "cell_type": "code",
   "execution_count": null,
   "metadata": {},
   "outputs": [],
   "source": []
  }
 ],
 "metadata": {
  "kernelspec": {
   "display_name": "Python 3",
   "language": "python",
   "name": "python3"
  },
  "language_info": {
   "codemirror_mode": {
    "name": "ipython",
    "version": 3
   },
   "file_extension": ".py",
   "mimetype": "text/x-python",
   "name": "python",
   "nbconvert_exporter": "python",
   "pygments_lexer": "ipython3",
   "version": "3.7.6"
  },
  "toc": {
   "base_numbering": 1,
   "nav_menu": {},
   "number_sections": true,
   "sideBar": true,
   "skip_h1_title": true,
   "title_cell": "Table of Contents",
   "title_sidebar": "Contents",
   "toc_cell": true,
   "toc_position": {},
   "toc_section_display": true,
   "toc_window_display": false
  }
 },
 "nbformat": 4,
 "nbformat_minor": 4
}
