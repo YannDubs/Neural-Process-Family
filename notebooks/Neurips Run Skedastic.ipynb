{
 "cells": [
  {
   "cell_type": "markdown",
   "metadata": {
    "toc": true
   },
   "source": [
    "<h1>Table of Contents<span class=\"tocSkip\"></span></h1>\n",
    "<div class=\"toc\"><ul class=\"toc-item\"></ul></div>"
   ]
  },
  {
   "cell_type": "markdown",
   "metadata": {},
   "source": [
    "# NeurIPS - Run Skedastic\n",
    "\n",
    "Goal : Test attentive and conv in other skedastic case\n",
    "\n",
    "Data : SVHN, CIFAR32 (MNIST Already Ran in Losses)\n",
    "\n",
    "Models : SelfAttnLNP homoskedastic and ConvLNPXL heteroskedastic\n",
    "\n",
    "Loss : NLLLloss and CNPF\n",
    "\n",
    "Runs : 5"
   ]
  },
  {
   "cell_type": "code",
   "execution_count": 1,
   "metadata": {
    "scrolled": true
   },
   "outputs": [],
   "source": [
    "import os\n",
    "\n",
    "os.chdir(\"..\")\n",
    "\n",
    "import submitit\n",
    "\n",
    "from train_imgs import main, parse_arguments\n",
    "from results import get_exp_args\n",
    "\n",
    "class Run:\n",
    "    def checkpoint(self, args):\n",
    "        \"\"\"Resubmits the same callable with the same arguments but makes sure continnue from last chckpnt.\"\"\"\n",
    "        args.is_continue_train = True\n",
    "        return submitit.utils.DelayedSubmission(self, args)\n",
    "\n",
    "    def __call__(self, args):\n",
    "        job_env = submitit.utils.JobEnvironment()\n",
    "        args.starting_run = args.starting_run * job_env.num_tasks + job_env.local_rank\n",
    "        return main(args)"
   ]
  },
  {
   "cell_type": "code",
   "execution_count": 24,
   "metadata": {},
   "outputs": [
    {
     "data": {
      "text/plain": [
       "6"
      ]
     },
     "execution_count": 24,
     "metadata": {},
     "output_type": "execute_result"
    }
   ],
   "source": [
    "args = get_exp_args(\"exp_collapse\", is_load=False)\n",
    "len(args)"
   ]
  },
  {
   "cell_type": "code",
   "execution_count": 25,
   "metadata": {},
   "outputs": [],
   "source": [
    "executor=submitit.SlurmExecutor(folder=\"logs/%j\", max_num_timeout=3)\n",
    "executor.update_parameters(num_gpus=1, \n",
    "                           time=60*24,  \n",
    "                           cpus_per_task=10, \n",
    "                           mem='32GB',\n",
    "                          partition=\"priority\",\n",
    "                           comment=\"neurips\"\n",
    "                          )"
   ]
  },
  {
   "cell_type": "code",
   "execution_count": 26,
   "metadata": {},
   "outputs": [],
   "source": [
    "jobs = executor.map_array(Run(), args)"
   ]
  },
  {
   "cell_type": "code",
   "execution_count": 27,
   "metadata": {},
   "outputs": [],
   "source": [
    "############################################################"
   ]
  },
  {
   "cell_type": "code",
   "execution_count": 33,
   "metadata": {},
   "outputs": [
    {
     "data": {
      "text/plain": [
       "[SlurmJob<job_id=26762483_0, task_id=0, state=\"COMPLETED\">,\n",
       " SlurmJob<job_id=26762483_1, task_id=0, state=\"COMPLETED\">,\n",
       " SlurmJob<job_id=26762483_2, task_id=0, state=\"COMPLETED\">,\n",
       " SlurmJob<job_id=26762483_3, task_id=0, state=\"COMPLETED\">,\n",
       " SlurmJob<job_id=26762483_4, task_id=0, state=\"COMPLETED\">,\n",
       " SlurmJob<job_id=26762483_5, task_id=0, state=\"COMPLETED\">]"
      ]
     },
     "execution_count": 33,
     "metadata": {},
     "output_type": "execute_result"
    }
   ],
   "source": [
    "jobs"
   ]
  },
  {
   "cell_type": "code",
   "execution_count": 21,
   "metadata": {},
   "outputs": [
    {
     "name": "stdout",
     "output_type": "stream",
     "text": [
      "--------------------------------\n",
      "submitit INFO (2020-05-24 11:15:15,501) - Starting with JobEnvironment(job_id=26760695_0, hostname=learnfair0486, local_rank=0(1), node=0(1), global_rank=0(1))\n",
      "submitit INFO (2020-05-24 11:15:15,501) - Loading pickle: /private/home/yannd/projects/NPF/logs/26760695_0/26760695_0_submitted.pkl\n",
      "\n",
      "--- Training mnist/ConvNPFXL_NllLNPF/run_0 ---\n",
      "\n",
      "  epoch    train_loss    valid_loss    cp       dur\n",
      "-------  ------------  ------------  ----  --------\n",
      "      1     \u001b[36m-875.0362\u001b[0m    \u001b[32m-1089.3674\u001b[0m     +  256.9775\n",
      "      2    \u001b[36m-1112.7765\u001b[0m    \u001b[32m-1209.1669\u001b[0m     +  256.4572\n",
      "submitit WARNING (2020-05-24 11:24:42,234) - Bypassing sigterm.\n",
      "\n",
      "--------------------------------\n",
      "submitit INFO (2020-05-24 11:20:54,215) - Starting with JobEnvironment(job_id=26760695_1, hostname=learnfair0229, local_rank=0(1), node=0(1), global_rank=0(1))\n",
      "submitit INFO (2020-05-24 11:20:54,215) - Loading pickle: /private/home/yannd/projects/NPF/logs/26760695_1/26760695_1_submitted.pkl\n",
      "\n",
      "--- Training mnist/ConvNPFXL_CNPF/run_0 ---\n",
      "\n",
      "  epoch    train_loss    valid_loss    cp      dur\n",
      "-------  ------------  ------------  ----  -------\n",
      "      1     \u001b[36m-867.0434\u001b[0m    \u001b[32m-1024.2196\u001b[0m     +  56.2792\n",
      "      2    \u001b[36m-1120.8059\u001b[0m    \u001b[32m-1187.7717\u001b[0m     +  57.6971\n",
      "      3    \u001b[36m-1170.5733\u001b[0m    -1170.9373        58.0195\n",
      "submitit WARNING (2020-05-24 11:24:42,256) - Bypassing sigterm.\n",
      "      4    \u001b[36m-1174.5448\u001b[0m    \u001b[32m-1201.1207\u001b[0m     +  57.2951\n",
      "\n"
     ]
    }
   ],
   "source": [
    "for job in jobs:\n",
    "    print(\"--------------------------------\")\n",
    "    print(job.stdout())"
   ]
  },
  {
   "cell_type": "code",
   "execution_count": 11,
   "metadata": {},
   "outputs": [
    {
     "name": "stdout",
     "output_type": "stream",
     "text": [
      "--------------------------------\n",
      "\n",
      "--------------------------------\n",
      "\n",
      "--------------------------------\n",
      "/private/home/yannd/projects/NPF/neuralproc/architectures/mlp.py:67: UserWarning: hidden_size=32 smaller than output=128 and input=128. Setting it to 128.\n",
      "  warnings.warn(txt.format(hidden_size, output_size, input_size, self.hidden_size))\n",
      "\n",
      "--------------------------------\n",
      "\n",
      "--------------------------------\n",
      "\n",
      "--------------------------------\n",
      "\n",
      "--------------------------------\n",
      "\n",
      "--------------------------------\n",
      "\n",
      "--------------------------------\n",
      "/private/home/yannd/projects/NPF/neuralproc/architectures/mlp.py:67: UserWarning: hidden_size=32 smaller than output=128 and input=128. Setting it to 128.\n",
      "  warnings.warn(txt.format(hidden_size, output_size, input_size, self.hidden_size))\n",
      "\n",
      "--------------------------------\n",
      "\n",
      "--------------------------------\n",
      "\n",
      "--------------------------------\n",
      "\n",
      "--------------------------------\n",
      "\n",
      "--------------------------------\n",
      "\n",
      "--------------------------------\n",
      "/private/home/yannd/projects/NPF/neuralproc/architectures/mlp.py:67: UserWarning: hidden_size=32 smaller than output=128 and input=128. Setting it to 128.\n",
      "  warnings.warn(txt.format(hidden_size, output_size, input_size, self.hidden_size))\n",
      "\n",
      "--------------------------------\n",
      "\n",
      "--------------------------------\n",
      "None\n",
      "--------------------------------\n",
      "None\n",
      "--------------------------------\n",
      "None\n",
      "--------------------------------\n",
      "None\n",
      "--------------------------------\n",
      "None\n",
      "--------------------------------\n",
      "None\n",
      "--------------------------------\n",
      "None\n",
      "--------------------------------\n",
      "None\n",
      "--------------------------------\n",
      "None\n",
      "--------------------------------\n",
      "None\n",
      "--------------------------------\n",
      "None\n",
      "--------------------------------\n",
      "None\n",
      "--------------------------------\n",
      "None\n",
      "--------------------------------\n",
      "None\n"
     ]
    }
   ],
   "source": [
    "for job in jobs:\n",
    "    print(\"--------------------------------\")\n",
    "    print(job.stderr())"
   ]
  },
  {
   "cell_type": "code",
   "execution_count": 19,
   "metadata": {},
   "outputs": [],
   "source": [
    "for job in jobs:\n",
    "    job.cancel()"
   ]
  },
  {
   "cell_type": "code",
   "execution_count": null,
   "metadata": {},
   "outputs": [],
   "source": []
  }
 ],
 "metadata": {
  "kernelspec": {
   "display_name": "Python 3",
   "language": "python",
   "name": "python3"
  },
  "language_info": {
   "codemirror_mode": {
    "name": "ipython",
    "version": 3
   },
   "file_extension": ".py",
   "mimetype": "text/x-python",
   "name": "python",
   "nbconvert_exporter": "python",
   "pygments_lexer": "ipython3",
   "version": "3.7.6"
  },
  "toc": {
   "base_numbering": 1,
   "nav_menu": {},
   "number_sections": true,
   "sideBar": true,
   "skip_h1_title": true,
   "title_cell": "Table of Contents",
   "title_sidebar": "Contents",
   "toc_cell": true,
   "toc_position": {},
   "toc_section_display": true,
   "toc_window_display": false
  }
 },
 "nbformat": 4,
 "nbformat_minor": 4
}
