{
 "cells": [
  {
   "cell_type": "markdown",
   "metadata": {
    "toc": true
   },
   "source": [
    "<h1>Table of Contents<span class=\"tocSkip\"></span></h1>\n",
    "<div class=\"toc\"><ul class=\"toc-item\"></ul></div>"
   ]
  },
  {
   "cell_type": "markdown",
   "metadata": {},
   "source": [
    "# Run GriddedCCP"
   ]
  },
  {
   "cell_type": "code",
   "execution_count": 1,
   "metadata": {
    "ExecuteTime": {
     "end_time": "2019-11-09T03:53:33.568018Z",
     "start_time": "2019-11-09T03:53:33.559864Z"
    },
    "scrolled": true
   },
   "outputs": [
    {
     "name": "stdout",
     "output_type": "stream",
     "text": [
      "/private/home/yannd/projects/Neural-Process-Family\n"
     ]
    }
   ],
   "source": [
    "cd .."
   ]
  },
  {
   "cell_type": "code",
   "execution_count": 2,
   "metadata": {
    "ExecuteTime": {
     "end_time": "2019-11-09T03:53:34.447839Z",
     "start_time": "2019-11-09T03:53:33.570063Z"
    }
   },
   "outputs": [],
   "source": [
    "import neuralproc"
   ]
  },
  {
   "cell_type": "code",
   "execution_count": 3,
   "metadata": {
    "ExecuteTime": {
     "end_time": "2019-11-09T03:53:37.327702Z",
     "start_time": "2019-11-09T03:53:34.451407Z"
    }
   },
   "outputs": [],
   "source": [
    "import submitit\n",
    "from train_imgs import main, parse_arguments\n",
    "\n",
    "log_folder=\"logs/%j\""
   ]
  },
  {
   "cell_type": "code",
   "execution_count": null,
   "metadata": {},
   "outputs": [],
   "source": []
  },
  {
   "cell_type": "code",
   "execution_count": 14,
   "metadata": {
    "ExecuteTime": {
     "end_time": "2019-11-09T04:01:47.576077Z",
     "start_time": "2019-11-09T04:01:47.568613Z"
    }
   },
   "outputs": [],
   "source": [
    "def repeat_list(l, n):\n",
    "    return [i for i in l for _ in range(n)]\n",
    "\n",
    "class Run:\n",
    "    def checkpoint(self, args):\n",
    "        \"\"\"Resubmits the same callable with the same arguments but makes sure continnue from last chckpnt.\"\"\"\n",
    "        args.is_continue_train=True \n",
    "        return submitit.utils.DelayedSubmission(self, args)\n",
    "    \n",
    "    def __call__(self, args):\n",
    "        job_env = submitit.core.utils.JobEnvironment()\n",
    "        args.starting_run = args.starting_run * job_env.num_tasks + job_env.local_rank\n",
    "        return main(args)"
   ]
  },
  {
   "cell_type": "code",
   "execution_count": 54,
   "metadata": {
    "ExecuteTime": {
     "end_time": "2019-11-09T04:15:08.092009Z",
     "start_time": "2019-11-09T04:15:08.068273Z"
    }
   },
   "outputs": [],
   "source": [
    "datasets_64 = [\"zs-multi-mnist\"]\n",
    "\n",
    "Grided_ccp_kwargs = [(f\"GridedCCP_varyingk/k{kernel}\", f\"--n-blocks 5 --kernel-size {kernel} --init-kernel-size 11 --max-epochs 2\")\n",
    "                     for kernel in [1+2*i for i in range(1,9)]]\n",
    "\n",
    "args_64_ccp = [parse_arguments(\"GridedCCP {} --starting-run {} --name {} --chckpnt-dirname results/iclr-rebuttal/ {}\".format(d, s, name, other).split())\n",
    "                for s in range(3)\n",
    "                for d in datasets_64\n",
    "                for name,other in Grided_ccp_kwargs]\n"
   ]
  },
  {
   "cell_type": "code",
   "execution_count": 55,
   "metadata": {
    "ExecuteTime": {
     "end_time": "2019-11-09T04:15:08.522204Z",
     "start_time": "2019-11-09T04:15:08.474186Z"
    }
   },
   "outputs": [],
   "source": [
    "executor_64_ccp=submitit.SlurmExecutor(folder=log_folder, max_num_timeout=3)\n",
    "executor_64_ccp.update_parameters(num_gpus=1, \n",
    "                                   time=20,#60*24*2,  \n",
    "                                   cpus_per_task=10, \n",
    "                                   mem='32GB',\n",
    "                                   ntasks_per_node=2,\n",
    "                                  partition=\"dev\"\n",
    "                                  )"
   ]
  },
  {
   "cell_type": "code",
   "execution_count": 56,
   "metadata": {
    "ExecuteTime": {
     "end_time": "2019-11-09T04:15:09.977195Z",
     "start_time": "2019-11-09T04:15:08.818556Z"
    }
   },
   "outputs": [],
   "source": [
    "job_64_ccp = executor_64_ccp.map_array(Run(), args_64_ccp)"
   ]
  },
  {
   "cell_type": "code",
   "execution_count": 57,
   "metadata": {
    "ExecuteTime": {
     "end_time": "2019-11-09T04:15:09.982865Z",
     "start_time": "2019-11-09T04:15:09.980128Z"
    }
   },
   "outputs": [],
   "source": [
    "############################################################"
   ]
  },
  {
   "cell_type": "code",
   "execution_count": 79,
   "metadata": {
    "ExecuteTime": {
     "end_time": "2019-11-09T04:48:33.422540Z",
     "start_time": "2019-11-09T04:48:33.257524Z"
    }
   },
   "outputs": [
    {
     "data": {
      "text/plain": [
       "[SlurmJob<job_id=19951207_0, task_id=None, state=\"COMPLETED\">,\n",
       " SlurmJob<job_id=19951207_1, task_id=None, state=\"COMPLETED\">,\n",
       " SlurmJob<job_id=19951207_2, task_id=None, state=\"COMPLETED\">,\n",
       " SlurmJob<job_id=19951207_3, task_id=None, state=\"TIMEOUT\">,\n",
       " SlurmJob<job_id=19951207_4, task_id=None, state=\"TIMEOUT\">,\n",
       " SlurmJob<job_id=19951207_5, task_id=None, state=\"COMPLETED\">,\n",
       " SlurmJob<job_id=19951207_6, task_id=None, state=\"COMPLETED\">,\n",
       " SlurmJob<job_id=19951207_7, task_id=None, state=\"COMPLETED\">,\n",
       " SlurmJob<job_id=19951207_8, task_id=None, state=\"COMPLETED\">,\n",
       " SlurmJob<job_id=19951207_9, task_id=None, state=\"FAILED\">,\n",
       " SlurmJob<job_id=19951207_10, task_id=None, state=\"COMPLETED\">,\n",
       " SlurmJob<job_id=19951207_11, task_id=None, state=\"COMPLETED\">,\n",
       " SlurmJob<job_id=19951207_12, task_id=None, state=\"COMPLETED\">,\n",
       " SlurmJob<job_id=19951207_13, task_id=None, state=\"RUNNING\">,\n",
       " SlurmJob<job_id=19951207_14, task_id=None, state=\"RUNNING\">]"
      ]
     },
     "execution_count": 79,
     "metadata": {},
     "output_type": "execute_result"
    }
   ],
   "source": [
    "job_64_ccp"
   ]
  },
  {
   "cell_type": "code",
   "execution_count": 66,
   "metadata": {
    "ExecuteTime": {
     "end_time": "2019-11-09T04:32:22.018468Z",
     "start_time": "2019-11-09T04:32:21.941026Z"
    }
   },
   "outputs": [
    {
     "name": "stdout",
     "output_type": "stream",
     "text": [
      "--------------------------------\n",
      "submitit INFO (2019-11-08 20:15:16,296) - Starting with JobEnvironment(job_id=19951207_0, hostname=learnfair0471, local_rank=0(2), node=0(1), global_rank=0(2))\n",
      "submitit INFO (2019-11-08 20:15:16,296) - Loading pickle: /private/home/yannd/projects/Neural-Process-Family/logs/19951207_0/19951207_0_submitted.pkl\n",
      "\n",
      "--- Training zs-multi-mnist/GridedCCP_varyingk/k9/run_0 ---\n",
      "\n",
      "  epoch    train_loss    valid_loss    cp       dur\n",
      "-------  ------------  ------------  ----  --------\n",
      "      1       \u001b[36m-1.2054\u001b[0m       \u001b[32m-1.2333\u001b[0m     +  213.9596\n",
      "      2       \u001b[36m-1.2553\u001b[0m       \u001b[32m-1.2619\u001b[0m     +  217.2996\n",
      "Re-initializing module.\n",
      "Re-initializing optimizer.\n",
      "zs-multi-mnist/GridedCCP_varyingk/k9/run_0 | best epoch: 2 | train loss: -1.2553 | valid loss: -1.2619 | test log likelihood: 1.1452\n",
      "submitit INFO (2019-11-08 20:23:01,319) - Job completed successfully\n",
      "\n",
      "submitit INFO (2019-11-08 20:15:16,296) - Starting with JobEnvironment(job_id=19951207_0, hostname=learnfair0471, local_rank=1(2), node=0(1), global_rank=1(2))\n",
      "submitit INFO (2019-11-08 20:15:16,296) - Loading pickle: /private/home/yannd/projects/Neural-Process-Family/logs/19951207_0/19951207_0_submitted.pkl\n",
      "\n",
      "--- Training zs-multi-mnist/GridedCCP_varyingk/k9/run_1 ---\n",
      "\n",
      "  epoch    train_loss    valid_loss    cp       dur\n",
      "-------  ------------  ------------  ----  --------\n",
      "      1       \u001b[36m-1.2122\u001b[0m       \u001b[32m-1.2543\u001b[0m     +  408.6795\n",
      "      2       \u001b[36m-1.2600\u001b[0m       \u001b[32m-1.2761\u001b[0m     +  267.8166\n",
      "Re-initializing module.\n",
      "Re-initializing optimizer.\n",
      "zs-multi-mnist/GridedCCP_varyingk/k9/run_1 | best epoch: 2 | train loss: -1.26 | valid loss: -1.2761 | test log likelihood: 1.1535\n",
      "submitit INFO (2019-11-08 20:27:10,073) - Job completed successfully\n",
      "\n",
      "--------------------------------\n",
      "submitit INFO (2019-11-08 20:15:16,314) - Starting with JobEnvironment(job_id=19951207_1, hostname=learnfair0481, local_rank=0(2), node=0(1), global_rank=0(2))\n",
      "submitit INFO (2019-11-08 20:15:16,314) - Loading pickle: /private/home/yannd/projects/Neural-Process-Family/logs/19951207_1/19951207_1_submitted.pkl\n",
      "\n",
      "--- Training zs-multi-mnist/GridedCCP_varyingk/k11/run_0 ---\n",
      "\n",
      "  epoch    train_loss    valid_loss    cp       dur\n",
      "-------  ------------  ------------  ----  --------\n",
      "      1       \u001b[36m-1.2057\u001b[0m       \u001b[32m-1.2365\u001b[0m     +  347.4864\n",
      "      2       \u001b[36m-1.2641\u001b[0m       \u001b[32m-1.2885\u001b[0m     +  346.7853\n",
      "Re-initializing module.\n",
      "Re-initializing optimizer.\n",
      "zs-multi-mnist/GridedCCP_varyingk/k11/run_0 | best epoch: 2 | train loss: -1.2641 | valid loss: -1.2885 | test log likelihood: 1.0629\n",
      "submitit INFO (2019-11-08 20:27:33,426) - Job completed successfully\n",
      "\n",
      "submitit INFO (2019-11-08 20:15:16,314) - Starting with JobEnvironment(job_id=19951207_1, hostname=learnfair0481, local_rank=1(2), node=0(1), global_rank=1(2))\n",
      "submitit INFO (2019-11-08 20:15:16,314) - Loading pickle: /private/home/yannd/projects/Neural-Process-Family/logs/19951207_1/19951207_1_submitted.pkl\n",
      "\n",
      "--- Training zs-multi-mnist/GridedCCP_varyingk/k11/run_1 ---\n",
      "\n",
      "  epoch    train_loss    valid_loss    cp       dur\n",
      "-------  ------------  ------------  ----  --------\n",
      "      1       \u001b[36m-1.2104\u001b[0m       \u001b[32m-1.2463\u001b[0m     +  347.2162\n",
      "      2       \u001b[36m-1.2756\u001b[0m       \u001b[32m-1.2944\u001b[0m     +  346.6350\n",
      "Re-initializing module.\n",
      "Re-initializing optimizer.\n",
      "zs-multi-mnist/GridedCCP_varyingk/k11/run_1 | best epoch: 2 | train loss: -1.2756 | valid loss: -1.2944 | test log likelihood: 0.89\n",
      "submitit INFO (2019-11-08 20:27:33,033) - Job completed successfully\n",
      "\n",
      "--------------------------------\n",
      "submitit INFO (2019-11-08 20:15:16,294) - Starting with JobEnvironment(job_id=19951207_2, hostname=learnfair0486, local_rank=0(2), node=0(1), global_rank=0(2))\n",
      "submitit INFO (2019-11-08 20:15:16,294) - Loading pickle: /private/home/yannd/projects/Neural-Process-Family/logs/19951207_2/19951207_2_submitted.pkl\n",
      "\n",
      "--- Training zs-multi-mnist/GridedCCP_varyingk/k13/run_0 ---\n",
      "\n",
      "  epoch    train_loss    valid_loss    cp       dur\n",
      "-------  ------------  ------------  ----  --------\n",
      "      1       \u001b[36m-1.2161\u001b[0m       \u001b[32m-1.2722\u001b[0m     +  410.6716\n",
      "      2       \u001b[36m-1.2871\u001b[0m       \u001b[32m-1.2940\u001b[0m     +  392.3328\n",
      "Re-initializing module.\n",
      "Re-initializing optimizer.\n",
      "zs-multi-mnist/GridedCCP_varyingk/k13/run_0 | best epoch: 2 | train loss: -1.2871 | valid loss: -1.294 | test log likelihood: 0.313\n",
      "submitit INFO (2019-11-08 20:29:24,502) - Job completed successfully\n",
      "\n",
      "submitit INFO (2019-11-08 20:15:16,294) - Starting with JobEnvironment(job_id=19951207_2, hostname=learnfair0486, local_rank=1(2), node=0(1), global_rank=1(2))\n",
      "submitit INFO (2019-11-08 20:15:16,294) - Loading pickle: /private/home/yannd/projects/Neural-Process-Family/logs/19951207_2/19951207_2_submitted.pkl\n",
      "\n",
      "--- Training zs-multi-mnist/GridedCCP_varyingk/k13/run_1 ---\n",
      "\n",
      "  epoch    train_loss    valid_loss    cp       dur\n",
      "-------  ------------  ------------  ----  --------\n",
      "      1       \u001b[36m-1.2275\u001b[0m       \u001b[32m-1.2806\u001b[0m     +  439.4874\n",
      "      2       \u001b[36m-1.2900\u001b[0m       \u001b[32m-1.3015\u001b[0m     +  421.6586\n",
      "Re-initializing module.\n",
      "Re-initializing optimizer.\n",
      "zs-multi-mnist/GridedCCP_varyingk/k13/run_1 | best epoch: 2 | train loss: -1.29 | valid loss: -1.3015 | test log likelihood: 0.1415\n",
      "submitit INFO (2019-11-08 20:30:10,325) - Job completed successfully\n",
      "\n",
      "--------------------------------\n",
      "submitit INFO (2019-11-08 20:15:16,294) - Starting with JobEnvironment(job_id=19951207_3, hostname=learnfair0561, local_rank=0(2), node=0(1), global_rank=0(2))\n",
      "submitit INFO (2019-11-08 20:15:16,294) - Loading pickle: /private/home/yannd/projects/Neural-Process-Family/logs/19951207_3/19951207_3_submitted.pkl\n",
      "\n",
      "--- Training zs-multi-mnist/GridedCCP_varyingk/k15/run_0 ---\n",
      "\n",
      "  epoch    train_loss    valid_loss    cp       dur\n",
      "-------  ------------  ------------  ----  --------\n",
      "      1       \u001b[36m-1.2247\u001b[0m       \u001b[32m-1.2694\u001b[0m     +  347.9975\n",
      "      2       \u001b[36m-1.2854\u001b[0m       \u001b[32m-1.2930\u001b[0m     +  344.5244\n",
      "Re-initializing module.\n",
      "Re-initializing optimizer.\n",
      "zs-multi-mnist/GridedCCP_varyingk/k15/run_0 | best epoch: 2 | train loss: -1.2854 | valid loss: -1.293 | test log likelihood: 0.3742\n",
      "submitit INFO (2019-11-08 20:27:29,987) - Job completed successfully\n",
      "\n",
      "submitit INFO (2019-11-08 20:15:16,294) - Starting with JobEnvironment(job_id=19951207_3, hostname=learnfair0561, local_rank=1(2), node=0(1), global_rank=1(2))\n",
      "submitit INFO (2019-11-08 20:15:16,294) - Loading pickle: /private/home/yannd/projects/Neural-Process-Family/logs/19951207_3/19951207_3_submitted.pkl\n",
      "\n",
      "--- Training zs-multi-mnist/GridedCCP_varyingk/k15/run_1 ---\n",
      "\n",
      "  epoch    train_loss    valid_loss    cp       dur\n",
      "-------  ------------  ------------  ----  --------\n",
      "      1       \u001b[36m-1.2330\u001b[0m       \u001b[32m-1.2803\u001b[0m     +  938.9733\n",
      "\n",
      "--------------------------------\n",
      "submitit INFO (2019-11-08 20:15:16,817) - Starting with JobEnvironment(job_id=19951207_4, hostname=learnfair0581, local_rank=0(2), node=0(1), global_rank=0(2))\n",
      "submitit INFO (2019-11-08 20:15:16,817) - Loading pickle: /private/home/yannd/projects/Neural-Process-Family/logs/19951207_4/19951207_4_submitted.pkl\n",
      "\n",
      "--- Training zs-multi-mnist/GridedCCP_varyingk/k17/run_0 ---\n",
      "\n",
      "  epoch    train_loss    valid_loss    cp       dur\n",
      "-------  ------------  ------------  ----  --------\n",
      "      1       \u001b[36m-1.2311\u001b[0m       \u001b[32m-1.2764\u001b[0m     +  447.4520\n",
      "      2       \u001b[36m-1.2882\u001b[0m       \u001b[32m-1.2933\u001b[0m     +  420.1444\n",
      "Re-initializing module.\n",
      "Re-initializing optimizer.\n",
      "zs-multi-mnist/GridedCCP_varyingk/k17/run_0 | best epoch: 2 | train loss: -1.2882 | valid loss: -1.2933 | test log likelihood: 0.4648\n",
      "submitit INFO (2019-11-08 20:30:37,819) - Job completed successfully\n",
      "\n",
      "submitit INFO (2019-11-08 20:15:16,817) - Starting with JobEnvironment(job_id=19951207_4, hostname=learnfair0581, local_rank=1(2), node=0(1), global_rank=1(2))\n",
      "submitit INFO (2019-11-08 20:15:16,817) - Loading pickle: /private/home/yannd/projects/Neural-Process-Family/logs/19951207_4/19951207_4_submitted.pkl\n",
      "\n",
      "--- Training zs-multi-mnist/GridedCCP_varyingk/k17/run_1 ---\n",
      "\n",
      "  epoch    train_loss    valid_loss    cp       dur\n",
      "-------  ------------  ------------  ----  --------\n",
      "      1        \u001b[36m0.0200\u001b[0m        \u001b[32m0.0080\u001b[0m     +  980.6773\n",
      "\n",
      "--------------------------------\n",
      "submitit INFO (2019-11-08 20:15:16,817) - Starting with JobEnvironment(job_id=19951207_5, hostname=learnfair0581, local_rank=0(2), node=0(1), global_rank=0(2))\n",
      "submitit INFO (2019-11-08 20:15:16,817) - Loading pickle: /private/home/yannd/projects/Neural-Process-Family/logs/19951207_5/19951207_5_submitted.pkl\n",
      "\n",
      "--- Training zs-multi-mnist/GridedCCP_varyingk/k9/run_2 ---\n",
      "\n",
      "  epoch    train_loss    valid_loss    cp       dur\n",
      "-------  ------------  ------------  ----  --------\n",
      "      1       \u001b[36m-1.2024\u001b[0m       \u001b[32m-1.2438\u001b[0m     +  282.1212\n",
      "      2       \u001b[36m-1.2554\u001b[0m       \u001b[32m-1.2452\u001b[0m     +  281.5101\n",
      "Re-initializing module.\n",
      "Re-initializing optimizer.\n",
      "zs-multi-mnist/GridedCCP_varyingk/k9/run_2 | best epoch: 2 | train loss: -1.2554 | valid loss: -1.2452 | test log likelihood: 1.1413\n",
      "submitit INFO (2019-11-08 20:25:24,427) - Job completed successfully\n",
      "\n",
      "submitit INFO (2019-11-08 20:15:16,817) - Starting with JobEnvironment(job_id=19951207_5, hostname=learnfair0581, local_rank=1(2), node=0(1), global_rank=1(2))\n",
      "submitit INFO (2019-11-08 20:15:16,817) - Loading pickle: /private/home/yannd/projects/Neural-Process-Family/logs/19951207_5/19951207_5_submitted.pkl\n",
      "\n",
      "--- Training zs-multi-mnist/GridedCCP_varyingk/k9/run_3 ---\n",
      "\n",
      "  epoch    train_loss    valid_loss    cp       dur\n",
      "-------  ------------  ------------  ----  --------\n",
      "      1       \u001b[36m-1.2078\u001b[0m       \u001b[32m-1.2528\u001b[0m     +  282.0240\n",
      "      2       \u001b[36m-1.2580\u001b[0m       \u001b[32m-1.2706\u001b[0m     +  281.4756\n",
      "Re-initializing module.\n",
      "Re-initializing optimizer.\n",
      "zs-multi-mnist/GridedCCP_varyingk/k9/run_3 | best epoch: 2 | train loss: -1.258 | valid loss: -1.2706 | test log likelihood: 1.1364\n",
      "submitit INFO (2019-11-08 20:25:24,257) - Job completed successfully\n",
      "\n",
      "--------------------------------\n",
      "submitit INFO (2019-11-08 20:15:22,522) - Starting with JobEnvironment(job_id=19951207_6, hostname=learnfair0205, local_rank=0(2), node=0(1), global_rank=0(2))\n",
      "submitit INFO (2019-11-08 20:15:22,529) - Loading pickle: /private/home/yannd/projects/Neural-Process-Family/logs/19951207_6/19951207_6_submitted.pkl\n",
      "\n",
      "--- Training zs-multi-mnist/GridedCCP_varyingk/k11/run_2 ---\n",
      "\n",
      "  epoch    train_loss    valid_loss    cp       dur\n",
      "-------  ------------  ------------  ----  --------\n",
      "      1       \u001b[36m-1.2071\u001b[0m       \u001b[32m-1.2481\u001b[0m     +  347.2546\n",
      "      2       \u001b[36m-1.2692\u001b[0m       \u001b[32m-1.2815\u001b[0m     +  346.6488\n",
      "Re-initializing module.\n",
      "Re-initializing optimizer.\n",
      "zs-multi-mnist/GridedCCP_varyingk/k11/run_2 | best epoch: 2 | train loss: -1.2692 | valid loss: -1.2815 | test log likelihood: 0.9275\n",
      "submitit INFO (2019-11-08 20:28:24,580) - Job completed successfully\n",
      "\n",
      "submitit INFO (2019-11-08 20:15:22,522) - Starting with JobEnvironment(job_id=19951207_6, hostname=learnfair0205, local_rank=1(2), node=0(1), global_rank=1(2))\n",
      "submitit INFO (2019-11-08 20:15:22,529) - Loading pickle: /private/home/yannd/projects/Neural-Process-Family/logs/19951207_6/19951207_6_submitted.pkl\n",
      "\n",
      "--- Training zs-multi-mnist/GridedCCP_varyingk/k11/run_3 ---\n",
      "\n",
      "  epoch    train_loss    valid_loss    cp       dur\n",
      "-------  ------------  ------------  ----  --------\n",
      "      1       \u001b[36m-1.2095\u001b[0m       \u001b[32m-1.2608\u001b[0m     +  347.2722\n",
      "      2       \u001b[36m-1.2773\u001b[0m       \u001b[32m-1.2844\u001b[0m     +  346.5333\n",
      "Re-initializing module.\n",
      "Re-initializing optimizer.\n",
      "zs-multi-mnist/GridedCCP_varyingk/k11/run_3 | best epoch: 2 | train loss: -1.2773 | valid loss: -1.2844 | test log likelihood: 0.7894\n",
      "submitit INFO (2019-11-08 20:28:24,573) - Job completed successfully\n",
      "\n",
      "--------------------------------\n",
      "submitit INFO (2019-11-08 20:15:17,102) - Starting with JobEnvironment(job_id=19951207_7, hostname=learnfair0216, local_rank=0(2), node=0(1), global_rank=0(2))\n",
      "submitit INFO (2019-11-08 20:15:17,102) - Loading pickle: /private/home/yannd/projects/Neural-Process-Family/logs/19951207_7/19951207_7_submitted.pkl\n",
      "\n",
      "--- Training zs-multi-mnist/GridedCCP_varyingk/k13/run_2 ---\n",
      "\n",
      "  epoch    train_loss    valid_loss    cp       dur\n",
      "-------  ------------  ------------  ----  --------\n",
      "      1       \u001b[36m-1.2211\u001b[0m       \u001b[32m-1.2767\u001b[0m     +  424.9285\n",
      "      2       \u001b[36m-1.2876\u001b[0m       \u001b[32m-1.2878\u001b[0m     +  423.0625\n",
      "Re-initializing module.\n",
      "Re-initializing optimizer.\n",
      "zs-multi-mnist/GridedCCP_varyingk/k13/run_2 | best epoch: 2 | train loss: -1.2876 | valid loss: -1.2878 | test log likelihood: 0.0724\n",
      "submitit INFO (2019-11-08 20:30:22,933) - Job completed successfully\n",
      "\n",
      "submitit INFO (2019-11-08 20:15:17,102) - Starting with JobEnvironment(job_id=19951207_7, hostname=learnfair0216, local_rank=1(2), node=0(1), global_rank=1(2))\n",
      "submitit INFO (2019-11-08 20:15:17,102) - Loading pickle: /private/home/yannd/projects/Neural-Process-Family/logs/19951207_7/19951207_7_submitted.pkl\n",
      "\n",
      "--- Training zs-multi-mnist/GridedCCP_varyingk/k13/run_3 ---\n",
      "\n",
      "  epoch    train_loss    valid_loss    cp       dur\n",
      "-------  ------------  ------------  ----  --------\n",
      "      1       \u001b[36m-1.2102\u001b[0m       \u001b[32m-1.2739\u001b[0m     +  424.8387\n",
      "      2       \u001b[36m-1.2806\u001b[0m       \u001b[32m-1.2849\u001b[0m     +  423.0587\n",
      "Re-initializing module.\n",
      "Re-initializing optimizer.\n",
      "zs-multi-mnist/GridedCCP_varyingk/k13/run_3 | best epoch: 2 | train loss: -1.2806 | valid loss: -1.2849 | test log likelihood: 0.5643\n",
      "submitit INFO (2019-11-08 20:30:23,236) - Job completed successfully\n",
      "\n",
      "--------------------------------\n",
      "submitit INFO (2019-11-08 20:25:29,073) - Starting with JobEnvironment(job_id=19951207_8, hostname=learnfair0221, local_rank=0(2), node=0(1), global_rank=0(2))\n",
      "submitit INFO (2019-11-08 20:25:29,074) - Loading pickle: /private/home/yannd/projects/Neural-Process-Family/logs/19951207_8/19951207_8_submitted.pkl\n",
      "\n",
      "--- Training zs-multi-mnist/GridedCCP_varyingk/k15/run_2 ---\n",
      "\n",
      "\n",
      "submitit INFO (2019-11-08 20:25:29,074) - Starting with JobEnvironment(job_id=19951207_8, hostname=learnfair0221, local_rank=1(2), node=0(1), global_rank=1(2))\n",
      "submitit INFO (2019-11-08 20:25:29,074) - Loading pickle: /private/home/yannd/projects/Neural-Process-Family/logs/19951207_8/19951207_8_submitted.pkl\n",
      "\n",
      "--- Training zs-multi-mnist/GridedCCP_varyingk/k15/run_3 ---\n",
      "\n",
      "\n",
      "--------------------------------\n",
      "submitit INFO (2019-11-08 20:27:33,480) - Starting with JobEnvironment(job_id=19951207_9, hostname=learnfair0549, local_rank=0(2), node=0(1), global_rank=0(2))\n",
      "submitit INFO (2019-11-08 20:27:33,481) - Loading pickle: /private/home/yannd/projects/Neural-Process-Family/logs/19951207_9/19951207_9_submitted.pkl\n",
      "\n",
      "--- Training zs-multi-mnist/GridedCCP_varyingk/k17/run_2 ---\n",
      "\n",
      "\n",
      "submitit INFO (2019-11-08 20:27:33,480) - Starting with JobEnvironment(job_id=19951207_9, hostname=learnfair0549, local_rank=1(2), node=0(1), global_rank=1(2))\n",
      "submitit INFO (2019-11-08 20:27:33,480) - Loading pickle: /private/home/yannd/projects/Neural-Process-Family/logs/19951207_9/19951207_9_submitted.pkl\n",
      "\n",
      "--- Training zs-multi-mnist/GridedCCP_varyingk/k17/run_3 ---\n",
      "\n",
      "\n",
      "--------------------------------\n",
      "submitit INFO (2019-11-08 20:27:41,428) - Starting with JobEnvironment(job_id=19951207_10, hostname=learnfair0577, local_rank=0(2), node=0(1), global_rank=0(2))\n",
      "submitit INFO (2019-11-08 20:27:41,428) - Loading pickle: /private/home/yannd/projects/Neural-Process-Family/logs/19951207_10/19951207_10_submitted.pkl\n",
      "\n",
      "--- Training zs-multi-mnist/GridedCCP_varyingk/k9/run_4 ---\n",
      "\n",
      "\n",
      "submitit INFO (2019-11-08 20:27:41,428) - Starting with JobEnvironment(job_id=19951207_10, hostname=learnfair0577, local_rank=1(2), node=0(1), global_rank=1(2))\n",
      "submitit INFO (2019-11-08 20:27:41,428) - Loading pickle: /private/home/yannd/projects/Neural-Process-Family/logs/19951207_10/19951207_10_submitted.pkl\n",
      "\n",
      "--- Training zs-multi-mnist/GridedCCP_varyingk/k9/run_5 ---\n",
      "\n",
      "\n",
      "--------------------------------\n",
      "submitit INFO (2019-11-08 20:28:31,696) - Starting with JobEnvironment(job_id=19951207_11, hostname=learnfair0205, local_rank=0(2), node=0(1), global_rank=0(2))\n",
      "submitit INFO (2019-11-08 20:28:31,696) - Loading pickle: /private/home/yannd/projects/Neural-Process-Family/logs/19951207_11/19951207_11_submitted.pkl\n",
      "\n",
      "--- Training zs-multi-mnist/GridedCCP_varyingk/k11/run_4 ---\n",
      "\n",
      "\n",
      "submitit INFO (2019-11-08 20:28:31,696) - Starting with JobEnvironment(job_id=19951207_11, hostname=learnfair0205, local_rank=1(2), node=0(1), global_rank=1(2))\n",
      "submitit INFO (2019-11-08 20:28:31,696) - Loading pickle: /private/home/yannd/projects/Neural-Process-Family/logs/19951207_11/19951207_11_submitted.pkl\n",
      "\n",
      "--- Training zs-multi-mnist/GridedCCP_varyingk/k11/run_5 ---\n",
      "\n",
      "\n",
      "--------------------------------\n",
      "submitit INFO (2019-11-08 20:30:32,876) - Starting with JobEnvironment(job_id=19951207_12, hostname=learnfair0216, local_rank=0(2), node=0(1), global_rank=0(2))\n",
      "submitit INFO (2019-11-08 20:30:32,876) - Loading pickle: /private/home/yannd/projects/Neural-Process-Family/logs/19951207_12/19951207_12_submitted.pkl\n",
      "\n",
      "--- Training zs-multi-mnist/GridedCCP_varyingk/k13/run_4 ---\n",
      "\n",
      "\n",
      "submitit INFO (2019-11-08 20:30:32,876) - Starting with JobEnvironment(job_id=19951207_12, hostname=learnfair0216, local_rank=1(2), node=0(1), global_rank=1(2))\n",
      "submitit INFO (2019-11-08 20:30:32,876) - Loading pickle: /private/home/yannd/projects/Neural-Process-Family/logs/19951207_12/19951207_12_submitted.pkl\n",
      "\n",
      "--- Training zs-multi-mnist/GridedCCP_varyingk/k13/run_5 ---\n",
      "\n",
      "\n",
      "--------------------------------\n",
      "submitit INFO (2019-11-08 20:30:32,693) - Starting with JobEnvironment(job_id=19951207_13, hostname=learnfair0486, local_rank=0(2), node=0(1), global_rank=0(2))\n",
      "submitit INFO (2019-11-08 20:30:32,694) - Loading pickle: /private/home/yannd/projects/Neural-Process-Family/logs/19951207_13/19951207_13_submitted.pkl\n",
      "\n",
      "--- Training zs-multi-mnist/GridedCCP_varyingk/k15/run_4 ---\n",
      "\n",
      "\n",
      "submitit INFO (2019-11-08 20:30:32,693) - Starting with JobEnvironment(job_id=19951207_13, hostname=learnfair0486, local_rank=1(2), node=0(1), global_rank=1(2))\n",
      "submitit INFO (2019-11-08 20:30:32,693) - Loading pickle: /private/home/yannd/projects/Neural-Process-Family/logs/19951207_13/19951207_13_submitted.pkl\n",
      "\n",
      "--- Training zs-multi-mnist/GridedCCP_varyingk/k15/run_5 ---\n",
      "\n",
      "\n",
      "--------------------------------\n",
      "None\n"
     ]
    }
   ],
   "source": [
    "for j in job_64_ccp:\n",
    "    print(\"--------------------------------\")\n",
    "    print(j.stdout())"
   ]
  },
  {
   "cell_type": "code",
   "execution_count": 31,
   "metadata": {
    "ExecuteTime": {
     "end_time": "2019-11-09T04:03:18.925630Z",
     "start_time": "2019-11-09T04:03:18.894756Z"
    }
   },
   "outputs": [
    {
     "name": "stdout",
     "output_type": "stream",
     "text": [
      "--------------------------------\n",
      "INFO:utils.data.imgs:Resizing ZeroShotMultiMNIST ...\n",
      "INFO:utils.data.imgs:Resizing ZeroShotMultiMNIST ...\n",
      "\n",
      "INFO:utils.data.imgs:Resizing ZeroShotMultiMNIST ...\n",
      "INFO:utils.data.imgs:Resizing ZeroShotMultiMNIST ...\n",
      "\n",
      "--------------------------------\n",
      "INFO:utils.data.imgs:Resizing ZeroShotMultiMNIST ...\n",
      "INFO:utils.data.imgs:Resizing ZeroShotMultiMNIST ...\n",
      "\n",
      "INFO:utils.data.imgs:Resizing ZeroShotMultiMNIST ...\n",
      "INFO:utils.data.imgs:Resizing ZeroShotMultiMNIST ...\n",
      "\n",
      "--------------------------------\n",
      "INFO:utils.data.imgs:Resizing ZeroShotMultiMNIST ...\n",
      "INFO:utils.data.imgs:Resizing ZeroShotMultiMNIST ...\n",
      "\n",
      "INFO:utils.data.imgs:Resizing ZeroShotMultiMNIST ...\n",
      "INFO:utils.data.imgs:Resizing ZeroShotMultiMNIST ...\n",
      "\n",
      "--------------------------------\n",
      "INFO:utils.data.imgs:Resizing ZeroShotMultiMNIST ...\n",
      "INFO:utils.data.imgs:Resizing ZeroShotMultiMNIST ...\n",
      "\n",
      "INFO:utils.data.imgs:Resizing ZeroShotMultiMNIST ...\n",
      "INFO:utils.data.imgs:Resizing ZeroShotMultiMNIST ...\n",
      "\n",
      "--------------------------------\n",
      "INFO:utils.data.imgs:Resizing ZeroShotMultiMNIST ...\n",
      "INFO:utils.data.imgs:Resizing ZeroShotMultiMNIST ...\n",
      "\n",
      "INFO:utils.data.imgs:Resizing ZeroShotMultiMNIST ...\n",
      "INFO:utils.data.imgs:Resizing ZeroShotMultiMNIST ...\n",
      "\n",
      "--------------------------------\n",
      "INFO:utils.data.imgs:Resizing ZeroShotMultiMNIST ...\n",
      "INFO:utils.data.imgs:Resizing ZeroShotMultiMNIST ...\n",
      "\n",
      "INFO:utils.data.imgs:Resizing ZeroShotMultiMNIST ...\n",
      "INFO:utils.data.imgs:Resizing ZeroShotMultiMNIST ...\n",
      "\n",
      "--------------------------------\n",
      "INFO:utils.data.imgs:Resizing ZeroShotMultiMNIST ...\n",
      "INFO:utils.data.imgs:Resizing ZeroShotMultiMNIST ...\n",
      "\n",
      "INFO:utils.data.imgs:Resizing ZeroShotMultiMNIST ...\n",
      "INFO:utils.data.imgs:Resizing ZeroShotMultiMNIST ...\n",
      "\n",
      "--------------------------------\n",
      "INFO:utils.data.imgs:Resizing ZeroShotMultiMNIST ...\n",
      "INFO:utils.data.imgs:Resizing ZeroShotMultiMNIST ...\n",
      "\n",
      "INFO:utils.data.imgs:Resizing ZeroShotMultiMNIST ...\n",
      "INFO:utils.data.imgs:Resizing ZeroShotMultiMNIST ...\n",
      "\n",
      "--------------------------------\n",
      "None\n",
      "--------------------------------\n",
      "None\n",
      "--------------------------------\n",
      "None\n",
      "--------------------------------\n",
      "None\n",
      "--------------------------------\n",
      "None\n",
      "--------------------------------\n",
      "None\n",
      "--------------------------------\n",
      "None\n",
      "--------------------------------\n",
      "None\n",
      "--------------------------------\n",
      "None\n",
      "--------------------------------\n",
      "None\n",
      "--------------------------------\n",
      "None\n",
      "--------------------------------\n",
      "None\n",
      "--------------------------------\n",
      "None\n",
      "--------------------------------\n",
      "None\n",
      "--------------------------------\n",
      "None\n",
      "--------------------------------\n",
      "None\n"
     ]
    }
   ],
   "source": [
    "for j in job_64_ccp:\n",
    "    print(\"--------------------------------\")\n",
    "    print(j.stderr())"
   ]
  },
  {
   "cell_type": "code",
   "execution_count": 53,
   "metadata": {
    "ExecuteTime": {
     "end_time": "2019-11-09T04:14:36.829035Z",
     "start_time": "2019-11-09T04:14:34.831669Z"
    }
   },
   "outputs": [],
   "source": [
    "for j in job_64_ccp:\n",
    "    j.cancel()"
   ]
  },
  {
   "cell_type": "code",
   "execution_count": null,
   "metadata": {},
   "outputs": [],
   "source": []
  },
  {
   "cell_type": "code",
   "execution_count": 88,
   "metadata": {
    "ExecuteTime": {
     "end_time": "2019-11-09T04:53:40.453399Z",
     "start_time": "2019-11-09T04:53:38.826014Z"
    }
   },
   "outputs": [],
   "source": [
    "import seaborn as sns\n",
    "import pandas as pd\n",
    "from glob import glob\n",
    "import numpy as np\n",
    "\n",
    "dfs = []\n",
    "prfx = \"results/iclr-rebuttal/zs-multi-mnist/GridedCCP_varyingk/k\"\n",
    "for g in glob(f\"{prfx}*/run*/eval.csv\"):\n",
    "    test_loglike = np.loadtxt(g, delimiter=\",\").mean()\n",
    "    sffx = g[len(prfx):]\n",
    "    splitted = sffx.split(\"/\")\n",
    "    kernel = int(splitted[0])\n",
    "    receptive_field = 11 + (2 * kernel//2 * 5)\n",
    "    run = int(splitted[1][len(\"run_\"):])\n",
    "    dfs.append([receptive_field,run,test_loglike])\n",
    "    \n",
    "    \n",
    "df = pd.DataFrame(dfs,columns=[\"Receptive Field\",\"run\",\"Log Likelihood\"])"
   ]
  },
  {
   "cell_type": "code",
   "execution_count": 89,
   "metadata": {
    "ExecuteTime": {
     "end_time": "2019-11-09T04:53:41.007751Z",
     "start_time": "2019-11-09T04:53:40.455666Z"
    }
   },
   "outputs": [
    {
     "data": {
      "text/plain": [
       "<matplotlib.axes._subplots.AxesSubplot at 0x7fcad7bf6ba8>"
      ]
     },
     "execution_count": 89,
     "metadata": {},
     "output_type": "execute_result"
    },
    {
     "data": {
      "image/png": "[encoded data removed]",
      "text/plain": [
       "<Figure size 432x288 with 1 Axes>"
      ]
     },
     "metadata": {
      "needs_background": "light"
     },
     "output_type": "display_data"
    }
   ],
   "source": [
    "sns.lineplot(x=\"Receptive Field\", y=\"Log Likelihood\", data=df)"
   ]
  },
  {
   "cell_type": "code",
   "execution_count": null,
   "metadata": {},
   "outputs": [],
   "source": []
  }
 ],
 "metadata": {
  "kernelspec": {
   "display_name": "Python 3",
   "language": "python",
   "name": "python3"
  },
  "language_info": {
   "codemirror_mode": {
    "name": "ipython",
    "version": 3
   },
   "file_extension": ".py",
   "mimetype": "text/x-python",
   "name": "python",
   "nbconvert_exporter": "python",
   "pygments_lexer": "ipython3",
   "version": "3.7.3"
  },
  "toc": {
   "base_numbering": 1,
   "nav_menu": {},
   "number_sections": true,
   "sideBar": true,
   "skip_h1_title": true,
   "title_cell": "Table of Contents",
   "title_sidebar": "Contents",
   "toc_cell": true,
   "toc_position": {},
   "toc_section_display": true,
   "toc_window_display": false
  }
 },
 "nbformat": 4,
 "nbformat_minor": 2
}
