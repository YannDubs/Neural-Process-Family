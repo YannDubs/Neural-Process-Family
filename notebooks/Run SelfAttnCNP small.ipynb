{
 "cells": [
  {
   "cell_type": "markdown",
   "metadata": {},
   "source": [
    "# Run SelfAttnCNP small"
   ]
  },
  {
   "cell_type": "code",
   "execution_count": 1,
   "metadata": {
    "scrolled": true
   },
   "outputs": [
    {
     "name": "stdout",
     "output_type": "stream",
     "text": [
      "/private/home/yannd/projects/Neural-Process-Family\n"
     ]
    }
   ],
   "source": [
    "cd .."
   ]
  },
  {
   "cell_type": "code",
   "execution_count": 2,
   "metadata": {},
   "outputs": [],
   "source": [
    "import neuralproc"
   ]
  },
  {
   "cell_type": "code",
   "execution_count": 3,
   "metadata": {},
   "outputs": [],
   "source": [
    "import submitit\n",
    "from train_imgs import main, parse_arguments\n",
    "\n",
    "log_folder=\"logs/%j\""
   ]
  },
  {
   "cell_type": "code",
   "execution_count": 4,
   "metadata": {},
   "outputs": [],
   "source": [
    "def repeat_list(l, n):\n",
    "    return [i for i in l for _ in range(n)]\n",
    "\n",
    "class Run:\n",
    "    def checkpoint(self, args):\n",
    "        \"\"\"Resubmits the same callable with the same arguments but makes sure continnue from last chckpnt.\"\"\"\n",
    "        args.is_continue_train=True \n",
    "        return submitit.utils.DelayedSubmission(self, args)\n",
    "    \n",
    "    def __call__(self, args):\n",
    "        job_env = submitit.utils.JobEnvironment()\n",
    "        args.starting_run = args.starting_run * job_env.num_tasks + job_env.local_rank\n",
    "        return main(args)"
   ]
  },
  {
   "cell_type": "code",
   "execution_count": 5,
   "metadata": {},
   "outputs": [],
   "source": [
    "args = [parse_arguments(\"{} {} --starting-run {}\".format(m, d, s).split())\n",
    "        for s in range(6)\n",
    "        for m in [\"SelfAttnCNP\"] \n",
    "        for d in [\"celeba32\", \"mnist\"]\n",
    "       ]"
   ]
  },
  {
   "cell_type": "code",
   "execution_count": 6,
   "metadata": {},
   "outputs": [],
   "source": [
    "executor=submitit.SlurmExecutor(folder=log_folder, max_num_timeout=3)\n",
    "executor.update_parameters(num_gpus=1, \n",
    "                           time=60*24, \n",
    "                           #partition=\"dev\", \n",
    "                           cpus_per_task=10, \n",
    "                           mem='32GB',  \n",
    "                          )"
   ]
  },
  {
   "cell_type": "code",
   "execution_count": 7,
   "metadata": {},
   "outputs": [],
   "source": [
    "job = executor.map_array(Run(), args)"
   ]
  },
  {
   "cell_type": "code",
   "execution_count": 7,
   "metadata": {},
   "outputs": [
    {
     "ename": "NameError",
     "evalue": "name 'job' is not defined",
     "output_type": "error",
     "traceback": [
      "\u001b[0;31m---------------------------------------------------------------------------\u001b[0m",
      "\u001b[0;31mNameError\u001b[0m                                 Traceback (most recent call last)",
      "\u001b[0;32m<ipython-input-7-740730b5e9c2>\u001b[0m in \u001b[0;36m<module>\u001b[0;34m\u001b[0m\n\u001b[0;32m----> 1\u001b[0;31m \u001b[0mj\u001b[0m \u001b[0;34m=\u001b[0m \u001b[0mjob\u001b[0m\u001b[0;34m[\u001b[0m\u001b[0;36m0\u001b[0m\u001b[0;34m]\u001b[0m\u001b[0;34m\u001b[0m\u001b[0;34m\u001b[0m\u001b[0m\n\u001b[0m\u001b[1;32m      2\u001b[0m \u001b[0mjob\u001b[0m\u001b[0;34m\u001b[0m\u001b[0;34m\u001b[0m\u001b[0m\n",
      "\u001b[0;31mNameError\u001b[0m: name 'job' is not defined"
     ]
    }
   ],
   "source": [
    "j = job[0]\n",
    "job"
   ]
  },
  {
   "cell_type": "code",
   "execution_count": 8,
   "metadata": {},
   "outputs": [
    {
     "ename": "NameError",
     "evalue": "name 'job' is not defined",
     "output_type": "error",
     "traceback": [
      "\u001b[0;31m---------------------------------------------------------------------------\u001b[0m",
      "\u001b[0;31mNameError\u001b[0m                                 Traceback (most recent call last)",
      "\u001b[0;32m<ipython-input-8-21899657a3cb>\u001b[0m in \u001b[0;36m<module>\u001b[0;34m\u001b[0m\n\u001b[0;32m----> 1\u001b[0;31m \u001b[0;32mfor\u001b[0m \u001b[0mj\u001b[0m \u001b[0;32min\u001b[0m \u001b[0mjob\u001b[0m\u001b[0;34m:\u001b[0m\u001b[0;34m\u001b[0m\u001b[0;34m\u001b[0m\u001b[0m\n\u001b[0m\u001b[1;32m      2\u001b[0m     \u001b[0mprint\u001b[0m\u001b[0;34m(\u001b[0m\u001b[0;34m\"--------------------------------\"\u001b[0m\u001b[0;34m)\u001b[0m\u001b[0;34m\u001b[0m\u001b[0;34m\u001b[0m\u001b[0m\n\u001b[1;32m      3\u001b[0m     \u001b[0mprint\u001b[0m\u001b[0;34m(\u001b[0m\u001b[0mj\u001b[0m\u001b[0;34m.\u001b[0m\u001b[0mstdout\u001b[0m\u001b[0;34m(\u001b[0m\u001b[0;34m)\u001b[0m\u001b[0;34m)\u001b[0m\u001b[0;34m\u001b[0m\u001b[0;34m\u001b[0m\u001b[0m\n",
      "\u001b[0;31mNameError\u001b[0m: name 'job' is not defined"
     ]
    }
   ],
   "source": [
    "for j in job:\n",
    "    print(\"--------------------------------\")\n",
    "    print(j.stdout())"
   ]
  },
  {
   "cell_type": "code",
   "execution_count": 14,
   "metadata": {},
   "outputs": [
    {
     "name": "stdout",
     "output_type": "stream",
     "text": [
      "--------------------------------\n",
      "/private/home/yannd/projects/Neural-Process-Family/neuralproc/predefined/mlp.py:67: UserWarning: hidden_size=32 smaller than output=128 and input=128. Setting it to 128.\n",
      "  warnings.warn(txt.format(hidden_size, output_size, input_size, self.hidden_size))\n",
      "/private/home/yannd/projects/Neural-Process-Family/neuralproc/predefined/mlp.py:67: UserWarning: hidden_size=32 smaller than output=256 and input=128. Setting it to 128.\n",
      "  warnings.warn(txt.format(hidden_size, output_size, input_size, self.hidden_size))\n",
      "\n",
      "--------------------------------\n",
      "/private/home/yannd/projects/Neural-Process-Family/neuralproc/predefined/mlp.py:67: UserWarning: hidden_size=32 smaller than output=128 and input=128. Setting it to 128.\n",
      "  warnings.warn(txt.format(hidden_size, output_size, input_size, self.hidden_size))\n",
      "/private/home/yannd/projects/Neural-Process-Family/neuralproc/predefined/mlp.py:67: UserWarning: hidden_size=32 smaller than output=256 and input=128. Setting it to 128.\n",
      "  warnings.warn(txt.format(hidden_size, output_size, input_size, self.hidden_size))\n",
      "\n",
      "--------------------------------\n",
      "/private/home/yannd/projects/Neural-Process-Family/neuralproc/predefined/mlp.py:67: UserWarning: hidden_size=32 smaller than output=128 and input=128. Setting it to 128.\n",
      "  warnings.warn(txt.format(hidden_size, output_size, input_size, self.hidden_size))\n",
      "/private/home/yannd/projects/Neural-Process-Family/neuralproc/predefined/mlp.py:67: UserWarning: hidden_size=32 smaller than output=256 and input=128. Setting it to 128.\n",
      "  warnings.warn(txt.format(hidden_size, output_size, input_size, self.hidden_size))\n",
      "\n",
      "--------------------------------\n",
      "/private/home/yannd/projects/Neural-Process-Family/neuralproc/predefined/mlp.py:67: UserWarning: hidden_size=32 smaller than output=128 and input=128. Setting it to 128.\n",
      "  warnings.warn(txt.format(hidden_size, output_size, input_size, self.hidden_size))\n",
      "/private/home/yannd/projects/Neural-Process-Family/neuralproc/predefined/mlp.py:67: UserWarning: hidden_size=32 smaller than output=256 and input=128. Setting it to 128.\n",
      "  warnings.warn(txt.format(hidden_size, output_size, input_size, self.hidden_size))\n",
      "\n",
      "--------------------------------\n",
      "/private/home/yannd/projects/Neural-Process-Family/neuralproc/predefined/mlp.py:67: UserWarning: hidden_size=32 smaller than output=128 and input=128. Setting it to 128.\n",
      "  warnings.warn(txt.format(hidden_size, output_size, input_size, self.hidden_size))\n",
      "/private/home/yannd/projects/Neural-Process-Family/neuralproc/predefined/mlp.py:67: UserWarning: hidden_size=32 smaller than output=256 and input=128. Setting it to 128.\n",
      "  warnings.warn(txt.format(hidden_size, output_size, input_size, self.hidden_size))\n",
      "\n",
      "--------------------------------\n",
      "/private/home/yannd/projects/Neural-Process-Family/neuralproc/predefined/mlp.py:67: UserWarning: hidden_size=32 smaller than output=128 and input=128. Setting it to 128.\n",
      "  warnings.warn(txt.format(hidden_size, output_size, input_size, self.hidden_size))\n",
      "/private/home/yannd/projects/Neural-Process-Family/neuralproc/predefined/mlp.py:67: UserWarning: hidden_size=32 smaller than output=256 and input=128. Setting it to 128.\n",
      "  warnings.warn(txt.format(hidden_size, output_size, input_size, self.hidden_size))\n",
      "\n",
      "--------------------------------\n",
      "/private/home/yannd/projects/Neural-Process-Family/neuralproc/predefined/mlp.py:67: UserWarning: hidden_size=32 smaller than output=128 and input=128. Setting it to 128.\n",
      "  warnings.warn(txt.format(hidden_size, output_size, input_size, self.hidden_size))\n",
      "/private/home/yannd/projects/Neural-Process-Family/neuralproc/predefined/mlp.py:67: UserWarning: hidden_size=32 smaller than output=256 and input=128. Setting it to 128.\n",
      "  warnings.warn(txt.format(hidden_size, output_size, input_size, self.hidden_size))\n",
      "\n",
      "--------------------------------\n",
      "/private/home/yannd/projects/Neural-Process-Family/neuralproc/predefined/mlp.py:67: UserWarning: hidden_size=32 smaller than output=128 and input=128. Setting it to 128.\n",
      "  warnings.warn(txt.format(hidden_size, output_size, input_size, self.hidden_size))\n",
      "/private/home/yannd/projects/Neural-Process-Family/neuralproc/predefined/mlp.py:67: UserWarning: hidden_size=32 smaller than output=256 and input=128. Setting it to 128.\n",
      "  warnings.warn(txt.format(hidden_size, output_size, input_size, self.hidden_size))\n",
      "\n",
      "--------------------------------\n",
      "/private/home/yannd/projects/Neural-Process-Family/neuralproc/predefined/mlp.py:67: UserWarning: hidden_size=32 smaller than output=128 and input=128. Setting it to 128.\n",
      "  warnings.warn(txt.format(hidden_size, output_size, input_size, self.hidden_size))\n",
      "/private/home/yannd/projects/Neural-Process-Family/neuralproc/predefined/mlp.py:67: UserWarning: hidden_size=32 smaller than output=256 and input=128. Setting it to 128.\n",
      "  warnings.warn(txt.format(hidden_size, output_size, input_size, self.hidden_size))\n",
      "\n",
      "--------------------------------\n",
      "/private/home/yannd/projects/Neural-Process-Family/neuralproc/predefined/mlp.py:67: UserWarning: hidden_size=32 smaller than output=128 and input=128. Setting it to 128.\n",
      "  warnings.warn(txt.format(hidden_size, output_size, input_size, self.hidden_size))\n",
      "/private/home/yannd/projects/Neural-Process-Family/neuralproc/predefined/mlp.py:67: UserWarning: hidden_size=32 smaller than output=256 and input=128. Setting it to 128.\n",
      "  warnings.warn(txt.format(hidden_size, output_size, input_size, self.hidden_size))\n",
      "\n",
      "--------------------------------\n",
      "/private/home/yannd/projects/Neural-Process-Family/neuralproc/predefined/mlp.py:67: UserWarning: hidden_size=32 smaller than output=128 and input=128. Setting it to 128.\n",
      "  warnings.warn(txt.format(hidden_size, output_size, input_size, self.hidden_size))\n",
      "/private/home/yannd/projects/Neural-Process-Family/neuralproc/predefined/mlp.py:67: UserWarning: hidden_size=32 smaller than output=256 and input=128. Setting it to 128.\n",
      "  warnings.warn(txt.format(hidden_size, output_size, input_size, self.hidden_size))\n",
      "\n",
      "--------------------------------\n",
      "/private/home/yannd/projects/Neural-Process-Family/neuralproc/predefined/mlp.py:67: UserWarning: hidden_size=32 smaller than output=128 and input=128. Setting it to 128.\n",
      "  warnings.warn(txt.format(hidden_size, output_size, input_size, self.hidden_size))\n",
      "/private/home/yannd/projects/Neural-Process-Family/neuralproc/predefined/mlp.py:67: UserWarning: hidden_size=32 smaller than output=256 and input=128. Setting it to 128.\n",
      "  warnings.warn(txt.format(hidden_size, output_size, input_size, self.hidden_size))\n",
      "\n"
     ]
    }
   ],
   "source": [
    "for j in job:\n",
    "    print(\"--------------------------------\")\n",
    "    print(j.stderr())"
   ]
  },
  {
   "cell_type": "code",
   "execution_count": null,
   "metadata": {},
   "outputs": [],
   "source": []
  }
 ],
 "metadata": {
  "kernelspec": {
   "display_name": "Python 3",
   "language": "python",
   "name": "python3"
  },
  "language_info": {
   "codemirror_mode": {
    "name": "ipython",
    "version": 3
   },
   "file_extension": ".py",
   "mimetype": "text/x-python",
   "name": "python",
   "nbconvert_exporter": "python",
   "pygments_lexer": "ipython3",
   "version": "3.7.4"
  }
 },
 "nbformat": 4,
 "nbformat_minor": 2
}
