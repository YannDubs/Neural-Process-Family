{
 "cells": [
  {
   "cell_type": "markdown",
   "metadata": {
    "toc": true
   },
   "source": [
    "<h1>Table of Contents<span class=\"tocSkip\"></span></h1>\n",
    "<div class=\"toc\"><ul class=\"toc-item\"></ul></div>"
   ]
  },
  {
   "cell_type": "markdown",
   "metadata": {},
   "source": [
    "# Run GriddedCCP AR"
   ]
  },
  {
   "cell_type": "code",
   "execution_count": 1,
   "metadata": {
    "scrolled": true
   },
   "outputs": [
    {
     "name": "stdout",
     "output_type": "stream",
     "text": [
      "/private/home/yannd/projects/Neural-Process-Family\n"
     ]
    }
   ],
   "source": [
    "cd .."
   ]
  },
  {
   "cell_type": "code",
   "execution_count": 2,
   "metadata": {},
   "outputs": [],
   "source": [
    "import neuralproc"
   ]
  },
  {
   "cell_type": "code",
   "execution_count": 3,
   "metadata": {},
   "outputs": [],
   "source": [
    "import submitit\n",
    "from train_imgs import main, parse_arguments\n",
    "\n",
    "log_folder=\"logs/%j\""
   ]
  },
  {
   "cell_type": "code",
   "execution_count": 4,
   "metadata": {},
   "outputs": [],
   "source": [
    "def repeat_list(l, n):\n",
    "    return [i for i in l for _ in range(n)]\n",
    "\n",
    "class Run:\n",
    "    def checkpoint(self, args):\n",
    "        \"\"\"Resubmits the same callable with the same arguments but makes sure continnue from last chckpnt.\"\"\"\n",
    "        args.is_continue_train=True \n",
    "        return submitit.utils.DelayedSubmission(self, args)\n",
    "    \n",
    "    def __call__(self, args):\n",
    "        job_env = submitit.utils.JobEnvironment()\n",
    "        args.starting_run = args.starting_run * job_env.num_tasks + job_env.local_rank\n",
    "        return main(args)"
   ]
  },
  {
   "cell_type": "code",
   "execution_count": 5,
   "metadata": {},
   "outputs": [],
   "source": [
    "args = [parse_arguments(\"GridedCCP_AR celeba32 --starting-run 0\".split()),\n",
    "        parse_arguments(\"GridedCCP_AConfR celeba32 --starting-run 0\".split()),\n",
    "       parse_arguments(\"GridedCCP_AR mnist --starting-run 0\".split()),\n",
    "        parse_arguments(\"GridedCCP_AConfR mnist --starting-run 0\".split())]"
   ]
  },
  {
   "cell_type": "code",
   "execution_count": 6,
   "metadata": {},
   "outputs": [],
   "source": [
    "executor=submitit.SlurmExecutor(folder=log_folder, max_num_timeout=3)\n",
    "executor.update_parameters(num_gpus=1, \n",
    "                           time=60*24, \n",
    "                           #partition=\"dev\", \n",
    "                           cpus_per_task=10, \n",
    "                           mem='32GB',  \n",
    "                          )"
   ]
  },
  {
   "cell_type": "code",
   "execution_count": 7,
   "metadata": {},
   "outputs": [],
   "source": [
    "job = executor.map_array(Run(), args)"
   ]
  },
  {
   "cell_type": "code",
   "execution_count": 20,
   "metadata": {},
   "outputs": [
    {
     "data": {
      "text/plain": [
       "[SlurmJob<job_id=17767962_0, task_id=0, state=\"RUNNING\">,\n",
       " SlurmJob<job_id=17767962_1, task_id=0, state=\"RUNNING\">,\n",
       " SlurmJob<job_id=17767962_2, task_id=0, state=\"COMPLETED\">,\n",
       " SlurmJob<job_id=17767962_3, task_id=0, state=\"COMPLETED\">]"
      ]
     },
     "execution_count": 20,
     "metadata": {},
     "output_type": "execute_result"
    }
   ],
   "source": [
    "j = job[0]\n",
    "job"
   ]
  },
  {
   "cell_type": "code",
   "execution_count": 21,
   "metadata": {},
   "outputs": [
    {
     "name": "stdout",
     "output_type": "stream",
     "text": [
      "--------------------------------\n",
      "submitit INFO (2019-09-17 03:01:24,459) - Starting with JobEnvironment(job_id=17767962_0, hostname=learnfair0321, local_rank=0(1), node=0(1), global_rank=0(1))\n",
      "submitit INFO (2019-09-17 03:01:24,459) - Loading pickle: /private/home/yannd/projects/Neural-Process-Family/logs/17767962_0/17767962_0_submitted.pkl\n",
      "\n",
      "--- Training celeba32/GridedCCP_AR/run_0 ---\n",
      "\n",
      "  epoch    train_loss    valid_loss    cp        dur\n",
      "-------  ------------  ------------  ----  ---------\n",
      "      1       \u001b[36m-2.4188\u001b[0m       \u001b[32m-2.3192\u001b[0m     +  1025.1561\n",
      "      2       \u001b[36m-2.8518\u001b[0m       -1.7310        775.8017\n",
      "      3       \u001b[36m-3.0064\u001b[0m       -2.2201        795.8687\n",
      "      4       \u001b[36m-3.0552\u001b[0m       -2.2061        789.5654\n",
      "      5       \u001b[36m-3.0794\u001b[0m       \u001b[32m-2.5011\u001b[0m     +  807.9256\n",
      "      6       \u001b[36m-3.1131\u001b[0m       -2.3397        780.4694\n",
      "      7       \u001b[36m-3.1242\u001b[0m       -1.9951        809.0077\n",
      "      8       \u001b[36m-3.1408\u001b[0m       \u001b[32m-2.5359\u001b[0m     +  765.3742\n",
      "      9       -3.1348       -2.4476        795.8630\n",
      "     10       \u001b[36m-3.1617\u001b[0m       -2.2191        727.2378\n",
      "     11       \u001b[36m-3.1682\u001b[0m       \u001b[32m-2.5567\u001b[0m     +  752.9298\n",
      "     12       \u001b[36m-3.1782\u001b[0m       -2.4597        788.4637\n",
      "     13       \u001b[36m-3.1887\u001b[0m       -2.2841        611.5091\n",
      "     14       \u001b[36m-3.1928\u001b[0m       -2.4963        584.6084\n",
      "     15       \u001b[36m-3.2078\u001b[0m       -2.2434        578.9104\n",
      "     16       \u001b[36m-3.2242\u001b[0m       -2.4111        577.8728\n",
      "     17       -3.2192       -2.5307        583.6380\n",
      "     18       \u001b[36m-3.2248\u001b[0m       -2.2569        610.3885\n",
      "\n",
      "--------------------------------\n",
      "submitit INFO (2019-09-17 03:01:24,459) - Starting with JobEnvironment(job_id=17767962_1, hostname=learnfair0417, local_rank=0(1), node=0(1), global_rank=0(1))\n",
      "submitit INFO (2019-09-17 03:01:24,459) - Loading pickle: /private/home/yannd/projects/Neural-Process-Family/logs/17767962_1/17767962_1_submitted.pkl\n",
      "\n",
      "--- Training celeba32/GridedCCP_AConfR/run_0 ---\n",
      "\n",
      "  epoch    train_loss    valid_loss    cp        dur\n",
      "-------  ------------  ------------  ----  ---------\n",
      "      1       \u001b[36m-2.3592\u001b[0m       \u001b[32m-2.1240\u001b[0m     +  2357.8514\n",
      "      2       \u001b[36m-2.8314\u001b[0m       -1.8207        2237.1793\n",
      "      3       \u001b[36m-2.9817\u001b[0m       -1.8434        2196.4123\n",
      "      4       \u001b[36m-3.0510\u001b[0m       -1.6037        2297.6813\n",
      "      5       \u001b[36m-3.0840\u001b[0m       -1.9533        2410.0614\n",
      "      6       \u001b[36m-3.1090\u001b[0m       \u001b[32m-2.2646\u001b[0m     +  1463.2771\n",
      "\n",
      "--------------------------------\n",
      "submitit INFO (2019-09-17 03:01:24,459) - Starting with JobEnvironment(job_id=17767962_2, hostname=learnfair0430, local_rank=0(1), node=0(1), global_rank=0(1))\n",
      "submitit INFO (2019-09-17 03:01:24,459) - Loading pickle: /private/home/yannd/projects/Neural-Process-Family/logs/17767962_2/17767962_2_submitted.pkl\n",
      "\n",
      "--- Training mnist/GridedCCP_AR/run_0 ---\n",
      "\n",
      "  epoch    train_loss    valid_loss    cp       dur\n",
      "-------  ------------  ------------  ----  --------\n",
      "      1       \u001b[36m-0.8365\u001b[0m       \u001b[32m-0.6262\u001b[0m     +  159.8655\n",
      "      2       \u001b[36m-1.0977\u001b[0m       \u001b[32m-0.8189\u001b[0m     +  160.2234\n",
      "      3       \u001b[36m-1.1501\u001b[0m       \u001b[32m-0.8450\u001b[0m     +  158.6142\n",
      "      4       \u001b[36m-1.1718\u001b[0m       \u001b[32m-0.9218\u001b[0m     +  161.7706\n",
      "      5       \u001b[36m-1.1755\u001b[0m       -0.8446        164.5506\n",
      "      6       \u001b[36m-1.1874\u001b[0m       -0.8484        163.2181\n",
      "      7       \u001b[36m-1.1948\u001b[0m       -0.8547        163.1705\n",
      "      8       \u001b[36m-1.2030\u001b[0m       -0.8302        162.7112\n",
      "      9       \u001b[36m-1.2054\u001b[0m       -0.8020        162.7034\n",
      "     10       \u001b[36m-1.2075\u001b[0m       -0.7992        163.2660\n",
      "     11       \u001b[36m-1.2105\u001b[0m       -0.8615        161.9148\n",
      "     12       \u001b[36m-1.2138\u001b[0m       -0.7673        162.4973\n",
      "     13       \u001b[36m-1.2174\u001b[0m       -0.7692        159.3611\n",
      "     14       -1.2087       \u001b[32m-0.9895\u001b[0m     +  162.8121\n",
      "     15       \u001b[36m-1.2187\u001b[0m       -0.7227        159.1994\n",
      "     16       \u001b[36m-1.2199\u001b[0m       -0.7432        160.3751\n",
      "     17       \u001b[36m-1.2219\u001b[0m       -0.5989        160.2862\n",
      "     18       \u001b[36m-1.2238\u001b[0m       -0.7878        162.5798\n",
      "     19       -1.2223       -0.9063        160.0242\n",
      "     20       \u001b[36m-1.2247\u001b[0m       -0.9265        159.3737\n",
      "     21       \u001b[36m-1.2260\u001b[0m       -0.6570        159.8993\n",
      "     22       \u001b[36m-1.2265\u001b[0m       -0.7058        159.8088\n",
      "     23       \u001b[36m-1.2296\u001b[0m       -0.8897        163.4126\n",
      "Stopping since valid_loss has not improved in the last 10 epochs.\n",
      "Re-initializing module.\n",
      "Re-initializing optimizer.\n",
      "mnist/GridedCCP_AR/run_0 | best epoch: 14 | train loss: -1.2174 | valid loss: -0.9895 | test log likelihood: 0.8838\n",
      "submitit INFO (2019-09-17 04:06:28,361) - Job completed successfully\n",
      "\n",
      "--------------------------------\n",
      "submitit INFO (2019-09-17 03:01:24,459) - Starting with JobEnvironment(job_id=17767962_3, hostname=learnfair0502, local_rank=0(1), node=0(1), global_rank=0(1))\n",
      "submitit INFO (2019-09-17 03:01:24,459) - Loading pickle: /private/home/yannd/projects/Neural-Process-Family/logs/17767962_3/17767962_3_submitted.pkl\n",
      "\n",
      "--- Training mnist/GridedCCP_AConfR/run_0 ---\n",
      "\n",
      "  epoch    train_loss    valid_loss    cp       dur\n",
      "-------  ------------  ------------  ----  --------\n",
      "      1       \u001b[36m-0.9694\u001b[0m        \u001b[32m3.1313\u001b[0m     +  305.2230\n",
      "      2       \u001b[36m-1.1133\u001b[0m        3.2218        305.1549\n",
      "      3       \u001b[36m-1.1559\u001b[0m        3.2309        306.9742\n",
      "      4       \u001b[36m-1.1747\u001b[0m        \u001b[32m2.8087\u001b[0m     +  304.8091\n",
      "      5       \u001b[36m-1.1773\u001b[0m        \u001b[32m0.6443\u001b[0m     +  304.3028\n",
      "      6       \u001b[36m-1.1876\u001b[0m        2.0850        305.3001\n",
      "      7       \u001b[36m-1.1955\u001b[0m        2.5641        305.3192\n",
      "      8       \u001b[36m-1.2039\u001b[0m        \u001b[32m0.0375\u001b[0m     +  309.6349\n",
      "      9       \u001b[36m-1.2054\u001b[0m       \u001b[32m-0.1313\u001b[0m     +  311.2492\n",
      "     10       \u001b[36m-1.2088\u001b[0m        0.2946        305.9173\n",
      "     11       \u001b[36m-1.2115\u001b[0m        1.3111        305.2535\n",
      "     12       \u001b[36m-1.2147\u001b[0m       -0.1228        305.4823\n",
      "     13       \u001b[36m-1.2190\u001b[0m        0.5267        306.6395\n",
      "     14       -1.2102        2.9782        305.6207\n",
      "     15       \u001b[36m-1.2206\u001b[0m        0.2116        306.2661\n",
      "     16       \u001b[36m-1.2217\u001b[0m        0.5808        309.3216\n",
      "     17       \u001b[36m-1.2240\u001b[0m        1.0844        306.2310\n",
      "     18       \u001b[36m-1.2249\u001b[0m        2.1856        306.2625\n",
      "Stopping since valid_loss has not improved in the last 10 epochs.\n",
      "Re-initializing module.\n",
      "Re-initializing optimizer.\n",
      "mnist/GridedCCP_AConfR/run_0 | best epoch: 9 | train loss: -1.2054 | valid loss: -0.1313 | test log likelihood: -0.0075\n",
      "submitit INFO (2019-09-17 04:38:55,408) - Job completed successfully\n",
      "\n"
     ]
    }
   ],
   "source": [
    "for j in job:\n",
    "    print(\"--------------------------------\")\n",
    "    print(j.stdout())"
   ]
  },
  {
   "cell_type": "code",
   "execution_count": 16,
   "metadata": {},
   "outputs": [
    {
     "name": "stdout",
     "output_type": "stream",
     "text": [
      "--------------------------------\n",
      "\n",
      "--------------------------------\n",
      "\n",
      "--------------------------------\n",
      "\n",
      "--------------------------------\n",
      "\n"
     ]
    }
   ],
   "source": [
    "for j in job:\n",
    "    print(\"--------------------------------\")\n",
    "    print(j.stderr())"
   ]
  },
  {
   "cell_type": "code",
   "execution_count": null,
   "metadata": {},
   "outputs": [],
   "source": []
  }
 ],
 "metadata": {
  "kernelspec": {
   "display_name": "Python 3",
   "language": "python",
   "name": "python3"
  },
  "language_info": {
   "codemirror_mode": {
    "name": "ipython",
    "version": 3
   },
   "file_extension": ".py",
   "mimetype": "text/x-python",
   "name": "python",
   "nbconvert_exporter": "python",
   "pygments_lexer": "ipython3",
   "version": "3.7.4"
  },
  "toc": {
   "base_numbering": 1,
   "nav_menu": {},
   "number_sections": true,
   "sideBar": true,
   "skip_h1_title": true,
   "title_cell": "Table of Contents",
   "title_sidebar": "Contents",
   "toc_cell": true,
   "toc_position": {},
   "toc_section_display": true,
   "toc_window_display": false
  }
 },
 "nbformat": 4,
 "nbformat_minor": 2
}
