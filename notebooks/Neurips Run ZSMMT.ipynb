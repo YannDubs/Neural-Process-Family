{
 "cells": [
  {
   "cell_type": "markdown",
   "metadata": {
    "toc": true
   },
   "source": [
    "<h1>Table of Contents<span class=\"tocSkip\"></span></h1>\n",
    "<div class=\"toc\"><ul class=\"toc-item\"></ul></div>"
   ]
  },
  {
   "cell_type": "markdown",
   "metadata": {},
   "source": [
    "# NeurIPS - Run ZSMMT\n",
    "\n",
    "Goal : train models on ZSMMT\n",
    "\n",
    "Data : ZSMMT\n",
    "\n",
    "Models : SelfAttnLNP and ConvLNP and ConvCNP \n",
    "\n",
    "Loss : NLLLloss\n",
    "\n",
    "Runs : 1"
   ]
  },
  {
   "cell_type": "code",
   "execution_count": 1,
   "metadata": {
    "scrolled": true
   },
   "outputs": [],
   "source": [
    "import os\n",
    "\n",
    "os.chdir(\"..\")"
   ]
  },
  {
   "cell_type": "code",
   "execution_count": 2,
   "metadata": {},
   "outputs": [],
   "source": [
    "import submitit\n",
    "\n",
    "from train_imgs import main,main2, parse_arguments\n",
    "from results import get_exp_args\n",
    "\n",
    "class Run:\n",
    "    def checkpoint(self, args):\n",
    "        \"\"\"Resubmits the same callable with the same arguments but makes sure continnue from last chckpnt.\"\"\"\n",
    "        args.is_continue_train = True\n",
    "        return submitit.utils.DelayedSubmission(self, args)\n",
    "\n",
    "    def __call__(self, args):\n",
    "        job_env = submitit.JobEnvironment()\n",
    "        args.starting_run = args.starting_run * job_env.num_tasks + job_env.local_rank\n",
    "        return main2(args)\n"
   ]
  },
  {
   "cell_type": "code",
   "execution_count": 3,
   "metadata": {},
   "outputs": [
    {
     "data": {
      "text/plain": [
       "1"
      ]
     },
     "execution_count": 3,
     "metadata": {},
     "output_type": "execute_result"
    }
   ],
   "source": [
    "args = get_exp_args(\"exp_mini\", is_load=False)\n",
    "len(args)"
   ]
  },
  {
   "cell_type": "code",
   "execution_count": 6,
   "metadata": {},
   "outputs": [],
   "source": [
    "executor=submitit.AutoExecutor(folder=\"logs/%j\", slurm_max_num_timeout=3)\n",
    "executor.update_parameters(gpus_per_node=1, \n",
    "                           cpus_per_task=10, \n",
    "                           slurm_time=60*24*2, \n",
    "                           slurm_mem='32GB',\n",
    "                           slurm_constraint=\"volta32gb\",\n",
    "                           slurm_partition=\"dev\"\n",
    "                          )"
   ]
  },
  {
   "cell_type": "code",
   "execution_count": 5,
   "metadata": {},
   "outputs": [],
   "source": [
    "jobs = executor.map_array(Run(), args)"
   ]
  },
  {
   "cell_type": "code",
   "execution_count": 6,
   "metadata": {},
   "outputs": [],
   "source": [
    "############################################################"
   ]
  },
  {
   "cell_type": "code",
   "execution_count": 7,
   "metadata": {},
   "outputs": [
    {
     "data": {
      "text/plain": [
       "[SlurmJob<job_id=28059968, task_id=0, state=\"RUNNING\">]"
      ]
     },
     "execution_count": 7,
     "metadata": {},
     "output_type": "execute_result"
    }
   ],
   "source": [
    "jobs"
   ]
  },
  {
   "cell_type": "code",
   "execution_count": 9,
   "metadata": {},
   "outputs": [
    {
     "name": "stdout",
     "output_type": "stream",
     "text": [
      "--------------------------------\n",
      "submitit INFO (2020-07-09 14:14:20,569) - Starting with JobEnvironment(job_id=28059968, hostname=learnfair0338, local_rank=0(1), node=0(1), global_rank=0(1))\n",
      "submitit INFO (2020-07-09 14:14:20,570) - Loading pickle: /private/home/yannd/projects/Neural-Process-Family/logs/28059968/28059968_submitted.pkl\n",
      "\n",
      "--- Training mnist/ConvLNP/run_0 ---\n",
      "\n",
      "  epoch    train_loss    valid_loss    cp        dur\n",
      "-------  ------------  ------------  ----  ---------\n",
      "      1    \u001b[36m-1044.3515\u001b[0m     \u001b[32m-626.6722\u001b[0m     +  1062.0232\n",
      "Re-initializing module.\n",
      "Re-initializing optimizer.\n",
      "mnist/ConvLNP/run_0 | best epoch: 1 | train loss: -1044.3515 | valid loss: -626.6722 | test log likelihood: 548.9073\n",
      "submitit INFO (2020-07-09 14:33:20,189) - Job completed successfully\n",
      "\n"
     ]
    }
   ],
   "source": [
    "for job in jobs:\n",
    "    print(\"--------------------------------\")\n",
    "    print(job.stdout())"
   ]
  },
  {
   "cell_type": "code",
   "execution_count": 9,
   "metadata": {},
   "outputs": [
    {
     "name": "stdout",
     "output_type": "stream",
     "text": [
      "--------------------------------\n",
      "None\n"
     ]
    }
   ],
   "source": [
    "for j in jobs:\n",
    "    print(\"--------------------------------\")\n",
    "    print(j.stderr())"
   ]
  },
  {
   "cell_type": "code",
   "execution_count": 14,
   "metadata": {},
   "outputs": [],
   "source": [
    "for j in jobs:\n",
    "    j.cancel()"
   ]
  },
  {
   "cell_type": "code",
   "execution_count": null,
   "metadata": {},
   "outputs": [],
   "source": []
  }
 ],
 "metadata": {
  "kernelspec": {
   "display_name": "Python 3.8.2 64-bit",
   "language": "python",
   "name": "python38264bit80a296391e2448d7b35197537906aa1d"
  },
  "language_info": {
   "codemirror_mode": {
    "name": "ipython",
    "version": 3
   },
   "file_extension": ".py",
   "mimetype": "text/x-python",
   "name": "python",
   "nbconvert_exporter": "python",
   "pygments_lexer": "ipython3",
   "version": "3.8.2"
  },
  "toc": {
   "base_numbering": 1,
   "nav_menu": {},
   "number_sections": true,
   "sideBar": true,
   "skip_h1_title": true,
   "title_cell": "Table of Contents",
   "title_sidebar": "Contents",
   "toc_cell": true,
   "toc_position": {},
   "toc_section_display": true,
   "toc_window_display": false
  }
 },
 "nbformat": 4,
 "nbformat_minor": 4
}
