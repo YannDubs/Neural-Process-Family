{
 "cells": [
  {
   "cell_type": "markdown",
   "metadata": {
    "toc": true
   },
   "source": [
    "<h1>Table of Contents<span class=\"tocSkip\"></span></h1>\n",
    "<div class=\"toc\"><ul class=\"toc-item\"></ul></div>"
   ]
  },
  {
   "cell_type": "markdown",
   "metadata": {},
   "source": [
    "# NeurIPS - Run All ZSMMT\n",
    "\n",
    "Goal : train models on ZSMMT\n",
    "\n",
    "Data : All ZSMMT\n",
    "\n",
    "Models : SelfAttnLNP and ConvLNP and ConvCNP \n",
    "\n",
    "Loss : NLLLloss\n",
    "\n",
    "Runs : 1"
   ]
  },
  {
   "cell_type": "code",
   "execution_count": 1,
   "metadata": {
    "scrolled": true
   },
   "outputs": [],
   "source": [
    "import os\n",
    "\n",
    "os.chdir(\"..\")"
   ]
  },
  {
   "cell_type": "code",
   "execution_count": null,
   "metadata": {},
   "outputs": [],
   "source": [
    "import submitit\n",
    "\n",
    "from train_imgs import main, parse_arguments\n",
    "from results import get_exp_args\n",
    "\n",
    "class Run:\n",
    "    def checkpoint(self, args):\n",
    "        \"\"\"Resubmits the same callable with the same arguments but makes sure continnue from last chckpnt.\"\"\"\n",
    "        args.is_continue_train = True\n",
    "        return submitit.utils.DelayedSubmission(self, args)\n",
    "\n",
    "    def __call__(self, args):\n",
    "        job_env = submitit.utils.JobEnvironment()\n",
    "        args.starting_run = args.starting_run * job_env.num_tasks + job_env.local_rank\n",
    "        return main(args)\n"
   ]
  },
  {
   "cell_type": "code",
   "execution_count": 3,
   "metadata": {},
   "outputs": [
    {
     "data": {
      "text/plain": [
       "12"
      ]
     },
     "execution_count": 3,
     "metadata": {},
     "output_type": "execute_result"
    }
   ],
   "source": [
    "args = get_exp_args(\"exp_minlat\", is_load=False)\n",
    "len(args)"
   ]
  },
  {
   "cell_type": "code",
   "execution_count": 4,
   "metadata": {},
   "outputs": [],
   "source": [
    "executor=submitit.SlurmExecutor(folder=\"logs/%j\", max_num_timeout=3)\n",
    "executor.update_parameters(num_gpus=1, \n",
    "                           time=60*24*2,  \n",
    "                           cpus_per_task=10, \n",
    "                           mem='32GB',\n",
    "                          partition=\"priority\",\n",
    "                           comment=\"neurips\",\n",
    "                           constraint=\"volta32gb\"\n",
    "                          )"
   ]
  },
  {
   "cell_type": "code",
   "execution_count": 5,
   "metadata": {},
   "outputs": [],
   "source": [
    "jobs = executor.map_array(Run(), args)"
   ]
  },
  {
   "cell_type": "code",
   "execution_count": 6,
   "metadata": {},
   "outputs": [],
   "source": [
    "############################################################"
   ]
  },
  {
   "cell_type": "code",
   "execution_count": 11,
   "metadata": {},
   "outputs": [
    {
     "data": {
      "text/plain": [
       "[SlurmJob<job_id=27007948_0, task_id=0, state=\"COMPLETED\">,\n",
       " SlurmJob<job_id=27007948_1, task_id=0, state=\"COMPLETED\">,\n",
       " SlurmJob<job_id=27007948_2, task_id=0, state=\"COMPLETED\">,\n",
       " SlurmJob<job_id=27007948_3, task_id=0, state=\"COMPLETED\">,\n",
       " SlurmJob<job_id=27007948_4, task_id=0, state=\"COMPLETED\">,\n",
       " SlurmJob<job_id=27007948_5, task_id=0, state=\"COMPLETED\">,\n",
       " SlurmJob<job_id=27007948_6, task_id=0, state=\"COMPLETED\">,\n",
       " SlurmJob<job_id=27007948_7, task_id=0, state=\"COMPLETED\">,\n",
       " SlurmJob<job_id=27007948_8, task_id=0, state=\"COMPLETED\">,\n",
       " SlurmJob<job_id=27007948_9, task_id=0, state=\"COMPLETED\">,\n",
       " SlurmJob<job_id=27007948_10, task_id=0, state=\"COMPLETED\">,\n",
       " SlurmJob<job_id=27007948_11, task_id=0, state=\"COMPLETED\">]"
      ]
     },
     "execution_count": 11,
     "metadata": {},
     "output_type": "execute_result"
    }
   ],
   "source": [
    "jobs"
   ]
  },
  {
   "cell_type": "code",
   "execution_count": 9,
   "metadata": {},
   "outputs": [
    {
     "name": "stdout",
     "output_type": "stream",
     "text": [
      "--------------------------------\n",
      "submitit INFO (2020-05-29 11:31:37,181) - Starting with JobEnvironment(job_id=27007948_0, hostname=learnfair0709, local_rank=0(1), node=0(1), global_rank=0(1))\n",
      "submitit INFO (2020-05-29 11:31:37,181) - Loading pickle: /private/home/yannd/projects/NPF/logs/27007948_0/27007948_0_submitted.pkl\n",
      "\n",
      "--- Training zsmms/ConvNPFXL_NllLNPF_0/run_0 ---\n",
      "\n",
      "  epoch    train_loss    valid_loss    cp       dur\n",
      "-------  ------------  ------------  ----  --------\n",
      "      1     \u001b[36m-561.8226\u001b[0m     \u001b[32m-883.1622\u001b[0m     +  267.0480\n",
      "      2     \u001b[36m-960.2529\u001b[0m     \u001b[32m-983.1795\u001b[0m     +  266.7247\n",
      "\n",
      "--------------------------------\n",
      "submitit INFO (2020-05-29 11:31:37,181) - Starting with JobEnvironment(job_id=27007948_1, hostname=learnfair0709, local_rank=0(1), node=0(1), global_rank=0(1))\n",
      "submitit INFO (2020-05-29 11:31:37,181) - Loading pickle: /private/home/yannd/projects/NPF/logs/27007948_1/27007948_1_submitted.pkl\n",
      "\n",
      "--- Training zsmms/ConvNPFXL_NllLNPF_0.01/run_0 ---\n",
      "\n",
      "  epoch    train_loss    valid_loss    cp       dur\n",
      "-------  ------------  ------------  ----  --------\n",
      "      1     \u001b[36m-596.1378\u001b[0m     \u001b[32m-768.7451\u001b[0m     +  267.0115\n",
      "      2     \u001b[36m-974.1619\u001b[0m    \u001b[32m-1006.4327\u001b[0m     +  266.5172\n",
      "\n",
      "--------------------------------\n",
      "submitit INFO (2020-05-29 11:31:38,842) - Starting with JobEnvironment(job_id=27007948_2, hostname=learnfair0770, local_rank=0(1), node=0(1), global_rank=0(1))\n",
      "submitit INFO (2020-05-29 11:31:38,842) - Loading pickle: /private/home/yannd/projects/NPF/logs/27007948_2/27007948_2_submitted.pkl\n",
      "\n",
      "--- Training zsmms/ConvNPFXL_NllLNPF_0.1/run_0 ---\n",
      "\n",
      "  epoch    train_loss    valid_loss    cp       dur\n",
      "-------  ------------  ------------  ----  --------\n",
      "      1     \u001b[36m-592.5538\u001b[0m     \u001b[32m-934.0100\u001b[0m     +  273.4060\n",
      "\n",
      "--------------------------------\n",
      "submitit INFO (2020-05-29 11:31:37,911) - Starting with JobEnvironment(job_id=27007948_3, hostname=learnfair0889, local_rank=0(1), node=0(1), global_rank=0(1))\n",
      "submitit INFO (2020-05-29 11:31:37,911) - Loading pickle: /private/home/yannd/projects/NPF/logs/27007948_3/27007948_3_submitted.pkl\n",
      "\n",
      "--- Training zsmms/SelfAttnNPF_NllLNPF_0/run_0 ---\n",
      "\n",
      "  epoch    train_loss    valid_loss    cp       dur\n",
      "-------  ------------  ------------  ----  --------\n",
      "      1     \u001b[36m-373.0041\u001b[0m     \u001b[32m-605.6645\u001b[0m     +  267.9299\n",
      "      2     \u001b[36m-641.2280\u001b[0m     \u001b[32m-736.3648\u001b[0m     +  267.6286\n",
      "\n",
      "--------------------------------\n",
      "submitit INFO (2020-05-29 11:31:37,802) - Starting with JobEnvironment(job_id=27007948_4, hostname=learnfair0353, local_rank=0(1), node=0(1), global_rank=0(1))\n",
      "submitit INFO (2020-05-29 11:31:37,802) - Loading pickle: /private/home/yannd/projects/NPF/logs/27007948_4/27007948_4_submitted.pkl\n",
      "\n",
      "--- Training zsmms/SelfAttnNPF_NllLNPF_0.01/run_0 ---\n",
      "\n",
      "  epoch    train_loss    valid_loss    cp       dur\n",
      "-------  ------------  ------------  ----  --------\n",
      "      1     \u001b[36m-412.6628\u001b[0m     \u001b[32m-635.5026\u001b[0m     +  255.4976\n",
      "      2     \u001b[36m-664.3155\u001b[0m     \u001b[32m-726.7995\u001b[0m     +  253.0719\n",
      "\n",
      "--------------------------------\n",
      "submitit INFO (2020-05-29 11:31:12,157) - Starting with JobEnvironment(job_id=27007948_5, hostname=learnfair0360, local_rank=0(1), node=0(1), global_rank=0(1))\n",
      "submitit INFO (2020-05-29 11:31:12,157) - Loading pickle: /private/home/yannd/projects/NPF/logs/27007948_5/27007948_5_submitted.pkl\n",
      "\n",
      "--- Training zsmms/SelfAttnNPF_NllLNPF_0.1/run_0 ---\n",
      "\n",
      "  epoch    train_loss    valid_loss    cp       dur\n",
      "-------  ------------  ------------  ----  --------\n",
      "      1     \u001b[36m-399.1511\u001b[0m     \u001b[32m-624.3383\u001b[0m     +  257.7737\n",
      "      2     \u001b[36m-649.3664\u001b[0m     \u001b[32m-739.6809\u001b[0m     +  257.1133\n",
      "\n",
      "--------------------------------\n",
      "submitit INFO (2020-05-29 11:31:37,536) - Starting with JobEnvironment(job_id=27007948_6, hostname=learnfair0360, local_rank=0(1), node=0(1), global_rank=0(1))\n",
      "submitit INFO (2020-05-29 11:31:37,536) - Loading pickle: /private/home/yannd/projects/NPF/logs/27007948_6/27007948_6_submitted.pkl\n",
      "\n",
      "--- Training mnist/ConvNPFXL_NllLNPF_0/run_0 ---\n",
      "\n",
      "  epoch    train_loss    valid_loss    cp       dur\n",
      "-------  ------------  ------------  ----  --------\n",
      "      1     \u001b[36m-723.5968\u001b[0m    \u001b[32m-1133.2593\u001b[0m     +  264.5467\n",
      "      2    \u001b[36m-1228.5355\u001b[0m    \u001b[32m-1248.2971\u001b[0m     +  263.5872\n",
      "\n",
      "--------------------------------\n",
      "submitit INFO (2020-05-29 11:31:37,538) - Starting with JobEnvironment(job_id=27007948_7, hostname=learnfair0679, local_rank=0(1), node=0(1), global_rank=0(1))\n",
      "submitit INFO (2020-05-29 11:31:37,538) - Loading pickle: /private/home/yannd/projects/NPF/logs/27007948_7/27007948_7_submitted.pkl\n",
      "\n",
      "--- Training mnist/ConvNPFXL_NllLNPF_0.01/run_0 ---\n",
      "\n",
      "  epoch    train_loss    valid_loss    cp       dur\n",
      "-------  ------------  ------------  ----  --------\n",
      "      1     \u001b[36m-514.2454\u001b[0m     \u001b[32m-937.4288\u001b[0m     +  264.5014\n",
      "      2    \u001b[36m-1124.9932\u001b[0m    \u001b[32m-1392.8488\u001b[0m     +  263.5610\n",
      "\n",
      "--------------------------------\n",
      "submitit INFO (2020-05-29 11:31:37,538) - Starting with JobEnvironment(job_id=27007948_8, hostname=learnfair0679, local_rank=0(1), node=0(1), global_rank=0(1))\n",
      "submitit INFO (2020-05-29 11:31:37,538) - Loading pickle: /private/home/yannd/projects/NPF/logs/27007948_8/27007948_8_submitted.pkl\n",
      "\n",
      "--- Training mnist/ConvNPFXL_NllLNPF_0.1/run_0 ---\n",
      "\n",
      "  epoch    train_loss    valid_loss    cp       dur\n",
      "-------  ------------  ------------  ----  --------\n",
      "      1     \u001b[36m-690.3894\u001b[0m    \u001b[32m-1189.3365\u001b[0m     +  264.4551\n",
      "      2    \u001b[36m-1229.1535\u001b[0m    \u001b[32m-1392.1138\u001b[0m     +  263.8525\n",
      "\n",
      "--------------------------------\n",
      "submitit INFO (2020-05-29 11:31:37,538) - Starting with JobEnvironment(job_id=27007948_9, hostname=learnfair0679, local_rank=0(1), node=0(1), global_rank=0(1))\n",
      "submitit INFO (2020-05-29 11:31:37,538) - Loading pickle: /private/home/yannd/projects/NPF/logs/27007948_9/27007948_9_submitted.pkl\n",
      "\n",
      "--- Training mnist/SelfAttnNPF_NllLNPF_0/run_0 ---\n",
      "\n",
      "  epoch    train_loss    valid_loss    cp       dur\n",
      "-------  ------------  ------------  ----  --------\n",
      "      1     \u001b[36m-539.1981\u001b[0m     \u001b[32m-872.0962\u001b[0m     +  226.2249\n",
      "      2     \u001b[36m-918.4865\u001b[0m    \u001b[32m-1020.8488\u001b[0m     +  226.8362\n",
      "\n",
      "--------------------------------\n",
      "submitit INFO (2020-05-29 11:31:37,538) - Starting with JobEnvironment(job_id=27007948_10, hostname=learnfair0679, local_rank=0(1), node=0(1), global_rank=0(1))\n",
      "submitit INFO (2020-05-29 11:31:37,538) - Loading pickle: /private/home/yannd/projects/NPF/logs/27007948_10/27007948_10_submitted.pkl\n",
      "\n",
      "--- Training mnist/SelfAttnNPF_NllLNPF_0.01/run_0 ---\n",
      "\n",
      "  epoch    train_loss    valid_loss    cp       dur\n",
      "-------  ------------  ------------  ----  --------\n",
      "      1     \u001b[36m-538.8894\u001b[0m     \u001b[32m-867.8638\u001b[0m     +  226.6793\n",
      "      2     \u001b[36m-909.8030\u001b[0m    \u001b[32m-1022.7957\u001b[0m     +  227.1983\n",
      "\n",
      "--------------------------------\n",
      "submitit INFO (2020-05-29 11:31:37,538) - Starting with JobEnvironment(job_id=27007948_11, hostname=learnfair0679, local_rank=0(1), node=0(1), global_rank=0(1))\n",
      "submitit INFO (2020-05-29 11:31:37,539) - Loading pickle: /private/home/yannd/projects/NPF/logs/27007948_11/27007948_11_submitted.pkl\n",
      "\n",
      "--- Training mnist/SelfAttnNPF_NllLNPF_0.1/run_0 ---\n",
      "\n",
      "  epoch    train_loss    valid_loss    cp       dur\n",
      "-------  ------------  ------------  ----  --------\n",
      "      1     \u001b[36m-556.5894\u001b[0m     \u001b[32m-881.3823\u001b[0m     +  232.3988\n",
      "      2     \u001b[36m-906.6713\u001b[0m    \u001b[32m-1008.9363\u001b[0m     +  238.4933\n",
      "\n"
     ]
    }
   ],
   "source": [
    "for job in jobs:\n",
    "    print(\"--------------------------------\")\n",
    "    print(job.stdout())"
   ]
  },
  {
   "cell_type": "code",
   "execution_count": 11,
   "metadata": {},
   "outputs": [
    {
     "name": "stdout",
     "output_type": "stream",
     "text": [
      "--------------------------------\n",
      "INFO:utils.data.imgs:Resizing ZeroShotMultiMNIST ...\n",
      "INFO:utils.data.imgs:Resizing ZeroShotMultiMNIST ...\n",
      "submitit ERROR (2020-05-29 08:39:34,115) - Submitted job triggered an exception\n",
      "ERROR:submitit:Submitted job triggered an exception\n",
      "Traceback (most recent call last):\n",
      "  File \"/private/home/yannd/.conda/envs/neuralproc/lib/python3.7/runpy.py\", line 193, in _run_module_as_main\n",
      "    \"__main__\", mod_spec)\n",
      "  File \"/private/home/yannd/.conda/envs/neuralproc/lib/python3.7/runpy.py\", line 85, in _run_code\n",
      "    exec(code, run_globals)\n",
      "  File \"/private/home/yannd/.conda/envs/neuralproc/lib/python3.7/site-packages/submitit/_submit.py\", line 6, in <module>\n",
      "    submitit_main()\n",
      "  File \"/private/home/yannd/.conda/envs/neuralproc/lib/python3.7/site-packages/submitit/submission.py\", line 186, in submitit_main\n",
      "    process_job(args.folder)\n",
      "  File \"/private/home/yannd/.conda/envs/neuralproc/lib/python3.7/site-packages/submitit/submission.py\", line 179, in process_job\n",
      "    raise error\n",
      "  File \"/private/home/yannd/.conda/envs/neuralproc/lib/python3.7/site-packages/submitit/submission.py\", line 168, in process_job\n",
      "    result = delayed.result()\n",
      "  File \"/private/home/yannd/.conda/envs/neuralproc/lib/python3.7/site-packages/submitit/utils.py\", line 122, in result\n",
      "    self._result = self.function(*self.args, **self.kwargs)\n",
      "  File \"<ipython-input-2-14b290c95f63>\", line 15, in __call__\n",
      "  File \"/private/home/yannd/projects/NPF/train_imgs.py\", line 306, in main\n",
      "    is_reeval=args.is_reeval,\n",
      "  File \"/private/home/yannd/projects/NPF/train_imgs.py\", line 255, in train\n",
      "    **kwargs,\n",
      "  File \"/private/home/yannd/projects/NPF/utils/train.py\", line 234, in train_models\n",
      "    _ = trainer.fit(data_train)\n",
      "  File \"/private/home/yannd/.conda/envs/neuralproc/lib/python3.7/site-packages/skorch/net.py\", line 854, in fit\n",
      "    self.partial_fit(X, y, **fit_params)\n",
      "  File \"/private/home/yannd/.conda/envs/neuralproc/lib/python3.7/site-packages/skorch/net.py\", line 813, in partial_fit\n",
      "    self.fit_loop(X, y, **fit_params)\n",
      "  File \"/private/home/yannd/.conda/envs/neuralproc/lib/python3.7/site-packages/skorch/net.py\", line 727, in fit_loop\n",
      "    step_fn=self.train_step, **fit_params)\n",
      "  File \"/private/home/yannd/.conda/envs/neuralproc/lib/python3.7/site-packages/skorch/net.py\", line 763, in run_single_epoch\n",
      "    step = step_fn(Xi, yi, **fit_params)\n",
      "  File \"/private/home/yannd/.conda/envs/neuralproc/lib/python3.7/site-packages/skorch/net.py\", line 659, in train_step\n",
      "    self.optimizer_.step(step_fn)\n",
      "  File \"/private/home/yannd/.conda/envs/neuralproc/lib/python3.7/site-packages/torch/optim/adam.py\", line 58, in step\n",
      "    loss = closure()\n",
      "  File \"/private/home/yannd/.conda/envs/neuralproc/lib/python3.7/site-packages/skorch/net.py\", line 656, in step_fn\n",
      "    step = self.train_step_single(Xi, yi, **fit_params)\n",
      "  File \"/private/home/yannd/.conda/envs/neuralproc/lib/python3.7/site-packages/skorch/net.py\", line 598, in train_step_single\n",
      "    y_pred = self.infer(Xi, **fit_params)\n",
      "  File \"/private/home/yannd/.conda/envs/neuralproc/lib/python3.7/site-packages/skorch/net.py\", line 998, in infer\n",
      "    return self.module_(**x_dict)\n",
      "  File \"/private/home/yannd/.conda/envs/neuralproc/lib/python3.7/site-packages/torch/nn/modules/module.py\", line 532, in __call__\n",
      "    result = self.forward(*input, **kwargs)\n",
      "  File \"/private/home/yannd/projects/NPF/neuralproc/neuralproc/base.py\", line 484, in forward\n",
      "    return super().forward(*args, **kwargs)\n",
      "  File \"/private/home/yannd/projects/NPF/neuralproc/neuralproc/base.py\", line 226, in forward\n",
      "    z_samples, q_zCc, q_zCct = self.latent_path(X_cntxt, R, X_trgt, Y_trgt)\n",
      "  File \"/private/home/yannd/projects/NPF/neuralproc/neuralproc/base.py\", line 493, in latent_path\n",
      "    q_zCc = self.infer_latent_dist(X_cntxt, R)\n",
      "  File \"/private/home/yannd/projects/NPF/neuralproc/neuralproc/base.py\", line 537, in infer_latent_dist\n",
      "    q_z_scale = self.q_z_scale_transformer(q_z_scale)\n",
      "  File \"/private/home/yannd/projects/NPF/train_imgs.py\", line 150, in <lambda>\n",
      "    ) * torch.softplus(z_scale)\n",
      "AttributeError: module 'torch' has no attribute 'softplus'\n",
      "srun: error: learnfair0801: task 0: Exited with exit code 1\n",
      "srun: Terminating job step 27001328.0\n",
      "\n",
      "--------------------------------\n",
      "None\n",
      "--------------------------------\n",
      "None\n",
      "--------------------------------\n",
      "None\n",
      "--------------------------------\n",
      "None\n",
      "--------------------------------\n",
      "None\n",
      "--------------------------------\n",
      "None\n",
      "--------------------------------\n",
      "None\n",
      "--------------------------------\n",
      "None\n",
      "--------------------------------\n",
      "None\n",
      "--------------------------------\n",
      "None\n",
      "--------------------------------\n",
      "None\n",
      "--------------------------------\n",
      "None\n",
      "--------------------------------\n",
      "None\n",
      "--------------------------------\n",
      "None\n",
      "--------------------------------\n",
      "None\n"
     ]
    }
   ],
   "source": [
    "for j in jobs:\n",
    "    print(\"--------------------------------\")\n",
    "    print(j.stderr())"
   ]
  },
  {
   "cell_type": "code",
   "execution_count": 10,
   "metadata": {},
   "outputs": [],
   "source": [
    "for j in jobs:\n",
    "    j.cancel()"
   ]
  },
  {
   "cell_type": "code",
   "execution_count": null,
   "metadata": {},
   "outputs": [],
   "source": []
  }
 ],
 "metadata": {
  "kernelspec": {
   "display_name": "Python 3",
   "language": "python",
   "name": "python3"
  },
  "language_info": {
   "codemirror_mode": {
    "name": "ipython",
    "version": 3
   },
   "file_extension": ".py",
   "mimetype": "text/x-python",
   "name": "python",
   "nbconvert_exporter": "python",
   "pygments_lexer": "ipython3",
   "version": "3.7.6"
  },
  "toc": {
   "base_numbering": 1,
   "nav_menu": {},
   "number_sections": true,
   "sideBar": true,
   "skip_h1_title": true,
   "title_cell": "Table of Contents",
   "title_sidebar": "Contents",
   "toc_cell": true,
   "toc_position": {},
   "toc_section_display": true,
   "toc_window_display": false
  }
 },
 "nbformat": 4,
 "nbformat_minor": 4
}
