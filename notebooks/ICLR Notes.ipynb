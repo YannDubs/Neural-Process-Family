{
 "cells": [
  {
   "cell_type": "markdown",
   "metadata": {
    "toc": true
   },
   "source": [
    "<h1>Table of Contents<span class=\"tocSkip\"></span></h1>\n",
    "<div class=\"toc\"><ul class=\"toc-item\"><li><span><a href=\"#Preparations\" data-toc-modified-id=\"Preparations-1\"><span class=\"toc-item-num\">1&nbsp;&nbsp;</span>Preparations</a></span><ul class=\"toc-item\"><li><span><a href=\"#Dataset\" data-toc-modified-id=\"Dataset-1.1\"><span class=\"toc-item-num\">1.1&nbsp;&nbsp;</span>Dataset</a></span></li><li><span><a href=\"#Models\" data-toc-modified-id=\"Models-1.2\"><span class=\"toc-item-num\">1.2&nbsp;&nbsp;</span>Models</a></span></li><li><span><a href=\"#Loading-Pretrained\" data-toc-modified-id=\"Loading-Pretrained-1.3\"><span class=\"toc-item-num\">1.3&nbsp;&nbsp;</span>Loading Pretrained</a></span></li></ul></li><li><span><a href=\"#Understanding-the-first-Layer\" data-toc-modified-id=\"Understanding-the-first-Layer-2\"><span class=\"toc-item-num\">2&nbsp;&nbsp;</span>Understanding the first Layer</a></span></li><li><span><a href=\"#Loosing-Translation-Equivariance-with-Large-Receptive-Field\" data-toc-modified-id=\"Loosing-Translation-Equivariance-with-Large-Receptive-Field-3\"><span class=\"toc-item-num\">3&nbsp;&nbsp;</span>Loosing Translation Equivariance with Large Receptive Field</a></span></li><li><span><a href=\"#Training\" data-toc-modified-id=\"Training-4\"><span class=\"toc-item-num\">4&nbsp;&nbsp;</span>Training</a></span></li><li><span><a href=\"#Missing-at-Random\" data-toc-modified-id=\"Missing-at-Random-5\"><span class=\"toc-item-num\">5&nbsp;&nbsp;</span>Missing at Random</a></span></li><li><span><a href=\"#Structured-Missing\" data-toc-modified-id=\"Structured-Missing-6\"><span class=\"toc-item-num\">6&nbsp;&nbsp;</span>Structured Missing</a></span><ul class=\"toc-item\"><li><span><a href=\"#Horizontal-Half-Mask\" data-toc-modified-id=\"Horizontal-Half-Mask-6.1\"><span class=\"toc-item-num\">6.1&nbsp;&nbsp;</span>Horizontal Half Mask</a></span></li><li><span><a href=\"#Vertical-Half-Mask\" data-toc-modified-id=\"Vertical-Half-Mask-6.2\"><span class=\"toc-item-num\">6.2&nbsp;&nbsp;</span>Vertical Half Mask</a></span></li></ul></li><li><span><a href=\"#Oneshot-Prediction\" data-toc-modified-id=\"Oneshot-Prediction-7\"><span class=\"toc-item-num\">7&nbsp;&nbsp;</span>Oneshot Prediction</a></span></li><li><span><a href=\"#Autoregressive-Prediction\" data-toc-modified-id=\"Autoregressive-Prediction-8\"><span class=\"toc-item-num\">8&nbsp;&nbsp;</span>Autoregressive Prediction</a></span></li></ul></div>"
   ]
  },
  {
   "cell_type": "markdown",
   "metadata": {},
   "source": [
    "# ICLR Notes"
   ]
  },
  {
   "cell_type": "code",
   "execution_count": 1,
   "metadata": {},
   "outputs": [],
   "source": [
    "N_THREADS = 8\n",
    "# Nota Bene : notebooks don't deallocate GPU memory\n",
    "IS_FORCE_CPU = True # can also be set in the trainer"
   ]
  },
  {
   "cell_type": "markdown",
   "metadata": {},
   "source": [
    "## Preparations"
   ]
  },
  {
   "cell_type": "code",
   "execution_count": 2,
   "metadata": {
    "scrolled": true
   },
   "outputs": [
    {
     "name": "stdout",
     "output_type": "stream",
     "text": [
      "/private/home/yannd/projects/Neural-Process-Family\n"
     ]
    }
   ],
   "source": [
    "cd .."
   ]
  },
  {
   "cell_type": "code",
   "execution_count": 3,
   "metadata": {},
   "outputs": [
    {
     "data": {
      "application/javascript": [
       "IPython.notebook.set_autosave_interval(600000)"
      ]
     },
     "metadata": {},
     "output_type": "display_data"
    },
    {
     "name": "stdout",
     "output_type": "stream",
     "text": [
      "Autosaving every 600 seconds\n"
     ]
    },
    {
     "data": {
      "text/html": [
       " <style> .output_png {display: table-cell; text-align: center; margin:auto; }\n",
       ".prompt display:none;}  </style>"
      ],
      "text/plain": [
       "<IPython.core.display.HTML object>"
      ]
     },
     "metadata": {},
     "output_type": "display_data"
    }
   ],
   "source": [
    "%autosave 600\n",
    "%matplotlib inline\n",
    "%config InlineBackend.figure_format = 'retina'\n",
    "\n",
    "# CENTER PLOTS\n",
    "from IPython.core.display import HTML\n",
    "display(HTML(\"\"\" <style> .output_png {display: table-cell; text-align: center; margin:auto; }\n",
    ".prompt display:none;}  </style>\"\"\"))\n",
    "\n",
    "import os\n",
    "if IS_FORCE_CPU:\n",
    "    os.environ['CUDA_VISIBLE_DEVICES'] = \"\"\n",
    "    \n",
    "import sys\n",
    "sys.path.append(\"notebooks\")\n",
    "\n",
    "import numpy as np\n",
    "import matplotlib.pyplot as plt\n",
    "import torch\n",
    "torch.set_num_threads(N_THREADS)"
   ]
  },
  {
   "cell_type": "markdown",
   "metadata": {},
   "source": [
    "### Dataset "
   ]
  },
  {
   "cell_type": "code",
   "execution_count": 10,
   "metadata": {},
   "outputs": [],
   "source": [
    "from utils.data import get_dataset\n",
    "from utils.data.helpers import train_dev_split\n",
    "from utils.visualize import plot_dataset_samples_imgs, plot_losses #, plot_posterior_samples_imgs"
   ]
  },
  {
   "cell_type": "code",
   "execution_count": 11,
   "metadata": {},
   "outputs": [],
   "source": [
    "_= get_dataset(\"celeba\")()"
   ]
  },
  {
   "cell_type": "code",
   "execution_count": 37,
   "metadata": {},
   "outputs": [
    {
     "data": {
      "text/plain": [
       "10000"
      ]
     },
     "execution_count": 37,
     "metadata": {},
     "output_type": "execute_result"
    }
   ],
   "source": [
    "len(zs_mmnist_test)"
   ]
  },
  {
   "cell_type": "code",
   "execution_count": 12,
   "metadata": {
    "scrolled": false
   },
   "outputs": [
    {
     "name": "stdout",
     "output_type": "stream",
     "text": [
      "Using downloaded and verified file: /private/home/yannd/projects/Neural-Process-Family/utils/data/../../data/train_32x32.mat\n",
      "Using downloaded and verified file: /private/home/yannd/projects/Neural-Process-Family/utils/data/../../data/test_32x32.mat\n"
     ]
    },
    {
     "name": "stderr",
     "output_type": "stream",
     "text": [
      "INFO:utils.data.imgs:Resizing ZeroShotMultiMNIST ...\n",
      "INFO:utils.data.imgs:Resizing ZeroShotMultiMNIST ...\n"
     ]
    }
   ],
   "source": [
    "celeba32_train, celeba32_test = train_dev_split(get_dataset(\"celeba32\")(), dev_size=0.1, is_stratify=False)\n",
    "celeba64_train, celeba64_test = train_dev_split(get_dataset(\"celeba64\")(), dev_size=0.1, is_stratify=False)\n",
    "svhn_train, svhn_test = get_dataset(\"svhn\")(split=\"train\"), get_dataset(\"svhn\")(split=\"test\")\n",
    "mnist_train, mnist_test = get_dataset(\"mnist\")(split=\"train\"), get_dataset(\"mnist\")(split=\"test\")\n",
    "zs_mmnist_train, zs_mmnist_test = get_dataset(\"zs-multi-mnist\")(split=\"train\"), get_dataset(\"zs-multi-mnist\")(split=\"test\")\n",
    "\n",
    "# celeba64 not fully trained yet\n",
    "train_datasets_32 = {\"mnist\":mnist_train, \"celeba32\":celeba32_train}\n",
    "test_datasets_32 = {\"mnist\":mnist_test, \"celeba32\":celeba32_test}\n",
    "train_datasets_64 = {\"celeba64\":celeba64_train, \"zs-multi-mnist\":zs_mmnist_train}\n",
    "test_datasets_64 = {\"celeba64\":celeba64_train, \"zs-multi-mnist\":zs_mmnist_test}"
   ]
  },
  {
   "cell_type": "code",
   "execution_count": 13,
   "metadata": {},
   "outputs": [],
   "source": [
    "from neuralproc.utils.datasplit import GridCntxtTrgtGetter, RandomMasker, no_masker, half_masker\n",
    "\n",
    "# same as in previous tutorials but uses masks rather than indices\n",
    "get_cntxt_trgt = GridCntxtTrgtGetter(context_masker=RandomMasker(min_nnz=0.01, max_nnz=0.5),\n",
    "                                      target_masker=no_masker,\n",
    "                                      is_add_cntxts_to_trgts=False)"
   ]
  },
  {
   "cell_type": "markdown",
   "metadata": {},
   "source": [
    "### Models"
   ]
  },
  {
   "cell_type": "code",
   "execution_count": 14,
   "metadata": {},
   "outputs": [],
   "source": [
    "X_DIM = 2  # 2D spatial input "
   ]
  },
  {
   "cell_type": "code",
   "execution_count": 15,
   "metadata": {},
   "outputs": [],
   "source": [
    "from functools import partial\n",
    "from neuralproc import RegularGridsConvolutionalProcess, AttentiveNeuralProcess, NeuralProcessLoss, ConvolutionalProcess\n",
    "from neuralproc.predefined import UnetCNN, CNN, SelfAttention, MLP, ResConvBlock\n",
    "from neuralproc import merge_flat_input"
   ]
  },
  {
   "cell_type": "code",
   "execution_count": 33,
   "metadata": {},
   "outputs": [],
   "source": [
    "from train_imgs import get_model\n",
    "\n",
    "models_grided = {}\n",
    "models_grided[\"GridedCCP\"] = get_model(\"GridedCCP\", n_blocks=7, kernel_size=11, init_kernel_size=11, img_shape=(64,64))\n"
   ]
  },
  {
   "cell_type": "code",
   "execution_count": 35,
   "metadata": {},
   "outputs": [
    {
     "data": {
      "text/plain": [
       "407927"
      ]
     },
     "execution_count": 35,
     "metadata": {},
     "output_type": "execute_result"
    }
   ],
   "source": [
    "from utils.helpers import count_parameters\n",
    "\n",
    "count_parameters(models_grided[\"GridedCCP\"](y_dim=3))"
   ]
  },
  {
   "cell_type": "code",
   "execution_count": 91,
   "metadata": {},
   "outputs": [],
   "source": [
    "def add_y_dim(models, datasets):\n",
    "    \"\"\"Add y _dim to all ofthe models depending on the dataset.\"\"\"\n",
    "    return {data_name: {model_name: partial(model, y_dim=data_train.shape[0]) \n",
    "                        for model_name, model in models.items()} \n",
    "            for data_name, data_train in datasets.items()}"
   ]
  },
  {
   "cell_type": "markdown",
   "metadata": {},
   "source": [
    "### Loading Pretrained"
   ]
  },
  {
   "cell_type": "code",
   "execution_count": 92,
   "metadata": {},
   "outputs": [
    {
     "name": "stdout",
     "output_type": "stream",
     "text": [
      "\n",
      "--- Loading celeba64/GridedCCP/run_0 ---\n",
      "\n",
      "celeba64/GridedCCP/run_0 | best epoch: 31 | train loss: -3.6639 | valid loss: -3.7307 | test log likelihood: None\n",
      "\n",
      "--- Loading celeba64/GridedCCP_large/run_0 ---\n",
      "\n"
     ]
    },
    {
     "ename": "FileNotFoundError",
     "evalue": "[Errno 2] No such file or directory: 'results/iclr_imgs/celeba64/GridedCCP_large/run_0/history.json'",
     "output_type": "error",
     "traceback": [
      "\u001b[0;31m---------------------------------------------------------------------------\u001b[0m",
      "\u001b[0;31mFileNotFoundError\u001b[0m                         Traceback (most recent call last)",
      "\u001b[0;32m<ipython-input-92-dca3e5367e24>\u001b[0m in \u001b[0;36m<module>\u001b[0;34m\u001b[0m\n\u001b[1;32m     16\u001b[0m                                  \u001b[0madd_y_dim\u001b[0m\u001b[0;34m(\u001b[0m\u001b[0mmodels_grided_64\u001b[0m\u001b[0;34m,\u001b[0m \u001b[0mtrain_datasets_64\u001b[0m\u001b[0;34m)\u001b[0m\u001b[0;34m,\u001b[0m\u001b[0;34m\u001b[0m\u001b[0;34m\u001b[0m\u001b[0m\n\u001b[1;32m     17\u001b[0m                                  \u001b[0mNeuralProcessLoss\u001b[0m\u001b[0;34m,\u001b[0m\u001b[0;34m\u001b[0m\u001b[0;34m\u001b[0m\u001b[0m\n\u001b[0;32m---> 18\u001b[0;31m                                  **kwargs) \n\u001b[0m\u001b[1;32m     19\u001b[0m \u001b[0;34m\u001b[0m\u001b[0m\n\u001b[1;32m     20\u001b[0m trainers_grided_32 = train_models(train_datasets_32, \n",
      "\u001b[0;32m~/projects/Neural-Process-Family/utils/train.py\u001b[0m in \u001b[0;36mtrain_models\u001b[0;34m(datasets, models, criterion, test_datasets, chckpnt_dirname, is_continue_train, is_retrain, runs, starting_run, train_split, device, max_epochs, batch_size, lr, optimizer, callbacks, patience, seed, datasets_kwargs, models_kwargs, **kwargs)\u001b[0m\n\u001b[1;32m    220\u001b[0m                 \u001b[0;31m# load in all case => even when training loads the best checkpoint\u001b[0m\u001b[0;34m\u001b[0m\u001b[0;34m\u001b[0m\u001b[0;34m\u001b[0m\u001b[0m\n\u001b[1;32m    221\u001b[0m                 \u001b[0mtrainer\u001b[0m\u001b[0;34m.\u001b[0m\u001b[0minitialize\u001b[0m\u001b[0;34m(\u001b[0m\u001b[0;34m)\u001b[0m\u001b[0;34m\u001b[0m\u001b[0;34m\u001b[0m\u001b[0m\n\u001b[0;32m--> 222\u001b[0;31m                 \u001b[0mtrainer\u001b[0m\u001b[0;34m.\u001b[0m\u001b[0mload_params\u001b[0m\u001b[0;34m(\u001b[0m\u001b[0mcheckpoint\u001b[0m\u001b[0;34m=\u001b[0m\u001b[0mchckpt\u001b[0m\u001b[0;34m)\u001b[0m\u001b[0;34m\u001b[0m\u001b[0;34m\u001b[0m\u001b[0m\n\u001b[0m\u001b[1;32m    223\u001b[0m \u001b[0;34m\u001b[0m\u001b[0m\n\u001b[1;32m    224\u001b[0m                 \u001b[0;31m# return the training rather than testing history as dflt\u001b[0m\u001b[0;34m\u001b[0m\u001b[0;34m\u001b[0m\u001b[0;34m\u001b[0m\u001b[0m\n",
      "\u001b[0;32m~/.conda/envs/neuralproc/lib/python3.7/site-packages/skorch/net.py\u001b[0m in \u001b[0;36mload_params\u001b[0;34m(self, f_params, f_optimizer, f_history, checkpoint)\u001b[0m\n\u001b[1;32m   1552\u001b[0m         \u001b[0;32mif\u001b[0m \u001b[0mcheckpoint\u001b[0m \u001b[0;32mis\u001b[0m \u001b[0;32mnot\u001b[0m \u001b[0;32mNone\u001b[0m\u001b[0;34m:\u001b[0m\u001b[0;34m\u001b[0m\u001b[0;34m\u001b[0m\u001b[0m\n\u001b[1;32m   1553\u001b[0m             \u001b[0;32mif\u001b[0m \u001b[0mf_history\u001b[0m \u001b[0;32mis\u001b[0m \u001b[0;32mNone\u001b[0m \u001b[0;32mand\u001b[0m \u001b[0mcheckpoint\u001b[0m\u001b[0;34m.\u001b[0m\u001b[0mf_history\u001b[0m \u001b[0;32mis\u001b[0m \u001b[0;32mnot\u001b[0m \u001b[0;32mNone\u001b[0m\u001b[0;34m:\u001b[0m\u001b[0;34m\u001b[0m\u001b[0;34m\u001b[0m\u001b[0m\n\u001b[0;32m-> 1554\u001b[0;31m                 \u001b[0mself\u001b[0m\u001b[0;34m.\u001b[0m\u001b[0mhistory\u001b[0m \u001b[0;34m=\u001b[0m \u001b[0mHistory\u001b[0m\u001b[0;34m.\u001b[0m\u001b[0mfrom_file\u001b[0m\u001b[0;34m(\u001b[0m\u001b[0mcheckpoint\u001b[0m\u001b[0;34m.\u001b[0m\u001b[0mf_history_\u001b[0m\u001b[0;34m)\u001b[0m\u001b[0;34m\u001b[0m\u001b[0;34m\u001b[0m\u001b[0m\n\u001b[0m\u001b[1;32m   1555\u001b[0m             \u001b[0mformatted_files\u001b[0m \u001b[0;34m=\u001b[0m \u001b[0mcheckpoint\u001b[0m\u001b[0;34m.\u001b[0m\u001b[0mget_formatted_files\u001b[0m\u001b[0;34m(\u001b[0m\u001b[0mself\u001b[0m\u001b[0;34m)\u001b[0m\u001b[0;34m\u001b[0m\u001b[0;34m\u001b[0m\u001b[0m\n\u001b[1;32m   1556\u001b[0m             \u001b[0mf_params\u001b[0m \u001b[0;34m=\u001b[0m \u001b[0mf_params\u001b[0m \u001b[0;32mor\u001b[0m \u001b[0mformatted_files\u001b[0m\u001b[0;34m[\u001b[0m\u001b[0;34m'f_params'\u001b[0m\u001b[0;34m]\u001b[0m\u001b[0;34m\u001b[0m\u001b[0;34m\u001b[0m\u001b[0m\n",
      "\u001b[0;32m~/.conda/envs/neuralproc/lib/python3.7/site-packages/skorch/history.py\u001b[0m in \u001b[0;36mfrom_file\u001b[0;34m(cls, f)\u001b[0m\n\u001b[1;32m    160\u001b[0m         \"\"\"\n\u001b[1;32m    161\u001b[0m \u001b[0;34m\u001b[0m\u001b[0m\n\u001b[0;32m--> 162\u001b[0;31m         \u001b[0;32mwith\u001b[0m \u001b[0mopen_file_like\u001b[0m\u001b[0;34m(\u001b[0m\u001b[0mf\u001b[0m\u001b[0;34m,\u001b[0m \u001b[0;34m'r'\u001b[0m\u001b[0;34m)\u001b[0m \u001b[0;32mas\u001b[0m \u001b[0mfp\u001b[0m\u001b[0;34m:\u001b[0m\u001b[0;34m\u001b[0m\u001b[0;34m\u001b[0m\u001b[0m\n\u001b[0m\u001b[1;32m    163\u001b[0m             \u001b[0;32mreturn\u001b[0m \u001b[0mcls\u001b[0m\u001b[0;34m(\u001b[0m\u001b[0mjson\u001b[0m\u001b[0;34m.\u001b[0m\u001b[0mload\u001b[0m\u001b[0;34m(\u001b[0m\u001b[0mfp\u001b[0m\u001b[0;34m)\u001b[0m\u001b[0;34m)\u001b[0m\u001b[0;34m\u001b[0m\u001b[0;34m\u001b[0m\u001b[0m\n\u001b[1;32m    164\u001b[0m \u001b[0;34m\u001b[0m\u001b[0m\n",
      "\u001b[0;32m~/.conda/envs/neuralproc/lib/python3.7/contextlib.py\u001b[0m in \u001b[0;36m__enter__\u001b[0;34m(self)\u001b[0m\n\u001b[1;32m    110\u001b[0m         \u001b[0;32mdel\u001b[0m \u001b[0mself\u001b[0m\u001b[0;34m.\u001b[0m\u001b[0margs\u001b[0m\u001b[0;34m,\u001b[0m \u001b[0mself\u001b[0m\u001b[0;34m.\u001b[0m\u001b[0mkwds\u001b[0m\u001b[0;34m,\u001b[0m \u001b[0mself\u001b[0m\u001b[0;34m.\u001b[0m\u001b[0mfunc\u001b[0m\u001b[0;34m\u001b[0m\u001b[0;34m\u001b[0m\u001b[0m\n\u001b[1;32m    111\u001b[0m         \u001b[0;32mtry\u001b[0m\u001b[0;34m:\u001b[0m\u001b[0;34m\u001b[0m\u001b[0;34m\u001b[0m\u001b[0m\n\u001b[0;32m--> 112\u001b[0;31m             \u001b[0;32mreturn\u001b[0m \u001b[0mnext\u001b[0m\u001b[0;34m(\u001b[0m\u001b[0mself\u001b[0m\u001b[0;34m.\u001b[0m\u001b[0mgen\u001b[0m\u001b[0;34m)\u001b[0m\u001b[0;34m\u001b[0m\u001b[0;34m\u001b[0m\u001b[0m\n\u001b[0m\u001b[1;32m    113\u001b[0m         \u001b[0;32mexcept\u001b[0m \u001b[0mStopIteration\u001b[0m\u001b[0;34m:\u001b[0m\u001b[0;34m\u001b[0m\u001b[0;34m\u001b[0m\u001b[0m\n\u001b[1;32m    114\u001b[0m             \u001b[0;32mraise\u001b[0m \u001b[0mRuntimeError\u001b[0m\u001b[0;34m(\u001b[0m\u001b[0;34m\"generator didn't yield\"\u001b[0m\u001b[0;34m)\u001b[0m \u001b[0;32mfrom\u001b[0m \u001b[0;32mNone\u001b[0m\u001b[0;34m\u001b[0m\u001b[0;34m\u001b[0m\u001b[0m\n",
      "\u001b[0;32m~/.conda/envs/neuralproc/lib/python3.7/site-packages/skorch/utils.py\u001b[0m in \u001b[0;36mopen_file_like\u001b[0;34m(f, mode)\u001b[0m\n\u001b[1;32m    397\u001b[0m     \u001b[0mnew_fd\u001b[0m \u001b[0;34m=\u001b[0m \u001b[0misinstance\u001b[0m\u001b[0;34m(\u001b[0m\u001b[0mf\u001b[0m\u001b[0;34m,\u001b[0m \u001b[0;34m(\u001b[0m\u001b[0mstr\u001b[0m\u001b[0;34m,\u001b[0m \u001b[0mpathlib\u001b[0m\u001b[0;34m.\u001b[0m\u001b[0mPath\u001b[0m\u001b[0;34m)\u001b[0m\u001b[0;34m)\u001b[0m\u001b[0;34m\u001b[0m\u001b[0;34m\u001b[0m\u001b[0m\n\u001b[1;32m    398\u001b[0m     \u001b[0;32mif\u001b[0m \u001b[0mnew_fd\u001b[0m\u001b[0;34m:\u001b[0m\u001b[0;34m\u001b[0m\u001b[0;34m\u001b[0m\u001b[0m\n\u001b[0;32m--> 399\u001b[0;31m         \u001b[0mf\u001b[0m \u001b[0;34m=\u001b[0m \u001b[0mopen\u001b[0m\u001b[0;34m(\u001b[0m\u001b[0mf\u001b[0m\u001b[0;34m,\u001b[0m \u001b[0mmode\u001b[0m\u001b[0;34m)\u001b[0m\u001b[0;34m\u001b[0m\u001b[0;34m\u001b[0m\u001b[0m\n\u001b[0m\u001b[1;32m    400\u001b[0m     \u001b[0;32mtry\u001b[0m\u001b[0;34m:\u001b[0m\u001b[0;34m\u001b[0m\u001b[0;34m\u001b[0m\u001b[0m\n\u001b[1;32m    401\u001b[0m         \u001b[0;32myield\u001b[0m \u001b[0mf\u001b[0m\u001b[0;34m\u001b[0m\u001b[0;34m\u001b[0m\u001b[0m\n",
      "\u001b[0;31mFileNotFoundError\u001b[0m: [Errno 2] No such file or directory: 'results/iclr_imgs/celeba64/GridedCCP_large/run_0/history.json'"
     ]
    }
   ],
   "source": [
    "from neuralproc import NeuralProcessLoss\n",
    "from utils.train import train_models\n",
    "from utils.data import cntxt_trgt_collate\n",
    "import skorch\n",
    "\n",
    "kwargs = dict(chckpnt_dirname=\"results/iclr_imgs/\", \n",
    "             is_retrain=False, \n",
    "             train_split=skorch.dataset.CVSplit(0.1), # use 10% of data for validation \n",
    "             iterator_train__collate_fn=cntxt_trgt_collate(get_cntxt_trgt), \n",
    "             iterator_valid__collate_fn=cntxt_trgt_collate(get_cntxt_trgt),\n",
    "             patience=10,\n",
    "             batch_size=16,\n",
    "             seed=123)\n",
    "\n",
    "trainers_grided_64 = train_models(train_datasets_64, \n",
    "                                 add_y_dim(models_grided_64, train_datasets_64),\n",
    "                                 NeuralProcessLoss,\n",
    "                                 **kwargs) \n",
    "\n",
    "trainers_grided_32 = train_models(train_datasets_32, \n",
    "                                 add_y_dim(models_grided_32, train_datasets_32),\n",
    "                                 NeuralProcessLoss,\n",
    "                                 **kwargs) "
   ]
  },
  {
   "cell_type": "markdown",
   "metadata": {},
   "source": [
    "## Understanding the first Layer"
   ]
  },
  {
   "cell_type": "code",
   "execution_count": 26,
   "metadata": {},
   "outputs": [
    {
     "data": {
      "text/plain": [
       "CNN(\n",
       "  (conv_blocks): ModuleList(\n",
       "    (0): ResConvBlock(\n",
       "      (activation): ReLU()\n",
       "      (norm1): Identity()\n",
       "      (conv1): DepthSepConv(\n",
       "        (depthwise): Conv2d(128, 128, kernel_size=(5, 5), stride=(1, 1), padding=(2, 2), groups=128)\n",
       "        (pointwise): Conv2d(128, 128, kernel_size=(1, 1), stride=(1, 1))\n",
       "      )\n",
       "      (norm2): Identity()\n",
       "      (conv2_depthwise): Conv2d(128, 128, kernel_size=(5, 5), stride=(1, 1), padding=(2, 2), groups=128)\n",
       "      (conv2_pointwise): Conv2d(128, 128, kernel_size=(1, 1), stride=(1, 1))\n",
       "    )\n",
       "    (1): ResConvBlock(\n",
       "      (activation): ReLU()\n",
       "      (norm1): Identity()\n",
       "      (conv1): DepthSepConv(\n",
       "        (depthwise): Conv2d(128, 128, kernel_size=(5, 5), stride=(1, 1), padding=(2, 2), groups=128)\n",
       "        (pointwise): Conv2d(128, 128, kernel_size=(1, 1), stride=(1, 1))\n",
       "      )\n",
       "      (norm2): Identity()\n",
       "      (conv2_depthwise): Conv2d(128, 128, kernel_size=(5, 5), stride=(1, 1), padding=(2, 2), groups=128)\n",
       "      (conv2_pointwise): Conv2d(128, 128, kernel_size=(1, 1), stride=(1, 1))\n",
       "    )\n",
       "    (2): ResConvBlock(\n",
       "      (activation): ReLU()\n",
       "      (norm1): Identity()\n",
       "      (conv1): DepthSepConv(\n",
       "        (depthwise): Conv2d(128, 128, kernel_size=(5, 5), stride=(1, 1), padding=(2, 2), groups=128)\n",
       "        (pointwise): Conv2d(128, 128, kernel_size=(1, 1), stride=(1, 1))\n",
       "      )\n",
       "      (norm2): Identity()\n",
       "      (conv2_depthwise): Conv2d(128, 128, kernel_size=(5, 5), stride=(1, 1), padding=(2, 2), groups=128)\n",
       "      (conv2_pointwise): Conv2d(128, 128, kernel_size=(1, 1), stride=(1, 1))\n",
       "    )\n",
       "    (3): ResConvBlock(\n",
       "      (activation): ReLU()\n",
       "      (norm1): Identity()\n",
       "      (conv1): DepthSepConv(\n",
       "        (depthwise): Conv2d(128, 128, kernel_size=(5, 5), stride=(1, 1), padding=(2, 2), groups=128)\n",
       "        (pointwise): Conv2d(128, 128, kernel_size=(1, 1), stride=(1, 1))\n",
       "      )\n",
       "      (norm2): Identity()\n",
       "      (conv2_depthwise): Conv2d(128, 128, kernel_size=(5, 5), stride=(1, 1), padding=(2, 2), groups=128)\n",
       "      (conv2_pointwise): Conv2d(128, 128, kernel_size=(1, 1), stride=(1, 1))\n",
       "    )\n",
       "  )\n",
       ")"
      ]
     },
     "execution_count": 26,
     "metadata": {},
     "output_type": "execute_result"
    }
   ],
   "source": [
    "trainers_grided_64['celeba64/GridedCCP/run_0'].module_.pseudo_transformer"
   ]
  },
  {
   "cell_type": "code",
   "execution_count": 44,
   "metadata": {},
   "outputs": [],
   "source": [
    "avg_weights_celeba64 = trainers_grided_64['celeba64/GridedCCP/run_0'].module_.conv.weight.squeeze().mean(0).abs()"
   ]
  },
  {
   "cell_type": "code",
   "execution_count": 53,
   "metadata": {},
   "outputs": [
    {
     "data": {
      "text/plain": [
       "torch.Size([1, 1, 7, 7])"
      ]
     },
     "execution_count": 53,
     "metadata": {},
     "output_type": "execute_result"
    }
   ],
   "source": [
    "trainers_grided['{}/GridedCCP/run_0'.format(d)].module_.conv.weight.shape"
   ]
  },
  {
   "cell_type": "code",
   "execution_count": 85,
   "metadata": {},
   "outputs": [
    {
     "data": {
      "text/plain": [
       "<matplotlib.colorbar.Colorbar at 0x7f6483fa7c50>"
      ]
     },
     "execution_count": 85,
     "metadata": {},
     "output_type": "execute_result"
    },
    {
     "data": {
      "image/png": "[encoded data removed]",
      "text/plain": [
       "<Figure size 1008x648 with 5 Axes>"
      ]
     },
     "metadata": {
      "image/png": {
       "height": 328,
       "width": 809
      },
      "needs_background": "light"
     },
     "output_type": "display_data"
    }
   ],
   "source": [
    "trainers_grided = trainers_grided_64.copy()\n",
    "trainers_grided.update(trainers_grided_32)\n",
    "\n",
    "dataset = [\"mnist\", \"celeba32\", \"celeba64\", \"zs-multi-mnist\"]\n",
    "fig, axes = plt.subplots(1,len(dataset), figsize=(14,9))\n",
    "\n",
    "for i, d in enumerate(dataset):\n",
    "    # use abs because I force positive weights in my implementation\n",
    "    weights_layer_1 = trainers_grided['{}/GridedCCP/run_0'.format(d)].module_.conv.weight.squeeze(1).mean(0).abs()\n",
    "    im = axes[i].imshow(weights_layer_1.detach().numpy())\n",
    "    axes[i].set_title(d)\n",
    "    \n",
    "\n",
    "fig.colorbar(im,  orientation=\"horizontal\", ax=axes.ravel().tolist())"
   ]
  },
  {
   "cell_type": "code",
   "execution_count": 89,
   "metadata": {},
   "outputs": [
    {
     "data": {
      "text/plain": [
       "<matplotlib.colorbar.Colorbar at 0x7f648380e790>"
      ]
     },
     "execution_count": 89,
     "metadata": {},
     "output_type": "execute_result"
    },
    {
     "data": {
      "image/png": "[encoded data removed]",
      "text/plain": [
       "<Figure size 648x1008 with 7 Axes>"
      ]
     },
     "metadata": {
      "image/png": {
       "height": 887,
       "width": 629
      },
      "needs_background": "light"
     },
     "output_type": "display_data"
    }
   ],
   "source": [
    "trainers_grided = trainers_grided_64.copy()\n",
    "trainers_grided.update(trainers_grided_32)\n",
    "\n",
    "dataset = [\"celeba32\", \"celeba64\"]\n",
    "fig, axes = plt.subplots(3,len(dataset), figsize=(9,14))\n",
    "\n",
    "for i, d in enumerate(dataset):\n",
    "    # use abs because I force positive weights in my implementation\n",
    "    weights_layer_1 = trainers_grided['{}/GridedCCP/run_0'.format(d)].module_.conv.weight.squeeze(1).abs()\n",
    "    im = axes[0,i].imshow(weights_layer_1[0,...].detach().numpy())\n",
    "    im = axes[1,i].imshow(weights_layer_1[1,...].detach().numpy())\n",
    "    im = axes[2,i].imshow(weights_layer_1[2,...].detach().numpy())\n",
    "    axes[0,i].set_title(d + \" channel 1\")\n",
    "    axes[1,i].set_title(d + \" channel 2\")\n",
    "    axes[2,i].set_title(d + \" channel 3\")\n",
    "    \n",
    "fig.tight_layout()\n",
    "fig.colorbar(im,  orientation=\"horizontal\", ax=axes.ravel().tolist())"
   ]
  },
  {
   "cell_type": "markdown",
   "metadata": {},
   "source": [
    "## Loosing Translation Equivariance with Large Receptive Field\n",
    "\n",
    "When using a large receptuve field in our datasets, the mdoel is able to learn to not be translation equivariant."
   ]
  },
  {
   "cell_type": "code",
   "execution_count": null,
   "metadata": {},
   "outputs": [],
   "source": []
  },
  {
   "cell_type": "code",
   "execution_count": null,
   "metadata": {},
   "outputs": [],
   "source": []
  },
  {
   "cell_type": "markdown",
   "metadata": {},
   "source": [
    "## Training\n",
    "\n",
    "The training procedure is the same as in [Tutorial 1 - Conditional Neural Process], refer to it for more details.\n",
    "\n",
    "[Tutorial 1 - Conditional Neural Process]: Tutorial%201%20-%20Conditional%20Neural%20Process.ipynb"
   ]
  },
  {
   "cell_type": "code",
   "execution_count": 18,
   "metadata": {},
   "outputs": [],
   "source": []
  },
  {
   "cell_type": "code",
   "execution_count": 19,
   "metadata": {},
   "outputs": [
    {
     "name": "stdout",
     "output_type": "stream",
     "text": [
      "\n",
      "--- Loading mnist/AttnCNP/run_0 ---\n",
      "\n",
      "mnist/AttnCNP/run_0 | best epoch: 16 | train loss: -1.1875 | valid loss: -1.2125 | test log likelihood: None\n",
      "\n",
      "--- Loading celeba32/AttnCNP/run_0 ---\n",
      "\n",
      "celeba32/AttnCNP/run_0 | best epoch: 20 | train loss: -3.2187 | valid loss: -3.2609 | test log likelihood: None\n",
      "\n",
      "--- Loading zs-multi-mnist/AttnCNP/run_0 ---\n",
      "\n"
     ]
    },
    {
     "ename": "FileNotFoundError",
     "evalue": "[Errno 2] No such file or directory: 'results/neural_process_imgs/zs-multi-mnist/AttnCNP/run_0/history.json'",
     "output_type": "error",
     "traceback": [
      "\u001b[0;31m---------------------------------------------------------------------------\u001b[0m",
      "\u001b[0;31mFileNotFoundError\u001b[0m                         Traceback (most recent call last)",
      "\u001b[0;32m<ipython-input-19-5d49848baaee>\u001b[0m in \u001b[0;36m<module>\u001b[0;34m\u001b[0m\n\u001b[1;32m     11\u001b[0m                                  \u001b[0mpatience\u001b[0m\u001b[0;34m=\u001b[0m\u001b[0;36m10\u001b[0m\u001b[0;34m,\u001b[0m\u001b[0;34m\u001b[0m\u001b[0;34m\u001b[0m\u001b[0m\n\u001b[1;32m     12\u001b[0m                                  \u001b[0mbatch_size\u001b[0m\u001b[0;34m=\u001b[0m\u001b[0;36m16\u001b[0m\u001b[0;34m,\u001b[0m\u001b[0;34m\u001b[0m\u001b[0;34m\u001b[0m\u001b[0m\n\u001b[0;32m---> 13\u001b[0;31m                                  seed=123) \n\u001b[0m",
      "\u001b[0;32m/master/utils/train.py\u001b[0m in \u001b[0;36mtrain_models\u001b[0;34m(datasets, models, criterion, test_datasets, chckpnt_dirname, is_retrain, runs, starting_run, train_split, device, max_epochs, batch_size, lr, optimizer, callbacks, patience, seed, datasets_kwargs, models_kwargs, **kwargs)\u001b[0m\n\u001b[1;32m    196\u001b[0m                 \u001b[0;31m# load in all case => even when training loads the best checkpoint\u001b[0m\u001b[0;34m\u001b[0m\u001b[0;34m\u001b[0m\u001b[0;34m\u001b[0m\u001b[0m\n\u001b[1;32m    197\u001b[0m                 \u001b[0mtrainer\u001b[0m\u001b[0;34m.\u001b[0m\u001b[0minitialize\u001b[0m\u001b[0;34m(\u001b[0m\u001b[0;34m)\u001b[0m\u001b[0;34m\u001b[0m\u001b[0;34m\u001b[0m\u001b[0m\n\u001b[0;32m--> 198\u001b[0;31m                 \u001b[0mtrainer\u001b[0m\u001b[0;34m.\u001b[0m\u001b[0mload_params\u001b[0m\u001b[0;34m(\u001b[0m\u001b[0mcheckpoint\u001b[0m\u001b[0;34m=\u001b[0m\u001b[0mchckpt\u001b[0m\u001b[0;34m)\u001b[0m\u001b[0;34m\u001b[0m\u001b[0;34m\u001b[0m\u001b[0m\n\u001b[0m\u001b[1;32m    199\u001b[0m \u001b[0;34m\u001b[0m\u001b[0m\n\u001b[1;32m    200\u001b[0m                 test_loglike = _eval_save_load(trainer, data_test, test_eval_file,\n",
      "\u001b[0;32m/usr/local/lib/python3.6/dist-packages/skorch/net.py\u001b[0m in \u001b[0;36mload_params\u001b[0;34m(self, f_params, f_optimizer, f_history, checkpoint)\u001b[0m\n\u001b[1;32m   1552\u001b[0m         \u001b[0;32mif\u001b[0m \u001b[0mcheckpoint\u001b[0m \u001b[0;32mis\u001b[0m \u001b[0;32mnot\u001b[0m \u001b[0;32mNone\u001b[0m\u001b[0;34m:\u001b[0m\u001b[0;34m\u001b[0m\u001b[0;34m\u001b[0m\u001b[0m\n\u001b[1;32m   1553\u001b[0m             \u001b[0;32mif\u001b[0m \u001b[0mf_history\u001b[0m \u001b[0;32mis\u001b[0m \u001b[0;32mNone\u001b[0m \u001b[0;32mand\u001b[0m \u001b[0mcheckpoint\u001b[0m\u001b[0;34m.\u001b[0m\u001b[0mf_history\u001b[0m \u001b[0;32mis\u001b[0m \u001b[0;32mnot\u001b[0m \u001b[0;32mNone\u001b[0m\u001b[0;34m:\u001b[0m\u001b[0;34m\u001b[0m\u001b[0;34m\u001b[0m\u001b[0m\n\u001b[0;32m-> 1554\u001b[0;31m                 \u001b[0mself\u001b[0m\u001b[0;34m.\u001b[0m\u001b[0mhistory\u001b[0m \u001b[0;34m=\u001b[0m \u001b[0mHistory\u001b[0m\u001b[0;34m.\u001b[0m\u001b[0mfrom_file\u001b[0m\u001b[0;34m(\u001b[0m\u001b[0mcheckpoint\u001b[0m\u001b[0;34m.\u001b[0m\u001b[0mf_history_\u001b[0m\u001b[0;34m)\u001b[0m\u001b[0;34m\u001b[0m\u001b[0;34m\u001b[0m\u001b[0m\n\u001b[0m\u001b[1;32m   1555\u001b[0m             \u001b[0mformatted_files\u001b[0m \u001b[0;34m=\u001b[0m \u001b[0mcheckpoint\u001b[0m\u001b[0;34m.\u001b[0m\u001b[0mget_formatted_files\u001b[0m\u001b[0;34m(\u001b[0m\u001b[0mself\u001b[0m\u001b[0;34m)\u001b[0m\u001b[0;34m\u001b[0m\u001b[0;34m\u001b[0m\u001b[0m\n\u001b[1;32m   1556\u001b[0m             \u001b[0mf_params\u001b[0m \u001b[0;34m=\u001b[0m \u001b[0mf_params\u001b[0m \u001b[0;32mor\u001b[0m \u001b[0mformatted_files\u001b[0m\u001b[0;34m[\u001b[0m\u001b[0;34m'f_params'\u001b[0m\u001b[0;34m]\u001b[0m\u001b[0;34m\u001b[0m\u001b[0;34m\u001b[0m\u001b[0m\n",
      "\u001b[0;32m/usr/local/lib/python3.6/dist-packages/skorch/history.py\u001b[0m in \u001b[0;36mfrom_file\u001b[0;34m(cls, f)\u001b[0m\n\u001b[1;32m    160\u001b[0m         \"\"\"\n\u001b[1;32m    161\u001b[0m \u001b[0;34m\u001b[0m\u001b[0m\n\u001b[0;32m--> 162\u001b[0;31m         \u001b[0;32mwith\u001b[0m \u001b[0mopen_file_like\u001b[0m\u001b[0;34m(\u001b[0m\u001b[0mf\u001b[0m\u001b[0;34m,\u001b[0m \u001b[0;34m'r'\u001b[0m\u001b[0;34m)\u001b[0m \u001b[0;32mas\u001b[0m \u001b[0mfp\u001b[0m\u001b[0;34m:\u001b[0m\u001b[0;34m\u001b[0m\u001b[0;34m\u001b[0m\u001b[0m\n\u001b[0m\u001b[1;32m    163\u001b[0m             \u001b[0;32mreturn\u001b[0m \u001b[0mcls\u001b[0m\u001b[0;34m(\u001b[0m\u001b[0mjson\u001b[0m\u001b[0;34m.\u001b[0m\u001b[0mload\u001b[0m\u001b[0;34m(\u001b[0m\u001b[0mfp\u001b[0m\u001b[0;34m)\u001b[0m\u001b[0;34m)\u001b[0m\u001b[0;34m\u001b[0m\u001b[0;34m\u001b[0m\u001b[0m\n\u001b[1;32m    164\u001b[0m \u001b[0;34m\u001b[0m\u001b[0m\n",
      "\u001b[0;32m/usr/lib/python3.6/contextlib.py\u001b[0m in \u001b[0;36m__enter__\u001b[0;34m(self)\u001b[0m\n\u001b[1;32m     79\u001b[0m     \u001b[0;32mdef\u001b[0m \u001b[0m__enter__\u001b[0m\u001b[0;34m(\u001b[0m\u001b[0mself\u001b[0m\u001b[0;34m)\u001b[0m\u001b[0;34m:\u001b[0m\u001b[0;34m\u001b[0m\u001b[0;34m\u001b[0m\u001b[0m\n\u001b[1;32m     80\u001b[0m         \u001b[0;32mtry\u001b[0m\u001b[0;34m:\u001b[0m\u001b[0;34m\u001b[0m\u001b[0;34m\u001b[0m\u001b[0m\n\u001b[0;32m---> 81\u001b[0;31m             \u001b[0;32mreturn\u001b[0m \u001b[0mnext\u001b[0m\u001b[0;34m(\u001b[0m\u001b[0mself\u001b[0m\u001b[0;34m.\u001b[0m\u001b[0mgen\u001b[0m\u001b[0;34m)\u001b[0m\u001b[0;34m\u001b[0m\u001b[0;34m\u001b[0m\u001b[0m\n\u001b[0m\u001b[1;32m     82\u001b[0m         \u001b[0;32mexcept\u001b[0m \u001b[0mStopIteration\u001b[0m\u001b[0;34m:\u001b[0m\u001b[0;34m\u001b[0m\u001b[0;34m\u001b[0m\u001b[0m\n\u001b[1;32m     83\u001b[0m             \u001b[0;32mraise\u001b[0m \u001b[0mRuntimeError\u001b[0m\u001b[0;34m(\u001b[0m\u001b[0;34m\"generator didn't yield\"\u001b[0m\u001b[0;34m)\u001b[0m \u001b[0;32mfrom\u001b[0m \u001b[0;32mNone\u001b[0m\u001b[0;34m\u001b[0m\u001b[0;34m\u001b[0m\u001b[0m\n",
      "\u001b[0;32m/usr/local/lib/python3.6/dist-packages/skorch/utils.py\u001b[0m in \u001b[0;36mopen_file_like\u001b[0;34m(f, mode)\u001b[0m\n\u001b[1;32m    397\u001b[0m     \u001b[0mnew_fd\u001b[0m \u001b[0;34m=\u001b[0m \u001b[0misinstance\u001b[0m\u001b[0;34m(\u001b[0m\u001b[0mf\u001b[0m\u001b[0;34m,\u001b[0m \u001b[0;34m(\u001b[0m\u001b[0mstr\u001b[0m\u001b[0;34m,\u001b[0m \u001b[0mpathlib\u001b[0m\u001b[0;34m.\u001b[0m\u001b[0mPath\u001b[0m\u001b[0;34m)\u001b[0m\u001b[0;34m)\u001b[0m\u001b[0;34m\u001b[0m\u001b[0;34m\u001b[0m\u001b[0m\n\u001b[1;32m    398\u001b[0m     \u001b[0;32mif\u001b[0m \u001b[0mnew_fd\u001b[0m\u001b[0;34m:\u001b[0m\u001b[0;34m\u001b[0m\u001b[0;34m\u001b[0m\u001b[0m\n\u001b[0;32m--> 399\u001b[0;31m         \u001b[0mf\u001b[0m \u001b[0;34m=\u001b[0m \u001b[0mopen\u001b[0m\u001b[0;34m(\u001b[0m\u001b[0mf\u001b[0m\u001b[0;34m,\u001b[0m \u001b[0mmode\u001b[0m\u001b[0;34m)\u001b[0m\u001b[0;34m\u001b[0m\u001b[0;34m\u001b[0m\u001b[0m\n\u001b[0m\u001b[1;32m    400\u001b[0m     \u001b[0;32mtry\u001b[0m\u001b[0;34m:\u001b[0m\u001b[0;34m\u001b[0m\u001b[0;34m\u001b[0m\u001b[0m\n\u001b[1;32m    401\u001b[0m         \u001b[0;32myield\u001b[0m \u001b[0mf\u001b[0m\u001b[0;34m\u001b[0m\u001b[0;34m\u001b[0m\u001b[0m\n",
      "\u001b[0;31mFileNotFoundError\u001b[0m: [Errno 2] No such file or directory: 'results/neural_process_imgs/zs-multi-mnist/AttnCNP/run_0/history.json'"
     ]
    }
   ],
   "source": [
    "# not yet traained on celeba64 (too large memory req)\n"
   ]
  },
  {
   "cell_type": "code",
   "execution_count": 20,
   "metadata": {},
   "outputs": [
    {
     "name": "stdout",
     "output_type": "stream",
     "text": [
      "\n",
      "--- Loading mnist/GridedCCP/run_0 ---\n",
      "\n",
      "mnist/GridedCCP/run_0 | best epoch: 21 | train loss: -1.2541 | valid loss: -1.2729 | test log likelihood: 1.2059\n",
      "\n",
      "--- Loading celeba32/GridedCCP/run_0 ---\n",
      "\n",
      "celeba32/GridedCCP/run_0 | best epoch: 11 | train loss: -3.3346 | valid loss: -3.4252 | test log likelihood: 3.2387\n",
      "\n",
      "--- Loading zs-multi-mnist/GridedCCP/run_0 ---\n",
      "\n",
      "zs-multi-mnist/GridedCCP/run_0 | best epoch: 11 | train loss: -1.3158 | valid loss: -1.3125 | test log likelihood: 1.2332\n"
     ]
    }
   ],
   "source": [
    "# still training celeba64\n",
    "trainers_grided = train_models(train_datasets, \n",
    "                                 add_y_dim(models_grided, train_datasets),\n",
    "                                 NeuralProcessLoss,\n",
    "                                 test_datasets=test_datasets,\n",
    "                                 chckpnt_dirname=\"results/neural_process_imgs/\", \n",
    "                                 is_retrain=False, \n",
    "                                 train_split=skorch.dataset.CVSplit(0.1), # use 10% of data for validation \n",
    "                                 iterator_train__collate_fn=cntxt_trgt_collate(get_cntxt_trgt, \n",
    "                                                                               is_return_masks=True), \n",
    "                                 iterator_valid__collate_fn=cntxt_trgt_collate(get_cntxt_trgt, \n",
    "                                                                               is_return_masks=True),\n",
    "                                 patience=10,\n",
    "                                 seed=123) "
   ]
  },
  {
   "cell_type": "code",
   "execution_count": null,
   "metadata": {},
   "outputs": [],
   "source": [
    "# still training celeba64\n",
    "trainers_grided = train_models(train_datasets, \n",
    "                                 add_y_dim(models_grided, train_datasets),\n",
    "                                 NeuralProcessLoss,\n",
    "                                 #test_datasets=test_datasets,\n",
    "                                 chckpnt_dirname=\"results/neural_process_imgs/\", \n",
    "                                 is_retrain=False, \n",
    "                                 train_split=skorch.dataset.CVSplit(0.1), # use 10% of data for validation \n",
    "                                 iterator_train__collate_fn=cntxt_trgt_collate(get_cntxt_trgt, \n",
    "                                                                               is_return_masks=True), \n",
    "                                 iterator_valid__collate_fn=cntxt_trgt_collate(get_cntxt_trgt, \n",
    "                                                                               is_return_masks=True),\n",
    "                                 patience=10,\n",
    "                                 seed=123) "
   ]
  },
  {
   "cell_type": "code",
   "execution_count": null,
   "metadata": {},
   "outputs": [],
   "source": [
    "trainers = dict()\n",
    "trainers.update(trainers_general)\n",
    "trainers.update(trainers_grided)\n",
    "\n",
    "n_datasets = len(train_datasets)\n",
    "fig, axes = plt.subplots(n_datasets, 1, figsize=(11, 5*n_datasets), sharex=True)\n",
    "\n",
    "if n_datasets ==1:\n",
    "    axes = [axes]\n",
    "\n",
    "datanames = dict()\n",
    "for k, trainer in trainers.items():\n",
    "    data_name = k.split(\"/\")[0]\n",
    "    datanames[data_name] = datanames.get(data_name, len(datanames))\n",
    "    i = datanames[data_name]\n",
    "    plot_losses(trainer.history, \n",
    "                title=\"Losses for {}\".format(\" \".join(k.split(\"/\")).replace(\"_\", \" \")), \n",
    "                ax=axes[i],\n",
    "                mode=\"validation\",\n",
    "                label_sfx=\" {}\".format(k))\n",
    "    #axes[i].set_ylim([-4, -0.])\n",
    "    #axes[i].set_xlim([0, 25])"
   ]
  },
  {
   "cell_type": "markdown",
   "metadata": {},
   "source": [
    "# One Shot Inference "
   ]
  },
  {
   "cell_type": "code",
   "execution_count": 21,
   "metadata": {},
   "outputs": [],
   "source": [
    "from neuralproc.utils.predict import AutoregressivePredictor, VanillaPredictor\n",
    "from utils.helpers import set_seed\n",
    "from utils.visualize import plot_posterior_img, plot_qualitative_with_kde\n",
    "from utils.visualize.visualize_imgs import DFLT_FIGSIZE\n"
   ]
  },
  {
   "cell_type": "markdown",
   "metadata": {},
   "source": [
    "## Missing at Random\n",
    "\n",
    "random with only 5 % of the data. The distribution show the distribution of log likelihood for the entire test set. The qualitative results are the images (from left to right) corresponding to 1% 50% and 99% percentile for `GridedCCP` folowed by 1% 50% and 99% percentile for `AttnCCP`.\n",
    "\n",
    "The first row is `GridedCCP`, while the second is `AttnCCP`.\n",
    "\n"
   ]
  },
  {
   "cell_type": "code",
   "execution_count": 22,
   "metadata": {},
   "outputs": [
    {
     "ename": "NameError",
     "evalue": "name 'trainers_general' is not defined",
     "output_type": "error",
     "traceback": [
      "\u001b[0;31m---------------------------------------------------------------------------\u001b[0m",
      "\u001b[0;31mNameError\u001b[0m                                 Traceback (most recent call last)",
      "\u001b[0;32m<ipython-input-22-9e79d92e2a45>\u001b[0m in \u001b[0;36m<module>\u001b[0;34m\u001b[0m\n\u001b[1;32m      1\u001b[0m \u001b[0mtrainers_compare\u001b[0m \u001b[0;34m=\u001b[0m \u001b[0mtrainers_grided\u001b[0m\u001b[0;34m.\u001b[0m\u001b[0mcopy\u001b[0m\u001b[0;34m(\u001b[0m\u001b[0;34m)\u001b[0m\u001b[0;34m\u001b[0m\u001b[0;34m\u001b[0m\u001b[0m\n\u001b[0;32m----> 2\u001b[0;31m \u001b[0mtrainers_compare\u001b[0m\u001b[0;34m.\u001b[0m\u001b[0mupdate\u001b[0m\u001b[0;34m(\u001b[0m\u001b[0mtrainers_general\u001b[0m\u001b[0;34m)\u001b[0m\u001b[0;34m\u001b[0m\u001b[0;34m\u001b[0m\u001b[0m\n\u001b[0m",
      "\u001b[0;31mNameError\u001b[0m: name 'trainers_general' is not defined"
     ]
    }
   ],
   "source": [
    "trainers_compare = trainers_grided.copy()\n",
    "trainers_compare.update(trainers_general)"
   ]
  },
  {
   "cell_type": "code",
   "execution_count": null,
   "metadata": {},
   "outputs": [],
   "source": [
    "for data_name, test_data in test_datasets.items():\n",
    "    test_loglike = plot_qualitative_with_kde({k:v for k,v in trainers_compare.items() if data_name in k},\n",
    "                                     test_data,\n",
    "                                     GridCntxtTrgtGetter(context_masker=RandomMasker(min_nnz=.05, max_nnz=.05, is_batch_share=True),\n",
    "                                                         target_masker=no_masker),\n",
    "                                      MeanPredictor=VanillaPredictor,\n",
    "                                     figsize=(11, 2), \n",
    "                                     percentiles=[1,50,99],\n",
    "                                     title=data_name)"
   ]
  },
  {
   "cell_type": "code",
   "execution_count": 34,
   "metadata": {},
   "outputs": [
    {
     "data": {
      "image/png": "[encoded data removed]",
      "text/plain": [
       "<Figure size 1080x648 with 1 Axes>"
      ]
     },
     "metadata": {
      "image/png": {
       "height": 458,
       "width": 851
      },
      "needs_background": "light"
     },
     "output_type": "display_data"
    }
   ],
   "source": [
    "fig, axes = plt.subplots(1,1, figsize=(15, 9))\n",
    "        \n",
    "for i, (data_name, data_test) in enumerate(test_datasets.items()):\n",
    "    if data_name == \"mnist\":\n",
    "        _=plot_posterior_img(data_test, \n",
    "                             GridCntxtTrgtGetter(context_masker=RandomMasker(min_nnz=.2, max_nnz=.2, is_batch_share=True),\n",
    "                                                 target_masker=no_masker), \n",
    "                             trainers_grided['{}/GridedCCP/run_0'.format(data_name)].module_.cpu(), \n",
    "                             MeanPredictor=VanillaPredictor,\n",
    "                             n_plots=4,\n",
    "                             is_uniform_grid=True,\n",
    "                             ax=axes)\n",
    "\n",
    "        axes.set_title(\"GridedCCP \" + data_name, fontsize=18)"
   ]
  },
  {
   "cell_type": "code",
   "execution_count": 36,
   "metadata": {},
   "outputs": [
    {
     "data": {
      "image/png": "[encoded data removed]",
      "text/plain": [
       "<Figure size 1080x648 with 1 Axes>"
      ]
     },
     "metadata": {
      "image/png": {
       "height": 245,
       "width": 851
      },
      "needs_background": "light"
     },
     "output_type": "display_data"
    }
   ],
   "source": [
    "fig, axes = plt.subplots(1,1, figsize=(15, 9))\n",
    "        \n",
    "for i, (data_name, data_test) in enumerate(test_datasets.items()):\n",
    "    if data_name == \"zs-multi-mnist\":\n",
    "        _=plot_posterior_img(data_test, \n",
    "                             GridCntxtTrgtGetter(context_masker=RandomMasker(min_nnz=.2, max_nnz=.2, is_batch_share=True),\n",
    "                                                 target_masker=no_masker), \n",
    "                             trainers_grided['{}/GridedCCP/run_0'.format(data_name)].module_.cpu(), \n",
    "                             MeanPredictor=AutoregressivePredictor,\n",
    "                             n_plots=8,\n",
    "                             is_uniform_grid=True,\n",
    "                             ax=axes)\n",
    "\n",
    "        axes.set_title(\"GridedCCP \" + data_name, fontsize=18)"
   ]
  },
  {
   "cell_type": "code",
   "execution_count": 37,
   "metadata": {},
   "outputs": [],
   "source": [
    "d=dict(a=1)"
   ]
  },
  {
   "cell_type": "code",
   "execution_count": 38,
   "metadata": {},
   "outputs": [
    {
     "data": {
      "text/plain": [
       "{'a': 1}"
      ]
     },
     "execution_count": 38,
     "metadata": {},
     "output_type": "execute_result"
    }
   ],
   "source": [
    "d.copy()"
   ]
  },
  {
   "cell_type": "markdown",
   "metadata": {},
   "source": [
    "## Structured Missing\n",
    "\n",
    "### Horizontal Half Mask"
   ]
  },
  {
   "cell_type": "code",
   "execution_count": null,
   "metadata": {},
   "outputs": [],
   "source": [
    "fig, axes = plt.subplots(len(test_datasets),1, figsize=(15, 9))\n",
    "\n",
    "if n_datasets ==1:\n",
    "    axes = [axes]\n",
    "        \n",
    "for i, (data_name, data_test) in enumerate(test_datasets.items()):\n",
    "    _=plot_posterior_img(data_test, \n",
    "                         GridCntxtTrgtGetter(context_masker=partial(half_masker, dim=1),\n",
    "                                             target_masker=no_masker), \n",
    "                         trainers_grided['{}/GridedCCP/run_0'.format(data_name)].module_.cpu(), \n",
    "                         MeanPredictor=VanillaPredictor,\n",
    "                         n_plots=4,\n",
    "                         is_uniform_grid=True,\n",
    "                         ax=axes[i])\n",
    "    \n",
    "    axes[i].set_title(\"GridedCCP \" + data_name, fontsize=18)"
   ]
  },
  {
   "cell_type": "code",
   "execution_count": null,
   "metadata": {},
   "outputs": [],
   "source": [
    "fig, axes = plt.subplots(len(test_datasets),1, figsize=(15, 9))\n",
    "\n",
    "if n_datasets ==1:\n",
    "    axes = [axes]\n",
    "        \n",
    "for i, (data_name, data_test) in enumerate(test_datasets.items()):\n",
    "    _=plot_posterior_img(data_test, \n",
    "                         GridCntxtTrgtGetter(context_masker=partial(half_masker, dim=1),\n",
    "                                             target_masker=no_masker), \n",
    "                         trainers_general['{}/AttnCNP/run_0'.format(data_name)].module_.cpu(), \n",
    "                         MeanPredictor=VanillaPredictor,\n",
    "                         n_plots=4,\n",
    "                         is_uniform_grid=False, # AttnCNP doesn't assume grid input\n",
    "                         ax=axes[i])\n",
    "    \n",
    "    axes[i].set_title(\"AttnCNP \" + data_name, fontsize=18)"
   ]
  },
  {
   "cell_type": "markdown",
   "metadata": {},
   "source": [
    "### Vertical Half Mask"
   ]
  },
  {
   "cell_type": "code",
   "execution_count": null,
   "metadata": {},
   "outputs": [],
   "source": [
    "fig, axes = plt.subplots(len(test_datasets),1, figsize=(15, 9))\n",
    "\n",
    "if n_datasets ==1:\n",
    "    axes = [axes]\n",
    "        \n",
    "for i, (data_name, data_test) in enumerate(test_datasets.items()):\n",
    "    _=plot_posterior_img(data_test, \n",
    "                         GridCntxtTrgtGetter(context_masker=partial(half_masker, dim=0), # change dim=0 for vertical\n",
    "                                             target_masker=no_masker), \n",
    "                         trainers_grided['{}/GridedCCP/run_0'.format(data_name)].module_.cpu(), \n",
    "                         MeanPredictor=VanillaPredictor,\n",
    "                         n_plots=4,\n",
    "                         is_uniform_grid=True,\n",
    "                         ax=axes[i])\n",
    "    \n",
    "    axes[i].set_title(\"GridedCCP \" + data_name, fontsize=18)"
   ]
  },
  {
   "cell_type": "code",
   "execution_count": null,
   "metadata": {},
   "outputs": [],
   "source": [
    "fig, axes = plt.subplots(len(test_datasets),1, figsize=(15, 9))\n",
    "\n",
    "if n_datasets ==1:\n",
    "    axes = [axes]\n",
    "        \n",
    "for i, (data_name, data_test) in enumerate(test_datasets.items()):\n",
    "    _=plot_posterior_img(data_test, \n",
    "                         GridCntxtTrgtGetter(context_masker=partial(half_masker, dim=0),\n",
    "                                         target_masker=no_masker), \n",
    "                         trainers_general['{}/AttnCNP/run_0'.format(data_name)].module_.cpu(), \n",
    "                         MeanPredictor=VanillaPredictor,\n",
    "                         n_plots=4,\n",
    "                         is_uniform_grid=False,\n",
    "                         ax=axes[i])\n",
    "    \n",
    "    axes[i].set_title(\"AttnCNP \" + data_name, fontsize=18)"
   ]
  },
  {
   "cell_type": "markdown",
   "metadata": {},
   "source": [
    "# Autoregressive Inference \n",
    "\n",
    "Autoregressive is as James suggested : predict all neighbors (1 manhattan distance) of context, treat it as context, predict next neighbours."
   ]
  },
  {
   "cell_type": "code",
   "execution_count": null,
   "metadata": {},
   "outputs": [],
   "source": [
    "for data_name, test_data in test_datasets.items():\n",
    "    test_loglike = plot_qualitative_with_kde({k:v for k,v in trainers_grided.items() if data_name in k},\n",
    "                                     test_data,\n",
    "                                     GridCntxtTrgtGetter(context_masker=RandomMasker(min_nnz=.05, max_nnz=.05, is_batch_share=True),\n",
    "                                                         target_masker=no_masker),\n",
    "                                      MeanPredictor=AutoregressivePredictor,\n",
    "                                     figsize=(6, 2), \n",
    "                                     percentiles=[1,50,99],\n",
    "                                     title=data_name)"
   ]
  },
  {
   "cell_type": "code",
   "execution_count": null,
   "metadata": {},
   "outputs": [],
   "source": [
    "fig, axes = plt.subplots(len(test_datasets),1, figsize=(15, 9))\n",
    "\n",
    "if n_datasets ==1:\n",
    "    axes = [axes]\n",
    "        \n",
    "for i, (data_name, data_test) in enumerate(test_datasets.items()):\n",
    "    _=plot_posterior_img(data_test, \n",
    "                         GridCntxtTrgtGetter(context_masker=partial(half_masker, dim=1), \n",
    "                                             target_masker=no_masker), \n",
    "                         trainers_grided['{}/GridedCCP/run_0'.format(data_name)].module_.cpu(), \n",
    "                         MeanPredictor=AutoregressivePredictor,\n",
    "                         n_plots=4,\n",
    "                         is_uniform_grid=True,\n",
    "                         ax=axes[i])\n",
    "    \n",
    "    axes[i].set_title(\"Autoregressive GridedCCP \" + data_name, fontsize=18)"
   ]
  },
  {
   "cell_type": "code",
   "execution_count": null,
   "metadata": {},
   "outputs": [],
   "source": [
    "fig, axes = plt.subplots(len(test_datasets),1, figsize=(15, 9))\n",
    "\n",
    "if n_datasets ==1:\n",
    "    axes = [axes]\n",
    "        \n",
    "for i, (data_name, data_test) in enumerate(test_datasets.items()):\n",
    "    _=plot_posterior_img(data_test, \n",
    "                         GridCntxtTrgtGetter(context_masker=partial(half_masker, dim=0), # change dim=0 for vertical\n",
    "                                             target_masker=no_masker), \n",
    "                         trainers_grided['{}/GridedCCP/run_0'.format(data_name)].module_.cpu(), \n",
    "                         MeanPredictor=AutoregressivePredictor,\n",
    "                         n_plots=4,\n",
    "                         is_uniform_grid=True,\n",
    "                         ax=axes[i])\n",
    "    \n",
    "    axes[i].set_title(\"Autoregressive GridedCCP \" + data_name, fontsize=18)"
   ]
  },
  {
   "cell_type": "markdown",
   "metadata": {},
   "source": [
    "# CelebA64\n",
    "\n",
    "I did not plot all CelebA64, as not all models are trained yet. Here I show `GridedUnetCCP` which finished training."
   ]
  },
  {
   "cell_type": "code",
   "execution_count": null,
   "metadata": {},
   "outputs": [],
   "source": [
    "train_datasets64 = dict(celeba64=celeba64_train)\n",
    "test_datasets64 = dict(celeba64=celeba64_test)"
   ]
  },
  {
   "cell_type": "code",
   "execution_count": null,
   "metadata": {},
   "outputs": [],
   "source": [
    "trainers_grided64 = train_models(train_datasets64, \n",
    "                                 add_y_dim(dict(GridedUnetCCP=GridedUnetCCP), train_datasets64),\n",
    "                                 NeuralProcessLoss,\n",
    "                                 test_datasets=test_datasets64,\n",
    "                                 chckpnt_dirname=\"results/neural_process_imgs/\", \n",
    "                                 is_retrain=False, \n",
    "                                 train_split=skorch.dataset.CVSplit(0.1), # use 10% of data for validation \n",
    "                                 iterator_train__collate_fn=cntxt_trgt_collate(get_cntxt_trgt, \n",
    "                                                                               is_return_masks=True), \n",
    "                                 iterator_valid__collate_fn=cntxt_trgt_collate(get_cntxt_trgt, \n",
    "                                                                               is_return_masks=True),\n",
    "                                 patience=10,\n",
    "                                 seed=123) "
   ]
  },
  {
   "cell_type": "markdown",
   "metadata": {},
   "source": [
    "## Oneshot Prediction"
   ]
  },
  {
   "cell_type": "code",
   "execution_count": null,
   "metadata": {},
   "outputs": [],
   "source": [
    "for data_name, test_data in test_datasets64.items():\n",
    "    test_loglike = plot_qualitative_with_kde({k:v for k,v in trainers_grided64.items() if data_name in k},\n",
    "                                     test_data,\n",
    "                                     GridCntxtTrgtGetter(context_masker=RandomMasker(min_nnz=.1, max_nnz=.1, is_batch_share=True),\n",
    "                                                         target_masker=no_masker),\n",
    "                                      MeanPredictor=VanillaPredictor,\n",
    "                                     figsize=(6, 2), \n",
    "                                     percentiles=[1,50,99],\n",
    "                                     title=data_name)"
   ]
  },
  {
   "cell_type": "code",
   "execution_count": null,
   "metadata": {},
   "outputs": [],
   "source": [
    "n_datasets = len(test_datasets64)\n",
    "\n",
    "fig, axes = plt.subplots(n_datasets,1, figsize=(15, 4))\n",
    "\n",
    "if n_datasets ==1:\n",
    "    axes = [axes]\n",
    "        \n",
    "for i, (data_name, data_test) in enumerate(test_datasets64.items()):\n",
    "    _=plot_posterior_img(data_test, \n",
    "                         GridCntxtTrgtGetter(context_masker=partial(half_masker, dim=1), \n",
    "                                             target_masker=no_masker), \n",
    "                         trainers_grided64['{}/GridedUnetCCP/run_0'.format(data_name)].module_.cpu(), \n",
    "                         MeanPredictor=VanillaPredictor,\n",
    "                         n_plots=4,\n",
    "                         is_uniform_grid=True,\n",
    "                         ax=axes[i])\n",
    "    \n",
    "    axes[i].set_title(\"Autoregressive GridedUnetCCP \" + data_name, fontsize=18)"
   ]
  },
  {
   "cell_type": "code",
   "execution_count": null,
   "metadata": {},
   "outputs": [],
   "source": [
    "n_datasets = len(test_datasets64)\n",
    "\n",
    "fig, axes = plt.subplots(n_datasets,1, figsize=(15, 4))\n",
    "\n",
    "if n_datasets ==1:\n",
    "    axes = [axes]\n",
    "        \n",
    "for i, (data_name, data_test) in enumerate(test_datasets64.items()):\n",
    "    _=plot_posterior_img(data_test, \n",
    "                         GridCntxtTrgtGetter(context_masker=partial(half_masker, dim=0), \n",
    "                                             target_masker=no_masker), \n",
    "                         trainers_grided64['{}/GridedUnetCCP/run_0'.format(data_name)].module_.cpu(), \n",
    "                         MeanPredictor=VanillaPredictor,\n",
    "                         n_plots=4,\n",
    "                         is_uniform_grid=True,\n",
    "                         ax=axes[i])\n",
    "    \n",
    "    axes[i].set_title(\"Autoregressive GridedUnetCCP \" + data_name, fontsize=18)"
   ]
  },
  {
   "cell_type": "markdown",
   "metadata": {},
   "source": [
    "## Autoregressive Prediction"
   ]
  },
  {
   "cell_type": "code",
   "execution_count": null,
   "metadata": {},
   "outputs": [],
   "source": [
    "for data_name, test_data in test_datasets64.items():\n",
    "    test_loglike = plot_qualitative_with_kde({k:v for k,v in trainers_grided64.items() if data_name in k},\n",
    "                                     test_data,\n",
    "                                     GridCntxtTrgtGetter(context_masker=RandomMasker(min_nnz=.1, max_nnz=.1, is_batch_share=True),\n",
    "                                                         target_masker=no_masker),\n",
    "                                      MeanPredictor=AutoregressivePredictor,\n",
    "                                     figsize=(6, 2), \n",
    "                                     percentiles=[1,50,99],\n",
    "                                     title=data_name)"
   ]
  },
  {
   "cell_type": "code",
   "execution_count": null,
   "metadata": {},
   "outputs": [],
   "source": [
    "n_datasets = len(test_datasets64)\n",
    "\n",
    "fig, axes = plt.subplots(n_datasets,1, figsize=(15, 4))\n",
    "\n",
    "if n_datasets ==1:\n",
    "    axes = [axes]\n",
    "        \n",
    "for i, (data_name, data_test) in enumerate(test_datasets64.items()):\n",
    "    _=plot_posterior_img(data_test, \n",
    "                         GridCntxtTrgtGetter(context_masker=partial(half_masker, dim=1), \n",
    "                                             target_masker=no_masker), \n",
    "                         trainers_grided64['{}/GridedUnetCCP/run_0'.format(data_name)].module_.cpu(), \n",
    "                         MeanPredictor=AutoregressivePredictor,\n",
    "                         n_plots=4,\n",
    "                         is_uniform_grid=True,\n",
    "                         ax=axes[i])\n",
    "    \n",
    "    axes[i].set_title(\"Autoregressive GridedUnetCCP \" + data_name, fontsize=18)"
   ]
  },
  {
   "cell_type": "code",
   "execution_count": null,
   "metadata": {},
   "outputs": [],
   "source": [
    "n_datasets = len(test_datasets64)\n",
    "\n",
    "fig, axes = plt.subplots(n_datasets,1, figsize=(15, 4))\n",
    "\n",
    "if n_datasets ==1:\n",
    "    axes = [axes]\n",
    "        \n",
    "for i, (data_name, data_test) in enumerate(test_datasets64.items()):\n",
    "    _=plot_posterior_img(data_test, \n",
    "                         GridCntxtTrgtGetter(context_masker=partial(half_masker, dim=0), \n",
    "                                             target_masker=no_masker), \n",
    "                         trainers_grided64['{}/GridedUnetCCP/run_0'.format(data_name)].module_.cpu(), \n",
    "                         MeanPredictor=AutoregressivePredictor,\n",
    "                         n_plots=4,\n",
    "                         is_uniform_grid=True,\n",
    "                         ax=axes[i])\n",
    "    \n",
    "    axes[i].set_title(\"Autoregressive GridedUnetCCP \" + data_name, fontsize=18)"
   ]
  },
  {
   "cell_type": "code",
   "execution_count": null,
   "metadata": {},
   "outputs": [],
   "source": []
  },
  {
   "cell_type": "code",
   "execution_count": null,
   "metadata": {},
   "outputs": [],
   "source": []
  },
  {
   "cell_type": "code",
   "execution_count": null,
   "metadata": {},
   "outputs": [],
   "source": []
  },
  {
   "cell_type": "code",
   "execution_count": null,
   "metadata": {},
   "outputs": [],
   "source": []
  }
 ],
 "metadata": {
  "kernelspec": {
   "display_name": "Python 3",
   "language": "python",
   "name": "python3"
  },
  "language_info": {
   "codemirror_mode": {
    "name": "ipython",
    "version": 3
   },
   "file_extension": ".py",
   "mimetype": "text/x-python",
   "name": "python",
   "nbconvert_exporter": "python",
   "pygments_lexer": "ipython3",
   "version": "3.7.4"
  },
  "toc": {
   "base_numbering": 1,
   "nav_menu": {},
   "number_sections": true,
   "sideBar": true,
   "skip_h1_title": true,
   "title_cell": "Table of Contents",
   "title_sidebar": "Contents",
   "toc_cell": true,
   "toc_position": {},
   "toc_section_display": true,
   "toc_window_display": false
  }
 },
 "nbformat": 4,
 "nbformat_minor": 2
}
